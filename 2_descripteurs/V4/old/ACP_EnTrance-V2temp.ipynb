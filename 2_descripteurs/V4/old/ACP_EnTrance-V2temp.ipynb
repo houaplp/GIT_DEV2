{
 "cells": [
  {
   "cell_type": "code",
   "execution_count": 15,
   "metadata": {},
   "outputs": [],
   "source": [
    "import os\n",
    "import math\n",
    "import glob\n",
    "import re\n",
    "import numpy as np\n",
    "import pandas as pd\n",
    "import matplotlib.pyplot as plt\n",
    "import sklearn\n",
    "from sklearn.linear_model import LinearRegression\n",
    "from sklearn.model_selection import train_test_split\n",
    "plt.rcParams[\"svg.fonttype\"]=\"none\"\n",
    "\n",
    "# d'apres http://eric.univ-lyon2.fr/~ricco/tanagra/fichiers/fr_Tanagra_ACP_Python.pdf"
   ]
  },
  {
   "cell_type": "code",
   "execution_count": 16,
   "metadata": {},
   "outputs": [
    {
     "name": "stdout",
     "output_type": "stream",
     "text": [
      "0.22.0\n"
     ]
    }
   ],
   "source": [
    "os.chdir(\"/Users/laurentpottier/Documents/LP/Recherches/Projet_Fondation/Langages&Maths/Anaconda/LPanalyse/_Entrance/\")\n",
    "#librairie pandas\n",
    "#version\n",
    "print(pd.__version__) # 0.23.0\n",
    "#chargement de la première feuille de données\n",
    "X = pd.read_excel(\"Xparams_entranceSelect.xlsx\",sheet_name=0,header=0,index_col=0)\n",
    "#Nous remarquons que :\n",
    "#• Le fichier est un classeur Excel nommé « autos_acp_pour_python.xlsx » ;\n",
    "#• Les données actives sont situées dans la première feuille (sheet_name = 0) ;\n",
    "#• La première ligne correspond aux noms des variables (header = 0)\n",
    "#• La première colonne aux identifiants des observations (index_col = 0)."
   ]
  },
  {
   "cell_type": "markdown",
   "metadata": {},
   "source": [
    "## Importation des données actives"
   ]
  },
  {
   "cell_type": "code",
   "execution_count": 17,
   "metadata": {},
   "outputs": [
    {
     "name": "stdout",
     "output_type": "stream",
     "text": [
      "(58, 33)\n",
      "        time     centroid           sd  c_min_sdlow  c_plus_sdHi  \\\n",
      "Label                                                              \n",
      "1Aa       10   919.596573  1120.604440        384.5       2672.8   \n",
      "1Ab1      50   816.423415  1361.964163        298.6       3486.8   \n",
      "1Ab2      70   821.647028   862.324615        353.6       2192.2   \n",
      "1B1      100   741.064445   866.594321        335.4       2123.9   \n",
      "1B2      130   964.434002  1212.919419        443.2       3114.0   \n",
      "1B3      170   645.613688   922.084507        251.6       2324.7   \n",
      "1C1      220   995.515357  1444.004875        346.2       3481.1   \n",
      "1C2      240   968.432050   977.434869        496.0       2589.7   \n",
      "2Ab      290   940.847973   964.730310        574.8       2961.0   \n",
      "2Ac1     330   728.290076   831.860043        308.7       2032.7   \n",
      "2Ac2     380   734.915490   928.370923        287.9       2258.1   \n",
      "2B1      420  1044.776426  1247.656342        464.1       3257.5   \n",
      "2B2      470   975.407822  1086.376080        405.8       2621.8   \n",
      "2C1      520   720.414356  1282.414899        211.5       3443.0   \n",
      "2C2      560  1155.058257  1817.597343        304.8       4322.9   \n",
      "3Ab1     610  1067.540817  1251.057982        490.6       3285.5   \n",
      "3Ab2     620  1010.242206   966.668252        635.4       3055.4   \n",
      "3AB1     650  1159.371149  1002.028575        536.8       2523.8   \n",
      "3AB2     690  1029.859208  1031.970991        545.9       2884.0   \n",
      "3C1      720  1083.163175  1167.025928        512.7       3198.7   \n",
      "3C2      750  1099.662915  1346.854612        336.4       3222.4   \n",
      "3C3      770   880.084890  1195.610464        296.7       2906.1   \n",
      "3ABb     800   978.996024  1000.510871        357.3       2312.6   \n",
      "3Cb1     820  1155.298720  1475.536583        442.4       3649.5   \n",
      "3Cb2     840  1050.308808  1319.953211        363.0       3252.7   \n",
      "Trans    860   727.054623   718.095547        275.9       1677.2   \n",
      "Coda1    880   763.166155   692.594828        342.9       1716.6   \n",
      "Coda2    920   620.348085   675.088763        227.3       1621.4   \n",
      "Coda3    940   335.356135   635.187017        116.6       1470.0   \n",
      "1Aa+     990  1281.211335  1221.265274        622.1       3250.9   \n",
      "1Ab1+   1030  1012.419036  1512.132780        366.8       3992.5   \n",
      "1Ab2+   1050   942.056999   986.659313        390.8       2402.6   \n",
      "1B1+    1080   814.781005   833.522347        454.1       2401.0   \n",
      "1B2+    1110  1010.856028  1295.425752        478.5       3572.8   \n",
      "1B3+    1150   735.655487   909.620105        269.4       2041.7   \n",
      "1C1+    1200  1183.367859  1859.616159        310.8       4384.6   \n",
      "1C2+    1220   951.755465  1034.172315        447.6       2693.7   \n",
      "2Ab+    1270  1124.236258  1398.344163        545.7       3888.1   \n",
      "2Ac1+   1310   633.547829   695.025264        287.4       1784.8   \n",
      "2Ac2+   1360   678.850901   942.434748        246.4       2330.8   \n",
      "2B1+    1400   952.018739  1117.349693        368.6       2669.4   \n",
      "2B2+    1450  1005.659306  1289.324859        419.4       3390.6   \n",
      "2C1+    1500   381.739376   950.247589        116.9       2376.7   \n",
      "2C2+    1520   994.049242  1287.194022        313.0       3095.4   \n",
      "3Ab1+   1580   986.168095  1448.896399        329.4       3531.6   \n",
      "3Ab2+   1600  1001.085702   969.215135        673.8       3366.1   \n",
      "3AB1+   1630   938.371658   678.927671        391.1       1734.1   \n",
      "3AB2+   1670   951.880459   917.432556        386.7       2198.2   \n",
      "3C1+    1700  1117.812906  1366.079152        380.7       3381.4   \n",
      "3C2+    1730  1033.962046  1342.323477        333.5       3340.6   \n",
      "3C3+    1750   979.189677  1309.529183        308.7       3196.9   \n",
      "3ABb+   1780   908.414670   979.820972        352.6       2312.5   \n",
      "3Cb1+   1800  1681.039404  2121.345359        600.8       5294.8   \n",
      "3Cb2    1820  1078.655718  1348.293474        413.1       3364.4   \n",
      "Trans+  1830  1106.973406  2519.641911        182.1       6849.7   \n",
      "Coda1+  1840   914.734358   845.813816        400.6       2030.4   \n",
      "Coda2+  1870   662.577311   776.601233        246.2       1837.4   \n",
      "Coda3+  1900   304.084346   826.469199        109.4       1985.4   \n",
      "\n",
      "        midi_centroid   mc_min_eclow  mc_plus_ecHi  midi_sp_slope  \\\n",
      "Label                                                               \n",
      "1Aa         75.141448           63.6          92.5   2.801931e-07   \n",
      "1Ab1        68.952296           54.9          91.2  -1.205212e-05   \n",
      "1Ab2        72.994967           56.2          87.6  -5.928170e-06   \n",
      "1B1         71.580064           57.2          85.9  -2.020293e-05   \n",
      "1B2         75.391474           61.4          92.2   4.163948e-06   \n",
      "1B3         66.313446           49.2          83.7  -6.801170e-05   \n",
      "1C1         72.415691           53.1          91.7  -1.126132e-05   \n",
      "1C2         76.980686           59.3          89.0   1.376818e-05   \n",
      "2Ab         77.944088           70.8          96.3   5.517509e-06   \n",
      "2Ac1        70.612835           54.7          85.7  -1.400776e-05   \n",
      "2Ac2        69.263561           51.4          86.2  -1.714820e-05   \n",
      "2B1         76.407117           61.6          94.0   4.669130e-06   \n",
      "2B2         75.613634           60.7          92.8   2.538165e-06   \n",
      "2C1         62.776197           47.5          89.9  -5.600507e-05   \n",
      "2C2         71.424105           53.2          96.1  -2.363878e-05   \n",
      "3Ab1        77.293897           60.6          91.8   2.284663e-06   \n",
      "3Ab2        79.060071           68.1          96.8   6.980741e-06   \n",
      "3AB1        80.688171           65.7          93.5   1.064916e-05   \n",
      "3AB2        78.413839           63.0          90.4   8.474763e-06   \n",
      "3C1         77.281819           56.7          91.1   2.135255e-05   \n",
      "3C2         73.429270           54.0          95.1  -9.039942e-06   \n",
      "3C3         70.367748           52.7          90.4  -3.246203e-05   \n",
      "3ABb        75.700969           58.3          91.6   9.082018e-07   \n",
      "3Cb1        76.516466           59.8          95.5   1.330696e-05   \n",
      "3Cb2        73.879971           56.5          94.0  -4.080969e-06   \n",
      "Trans       70.539322           47.5          84.2  -2.770209e-06   \n",
      "Coda1       73.158440           56.9          85.8  -3.286305e-06   \n",
      "Coda2       66.927141           50.7          85.2  -2.212032e-05   \n",
      "Coda3       54.763537           42.5          76.1  -1.178520e-05   \n",
      "1Aa+        80.512248           54.5          93.1   2.036433e-06   \n",
      "1Ab1+       71.953709           53.8          93.4  -3.105171e-06   \n",
      "1Ab2+       75.481833           59.8          90.9   1.621310e-06   \n",
      "1B1+        74.861356           60.2          85.9   5.535600e-07   \n",
      "1B2+        75.910725           61.3          92.9   4.641390e-06   \n",
      "1B3+        69.735248           50.1          84.8  -3.220184e-05   \n",
      "1C1+        71.119978           50.9          96.9  -1.204090e-05   \n",
      "1C2+        75.370637           56.7          89.6   3.597480e-06   \n",
      "2Ab+        78.274867           66.9          97.2   2.109285e-06   \n",
      "2Ac1+       68.926712           55.0          84.5  -1.020617e-05   \n",
      "2Ac2+       66.514491           48.3          84.8  -4.392200e-05   \n",
      "2B1+        74.383947           57.5          90.9  -8.170910e-07   \n",
      "2B2+        74.428436           56.2          91.0  -1.380131e-06   \n",
      "2C1+        52.923808           41.3          77.1  -8.390907e-05   \n",
      "2C2+        72.157818           54.5          93.3  -1.563787e-05   \n",
      "3Ab1+       72.298610           57.1          94.4  -1.856924e-06   \n",
      "3Ab2+       79.653617           72.1          98.9   1.161581e-05   \n",
      "3AB1+       76.381770           55.1          89.1   5.275473e-06   \n",
      "3AB2+       76.028789           58.8          90.2   3.910043e-06   \n",
      "3C1+        74.554446           55.5          94.3  -1.488288e-06   \n",
      "3C2+        72.251395           54.6          95.0  -1.730661e-05   \n",
      "3C3+        71.356877           54.9          94.9  -2.461097e-05   \n",
      "3ABb+       74.104956           53.5          88.2  -7.012620e-07   \n",
      "3Cb1+       81.977905           64.0         101.9   3.705606e-05   \n",
      "3Cb2        74.972489           56.9          94.2   7.170731e-07   \n",
      "Trans+      59.806026           41.6          98.9  -3.760316e-07   \n",
      "Coda1+      76.286440           60.3          89.2   2.245618e-06   \n",
      "Coda2+      67.752793           49.8          85.0  -1.231831e-05   \n",
      "Coda3+      51.638617           41.6          74.7  -7.446460e-06   \n",
      "\n",
      "            sp_slope     ...       max_amoy   min_amp     max_freq  \\\n",
      "Label                    ...                                         \n",
      "1Aa    -8.326490e-08     ...       0.009328  0.000016   389.951664   \n",
      "1Ab1   -2.761837e-07     ...       0.013113  0.000038   192.603712   \n",
      "1Ab2   -4.510521e-07     ...       0.013566  0.000022   192.603712   \n",
      "1B1    -8.942017e-07     ...       0.032299  0.000023   781.214170   \n",
      "1B2    -7.448744e-07     ...       0.028053  0.000032   781.214170   \n",
      "1B3    -1.197665e-06     ...       0.022839  0.000053   781.214170   \n",
      "1C1    -5.637709e-07     ...       0.013089  0.000056   304.531443   \n",
      "1C2    -7.229764e-07     ...       0.050824  0.000032   781.214170   \n",
      "2Ab    -2.073162e-07     ...       0.030750  0.000015   619.887232   \n",
      "2Ac1   -4.783081e-07     ...       0.012468  0.000016   619.887232   \n",
      "2Ac2   -4.390396e-07     ...       0.010821  0.000014   983.442372   \n",
      "2B1    -3.092736e-07     ...       0.013519  0.000031   619.887232   \n",
      "2B2    -3.372068e-07     ...       0.011683  0.000026   492.313660   \n",
      "2C1    -6.618859e-07     ...       0.020936  0.000025    96.296262   \n",
      "2C2    -7.225368e-07     ...       0.032459  0.000030   192.603712   \n",
      "3Ab1   -9.714905e-08     ...       0.005203  0.000011   304.531443   \n",
      "3Ab2   -1.843644e-07     ...       0.027772  0.000015   781.214170   \n",
      "3AB1   -1.797375e-07     ...       0.008537  0.000023  1241.084244   \n",
      "3AB2   -2.588885e-07     ...       0.011759  0.000015   983.442372   \n",
      "3C1    -9.001531e-07     ...       0.069421  0.000060   781.214170   \n",
      "3C2    -7.385658e-07     ...       0.029505  0.000053   389.951664   \n",
      "3C3    -9.414687e-07     ...       0.017421  0.000037   983.442372   \n",
      "3ABb   -1.095157e-07     ...       0.004679  0.000013  1241.084244   \n",
      "3Cb1   -7.513478e-07     ...       0.028575  0.000068   304.531443   \n",
      "3Cb2   -5.325679e-07     ...       0.013792  0.000020   389.951664   \n",
      "Trans  -9.300698e-08     ...       0.002326  0.000010   781.214170   \n",
      "Coda1  -2.874219e-07     ...       0.009397  0.000015   983.442372   \n",
      "Coda2  -4.268118e-07     ...       0.008773  0.000016   389.951664   \n",
      "Coda3  -1.044364e-07     ...       0.005241  0.000009    96.296262   \n",
      "1Aa+   -3.144301e-08     ...       0.002181  0.000016   389.951664   \n",
      "1Ab1+  -1.278160e-07     ...       0.005888  0.000023   389.951664   \n",
      "1Ab2+  -2.597152e-07     ...       0.007279  0.000024   192.603712   \n",
      "1B1+   -5.509120e-07     ...       0.022699  0.000017   781.214170   \n",
      "1B2+   -4.488228e-07     ...       0.017702  0.000026   781.214170   \n",
      "1B3+   -9.018971e-07     ...       0.039049  0.000031   781.214170   \n",
      "1C1+   -3.282674e-07     ...       0.011148  0.000044  3133.284531   \n",
      "1C2+   -6.709904e-07     ...       0.039068  0.000032   781.214170   \n",
      "2Ab+   -6.176053e-08     ...       0.006947  0.000017   619.887232   \n",
      "2Ac1+  -2.626515e-07     ...       0.005886  0.000012   389.951664   \n",
      "2Ac2+  -7.759215e-07     ...       0.017796  0.000018   192.603712   \n",
      "2B1+   -2.843403e-07     ...       0.009501  0.000016   304.531443   \n",
      "2B2+   -5.286753e-07     ...       0.023628  0.000026   619.887232   \n",
      "2C1+   -6.643012e-07     ...       0.034230  0.000024    96.296262   \n",
      "2C2+   -7.051572e-07     ...       0.021340  0.000021   192.603712   \n",
      "3Ab1+  -8.914435e-08     ...       0.009062  0.000016   304.531443   \n",
      "3Ab2+  -2.718100e-07     ...       0.041438  0.000019   781.214170   \n",
      "3AB1+  -3.862375e-07     ...       0.012009  0.000016   619.887232   \n",
      "3AB2+  -3.602013e-07     ...       0.012030  0.000017  1241.084244   \n",
      "3C1+   -8.945644e-07     ...       0.033259  0.000052   781.214170   \n",
      "3C2+   -7.840569e-07     ...       0.029073  0.000032   389.951664   \n",
      "3C3+   -8.561733e-07     ...       0.028718  0.000020   304.531443   \n",
      "3ABb+  -1.393391e-07     ...       0.005817  0.000016   619.887232   \n",
      "3Cb1+  -2.671803e-07     ...       0.017980  0.000030   781.214170   \n",
      "3Cb2   -3.172297e-07     ...       0.009220  0.000019   781.214170   \n",
      "Trans+ -2.657196e-09     ...       0.000250  0.000005   192.603712   \n",
      "Coda1+ -1.776240e-07     ...       0.007422  0.000016   983.442372   \n",
      "Coda2+ -2.589076e-07     ...       0.005891  0.000015   492.313660   \n",
      "Coda3+ -5.799141e-08     ...       0.002116  0.000009    96.296262   \n",
      "\n",
      "         max_moy_freq  mode_freq1  mode_freq2  mode_freq3  cell_sup_ampmoy  \\\n",
      "Label                                                                        \n",
      "1Aa        389.951664       269.2       269.2      1109.0         0.076923   \n",
      "1Ab1       389.951664       140.0       269.2       699.8         0.100000   \n",
      "1Ab2       192.603712       172.3       441.4       872.1         0.100000   \n",
      "1B1        619.887232       215.3       441.4       699.8         0.125000   \n",
      "1B2        619.887232       269.2       441.4       872.1         0.383333   \n",
      "1B3        619.887232       107.7       269.2       699.8         0.504167   \n",
      "1C1        619.887232       172.3       441.4      1109.0         0.083333   \n",
      "1C2        781.214170       344.5       549.1       872.1         0.250000   \n",
      "2Ab        619.887232       441.4       441.4       549.1         0.400000   \n",
      "2Ac1       619.887232       172.3       344.5       872.1         0.556061   \n",
      "2Ac2       192.603712       140.0       344.5       872.1         0.235294   \n",
      "2B1        619.887232       269.2       441.4      1109.0         0.066667   \n",
      "2B2        619.887232       269.2       441.4      1109.0         0.142857   \n",
      "2C1        240.746256        86.1       172.3       441.4         0.415584   \n",
      "2C2        192.603712       140.0       269.2      1109.0         0.400000   \n",
      "3Ab1       304.531443       215.3       549.1      1109.0         0.225490   \n",
      "3Ab2       781.214170       549.1       549.1       699.8         0.125000   \n",
      "3AB1      1241.084244       441.4       699.8      1109.0         0.166667   \n",
      "3AB2       983.442372       344.5       549.1      1109.0         0.294118   \n",
      "3C1        781.214170       269.2       549.1       872.1         0.375000   \n",
      "3C2        389.951664       140.0       344.5      1388.9         0.742308   \n",
      "3C3        389.951664       140.0       269.2       872.1         0.167647   \n",
      "3ABb      1241.084244       215.3       441.4      1109.0         0.111111   \n",
      "3Cb1       619.887232       269.2       441.4      1388.9         0.296919   \n",
      "3Cb2       492.313660       172.3       344.5      1109.0         0.490614   \n",
      "Trans      781.214170       215.3       441.4       872.1         0.371814   \n",
      "Coda1      983.442372       215.3       441.4       872.1         0.058824   \n",
      "Coda2      155.312588       107.7       269.2       872.1         0.076923   \n",
      "Coda3       96.296262        64.6        86.1       441.4         0.142857   \n",
      "1Aa+      1241.084244       344.5       872.1      1388.9         0.076923   \n",
      "1Ab1+      389.951664       140.0       269.2       872.1         0.153846   \n",
      "1Ab2+      619.887232       215.3       441.4      1109.0         1.087500   \n",
      "1B1+       781.214170       269.2       441.4       699.8         0.125000   \n",
      "1B2+       492.313660       344.5       441.4       872.1         0.262500   \n",
      "1B3+       781.214170       140.0       344.5       699.8         0.312500   \n",
      "1C1+        96.296262       107.7       344.5      1109.0         0.200216   \n",
      "1C2+       781.214170       269.2       549.1       872.1         0.187500   \n",
      "2Ab+       619.887232       441.4       441.4       872.1         0.200000   \n",
      "2Ac1+      619.887232       172.3       269.2       699.8         0.153846   \n",
      "2Ac2+      192.603712       107.7       269.2       699.8         0.300000   \n",
      "2B1+       304.531443       215.3       441.4      1109.0         0.333333   \n",
      "2B2+       619.887232       269.2       441.4       872.1         0.947619   \n",
      "2C1+        96.296262        64.6        64.6       269.2         0.571429   \n",
      "2C2+       192.603712       140.0       344.5      1109.0         0.571429   \n",
      "3Ab1+      304.531443       215.3       215.3      1109.0         0.666667   \n",
      "3Ab2+      781.214170       549.1       549.1       699.8         0.187500   \n",
      "3AB1+     1241.084244       269.2       549.1      1109.0         0.303268   \n",
      "3AB2+      389.951664       269.2       549.1      1109.0         0.558721   \n",
      "3C1+       781.214170       172.3       441.4      1388.9         0.250000   \n",
      "3C2+       389.951664       140.0       269.2      1109.0         0.894231   \n",
      "3C3+       389.951664       140.0       269.2      1109.0         0.314103   \n",
      "3ABb+      619.887232       215.3       441.4      1109.0         0.266667   \n",
      "3Cb1+      781.214170       269.2       549.1      1755.0         0.349838   \n",
      "3Cb2       781.214170       215.3       441.4      1109.0         0.273352   \n",
      "Trans+     192.603712        86.1       140.0       344.5         0.300000   \n",
      "Coda1+     983.442372       344.5       549.1      1109.0         0.294118   \n",
      "Coda2+     389.951664       140.0       269.2       872.1         0.426955   \n",
      "Coda3+      96.296262        64.6        86.1       215.3         0.428571   \n",
      "\n",
      "        highcell_sup_ampmoy  nbandSupMed  \n",
      "Label                                     \n",
      "1Aa                  0.0000            1  \n",
      "1Ab1                 0.0000            2  \n",
      "1Ab2                 1.4286            7  \n",
      "1B1                  0.0000            3  \n",
      "1B2                  1.4286            4  \n",
      "1B3                  0.0000            9  \n",
      "1C1                  7.0963            8  \n",
      "1C2                  0.0000            1  \n",
      "2Ab                  0.0000            1  \n",
      "2Ac1                 0.0000            7  \n",
      "2Ac2                 0.0000            5  \n",
      "2B1                  0.0000            4  \n",
      "2B2                  0.0000            5  \n",
      "2C1                  0.0000            4  \n",
      "2C2                  1.6104            2  \n",
      "3Ab1                 0.0000            2  \n",
      "3Ab2                 0.0000            1  \n",
      "3AB1                 0.0000            6  \n",
      "3AB2                 0.0000            4  \n",
      "3C1                  0.0000            1  \n",
      "3C2                  7.5649            2  \n",
      "3C3                  2.4150           11  \n",
      "3ABb                 2.8571            3  \n",
      "3Cb1                 2.5000            5  \n",
      "3Cb2                 9.4175            8  \n",
      "Trans                0.0000            6  \n",
      "Coda1                0.0000            5  \n",
      "Coda2                0.0000            7  \n",
      "Coda3                0.0000            1  \n",
      "1Aa+                 5.7143            4  \n",
      "1Ab1+                0.0000            3  \n",
      "1Ab2+               13.2143            8  \n",
      "1B1+                 0.0000            2  \n",
      "1B2+                 0.7143            4  \n",
      "1B3+                 0.0000            1  \n",
      "1C1+                 4.3823            4  \n",
      "1C2+                 0.0000            1  \n",
      "2Ab+                 0.0000            1  \n",
      "2Ac1+                0.0000            7  \n",
      "2Ac2+                0.0000            7  \n",
      "2B1+                 1.0544            7  \n",
      "2B2+                 0.3106            2  \n",
      "2C1+                 0.0000            1  \n",
      "2C2+                 6.3142            5  \n",
      "3Ab1+                0.0000            1  \n",
      "3Ab2+                0.0000            1  \n",
      "3AB1+                4.6429            8  \n",
      "3AB2+                5.0000            7  \n",
      "3C1+                 0.0000            4  \n",
      "3C2+                 3.0813            3  \n",
      "3C3+                 1.7857            5  \n",
      "3ABb+                0.0000            3  \n",
      "3Cb1+                2.4364            5  \n",
      "3Cb2                 1.9378            7  \n",
      "Trans+               0.0000            1  \n",
      "Coda1+               0.0000            3  \n",
      "Coda2+               0.0000            7  \n",
      "Coda3+               0.0000            3  \n",
      "\n",
      "[58 rows x 33 columns]\n"
     ]
    }
   ],
   "source": [
    "#dimension\n",
    "print(X.shape) # (18, 6)\n",
    "#nombre d'observations\n",
    "n = X.shape[0]\n",
    "#nombre de variables\n",
    "p = X.shape[1]\n",
    "#affichage des données\n",
    "print( X)"
   ]
  },
  {
   "cell_type": "markdown",
   "metadata": {},
   "source": [
    "## Préparation des données"
   ]
  },
  {
   "cell_type": "code",
   "execution_count": 18,
   "metadata": {},
   "outputs": [
    {
     "name": "stdout",
     "output_type": "stream",
     "text": [
      "0.19.1\n"
     ]
    }
   ],
   "source": [
    "#vérification de la version\n",
    "print(sklearn.__version__) # 0.19.1"
   ]
  },
  {
   "cell_type": "code",
   "execution_count": 19,
   "metadata": {},
   "outputs": [
    {
     "name": "stdout",
     "output_type": "stream",
     "text": [
      "[[-1.74061089 -0.01248823 -0.05843546 ... -1.08950871 -0.55032879\n",
      "  -1.22448613]\n",
      " [-1.67024642 -0.46971176  0.62737841 ... -0.98549994 -0.55032879\n",
      "  -0.83426528]\n",
      " [-1.63506418 -0.44656272 -0.7923271  ... -0.98549994 -0.02563417\n",
      "   1.116839  ]\n",
      " ...\n",
      " [ 1.47856388 -0.03403569 -0.83924187 ... -0.11060269 -0.55032879\n",
      "  -0.44404442]\n",
      " [ 1.53133723 -1.15149818 -1.03590662 ...  0.48810321 -0.55032879\n",
      "   1.116839  ]\n",
      " [ 1.58411059 -2.74020033 -0.89420881 ...  0.49538674 -0.55032879\n",
      "  -0.44404442]]\n"
     ]
    }
   ],
   "source": [
    "#classe pour standardisation\n",
    "from sklearn.preprocessing import StandardScaler\n",
    "#instanciation\n",
    "sc = StandardScaler()\n",
    "#transformation – centrage-réduction\n",
    "Z = sc.fit_transform(X)\n",
    "print(Z)"
   ]
  },
  {
   "cell_type": "code",
   "execution_count": 20,
   "metadata": {},
   "outputs": [
    {
     "name": "stdout",
     "output_type": "stream",
     "text": [
      "moyenne [-3.82835526e-18 -5.05342894e-16  2.25872960e-16 -4.82372762e-16\n",
      "  5.24484670e-16 -1.75338671e-15 -4.67059341e-16  3.61396736e-15\n",
      "  5.17426140e-17 -9.95372367e-17 -1.14850658e-16  2.06731184e-16\n",
      "  1.83761052e-16  6.81447236e-16  3.06268421e-17  1.14850658e-17\n",
      " -2.91912088e-16 -1.91417763e-16  5.74253289e-17 -6.65176726e-17\n",
      " -1.53134210e-17 -8.61379933e-17 -9.95372367e-17  1.22507368e-16\n",
      "  7.65671051e-18  1.37820789e-16 -1.41649145e-16 -3.82835526e-17\n",
      "  1.22507368e-16 -4.59402631e-17  4.88115295e-17 -6.12536841e-17\n",
      " -1.42606233e-16]\n",
      "ecart [1. 1. 1. 1. 1. 1. 1. 1. 1. 1. 1. 1. 1. 1. 1. 1. 1. 1. 1. 1. 1. 1. 1. 1.\n",
      " 1. 1. 1. 1. 1. 1. 1. 1. 1.]\n"
     ]
    }
   ],
   "source": [
    "#vérification - librairie numpy\n",
    "import numpy\n",
    "#moyenne\n",
    "print(\"moyenne\", numpy.mean(Z,axis=0))\n",
    "\n",
    "#écart-type\n",
    "print(\"ecart\", numpy.std(Z,axis=0,ddof=0))"
   ]
  },
  {
   "cell_type": "markdown",
   "metadata": {},
   "source": [
    "## Analyse en composantes principales avec PCA de ‘’scikit-learn’’"
   ]
  },
  {
   "cell_type": "code",
   "execution_count": 21,
   "metadata": {},
   "outputs": [
    {
     "name": "stdout",
     "output_type": "stream",
     "text": [
      "PCA(copy=True, iterated_power='auto', n_components=None, random_state=None,\n",
      "  svd_solver='full', tol=0.0, whiten=False)\n"
     ]
    }
   ],
   "source": [
    "# Il faut instancier l’objet PCA dans un premier temps, nous affichons ses propriétés.\n",
    "\n",
    "\n",
    "#classe pour l'ACP\n",
    "from sklearn.decomposition import PCA\n",
    "#instanciation\n",
    "acp = PCA(svd_solver='full')\n",
    "\n",
    "#affichage des paramètres\n",
    "print(acp)"
   ]
  },
  {
   "cell_type": "code",
   "execution_count": 22,
   "metadata": {},
   "outputs": [
    {
     "name": "stdout",
     "output_type": "stream",
     "text": [
      "33\n"
     ]
    }
   ],
   "source": [
    "#calculs\n",
    "coord = acp.fit_transform(Z)\n",
    "#nombre de composantes calculées\n",
    "print(acp.n_components_) # 6"
   ]
  },
  {
   "cell_type": "code",
   "execution_count": 23,
   "metadata": {},
   "outputs": [
    {
     "name": "stdout",
     "output_type": "stream",
     "text": [
      "[9.53521362e+00 7.08605906e+00 4.95364365e+00 3.01736529e+00\n",
      " 1.63854126e+00 1.19597587e+00 1.13123036e+00 8.87244703e-01\n",
      " 7.28175614e-01 5.47874136e-01 4.87667008e-01 4.56334439e-01\n",
      " 4.13939189e-01 3.59735474e-01 2.63526847e-01 1.94905841e-01\n",
      " 1.48157397e-01 1.10425711e-01 9.59484174e-02 7.51736207e-02\n",
      " 6.53848436e-02 5.11219795e-02 3.73091428e-02 3.16444526e-02\n",
      " 2.25559590e-02 1.23338544e-02 1.10824173e-02 7.74701008e-03\n",
      " 6.39641051e-03 2.49744458e-03 1.99853184e-03 1.31340604e-03\n",
      " 4.24404456e-04]\n",
      "[9.37081338e+00 6.96388563e+00 4.86823601e+00 2.96534175e+00\n",
      " 1.61029055e+00 1.17535560e+00 1.11172638e+00 8.71947380e-01\n",
      " 7.15620862e-01 5.38428030e-01 4.79258956e-01 4.48466604e-01\n",
      " 4.06802306e-01 3.53533138e-01 2.58983281e-01 1.91545396e-01\n",
      " 1.45602959e-01 1.08521820e-01 9.42941344e-02 7.38775238e-02\n",
      " 6.42575187e-02 5.02405661e-02 3.66658817e-02 3.10988586e-02\n",
      " 2.21670632e-02 1.21212017e-02 1.08913411e-02 7.61344094e-03\n",
      " 6.28612757e-03 2.45438519e-03 1.96407439e-03 1.29076111e-03\n",
      " 4.17087138e-04]\n",
      "[9.37081338e+00 6.96388563e+00 4.86823601e+00 2.96534175e+00\n",
      " 1.61029055e+00 1.17535560e+00 1.11172638e+00 8.71947380e-01\n",
      " 7.15620862e-01 5.38428030e-01 4.79258956e-01 4.48466604e-01\n",
      " 4.06802306e-01 3.53533138e-01 2.58983281e-01 1.91545396e-01\n",
      " 1.45602959e-01 1.08521820e-01 9.42941344e-02 7.38775238e-02\n",
      " 6.42575187e-02 5.02405661e-02 3.66658817e-02 3.10988586e-02\n",
      " 2.21670632e-02 1.21212017e-02 1.08913411e-02 7.61344094e-03\n",
      " 6.28612757e-03 2.45438519e-03 1.96407439e-03 1.29076111e-03\n",
      " 4.17087138e-04]\n"
     ]
    }
   ],
   "source": [
    "# Valeurs propres et scree plot\n",
    "#variance expliquée\n",
    "print(acp.explained_variance_)\n",
    "\n",
    "#valeur corrigée\n",
    "eigval = (n-1)/n*acp.explained_variance_\n",
    "print(eigval)\n",
    "\n",
    "#ou bien en passant par les valeurs singulières\n",
    "print(acp.singular_values_**2/n)"
   ]
  },
  {
   "cell_type": "code",
   "execution_count": 24,
   "metadata": {},
   "outputs": [
    {
     "name": "stdout",
     "output_type": "stream",
     "text": [
      "[2.83964042e-01 2.11026837e-01 1.47522303e-01 8.98588408e-02\n",
      " 4.87966834e-02 3.56168363e-02 3.36886783e-02 2.64226479e-02\n",
      " 2.16854807e-02 1.63160009e-02 1.45229987e-02 1.35898971e-02\n",
      " 1.23273426e-02 1.07131254e-02 7.84797821e-03 5.80440593e-03\n",
      " 4.41221088e-03 3.28853999e-03 2.85739801e-03 2.23871284e-03\n",
      " 1.94719754e-03 1.52244140e-03 1.11108732e-03 9.42389656e-04\n",
      " 6.71729187e-04 3.67309144e-04 3.30040639e-04 2.30710331e-04\n",
      " 1.90488714e-04 7.43753089e-05 5.95174058e-05 3.91139731e-05\n",
      " 1.26390042e-05]\n"
     ]
    }
   ],
   "source": [
    "#proportion de variance expliquée\n",
    "print(acp.explained_variance_ratio_)"
   ]
  },
  {
   "cell_type": "code",
   "execution_count": null,
   "metadata": {},
   "outputs": [],
   "source": []
  },
  {
   "cell_type": "code",
   "execution_count": 25,
   "metadata": {},
   "outputs": [
    {
     "data": {
      "image/png": "[encoded data removed]",
      "text/plain": [
       "<matplotlib.figure.Figure at 0x1a16938898>"
      ]
     },
     "metadata": {},
     "output_type": "display_data"
    }
   ],
   "source": [
    "#scree plot\n",
    "plt.plot(np.arange(1,p+1),eigval)\n",
    "#plt.plot(np.arange(1,n+1),eigval) ???????? si n < p\n",
    "\n",
    "plt.title(\"Scree plot\")\n",
    "plt.ylabel(\"Eigen values\")\n",
    "plt.xlabel(\"Factor number\")\n",
    "plt.show()"
   ]
  },
  {
   "cell_type": "code",
   "execution_count": 26,
   "metadata": {},
   "outputs": [
    {
     "data": {
      "image/png": "[encoded data removed]",
      "text/plain": [
       "<matplotlib.figure.Figure at 0x1a169087f0>"
      ]
     },
     "metadata": {},
     "output_type": "display_data"
    }
   ],
   "source": [
    "#cumul de variance expliquée\n",
    "plt.plot(np.arange(1,p+1),np.cumsum(acp.explained_variance_ratio_))\n",
    "plt.title(\"Explained variance vs. # of factors\")\n",
    "plt.ylabel(\"Cumsum explained variance ratio\")\n",
    "plt.xlabel(\"Factor number\")\n",
    "plt.show()"
   ]
  },
  {
   "cell_type": "code",
   "execution_count": 27,
   "metadata": {},
   "outputs": [],
   "source": [
    "#seuils pour test des bâtons brisés\n",
    "bs = 1/np.arange(p,0,-1)\n",
    "#bs = 1/np.arange(n,0,-1)\n",
    "bs = np.cumsum(bs)\n",
    "bs = bs[::-1]"
   ]
  },
  {
   "cell_type": "code",
   "execution_count": 28,
   "metadata": {},
   "outputs": [
    {
     "name": "stdout",
     "output_type": "stream",
     "text": [
      "      Seuils  Val.Propre\n",
      "0   4.088798    9.370813\n",
      "1   3.088798    6.963886\n",
      "2   2.588798    4.868236\n",
      "3   2.255465    2.965342\n",
      "4   2.005465    1.610291\n",
      "5   1.805465    1.175356\n",
      "6   1.638798    1.111726\n",
      "7   1.495941    0.871947\n",
      "8   1.370941    0.715621\n",
      "9   1.259830    0.538428\n",
      "10  1.159830    0.479259\n",
      "11  1.068921    0.448467\n",
      "12  0.985588    0.406802\n",
      "13  0.908664    0.353533\n",
      "14  0.837236    0.258983\n",
      "15  0.770569    0.191545\n",
      "16  0.708069    0.145603\n",
      "17  0.649246    0.108522\n",
      "18  0.593690    0.094294\n",
      "19  0.541059    0.073878\n",
      "20  0.491059    0.064258\n",
      "21  0.443440    0.050241\n",
      "22  0.397985    0.036666\n",
      "23  0.354507    0.031099\n",
      "24  0.312840    0.022167\n",
      "25  0.272840    0.012121\n",
      "26  0.234379    0.010891\n",
      "27  0.197341    0.007613\n",
      "28  0.161627    0.006286\n",
      "29  0.127144    0.002454\n",
      "30  0.093811    0.001964\n",
      "31  0.061553    0.001291\n",
      "32  0.030303    0.000417\n"
     ]
    }
   ],
   "source": [
    "#test des bâtons brisés\n",
    "print(pd.DataFrame({'Val.Propre':eigval,'Seuils':bs}))\n"
   ]
  },
  {
   "cell_type": "code",
   "execution_count": 34,
   "metadata": {},
   "outputs": [
    {
     "data": {
      "image/png": "[encoded data removed]",
      "text/plain": [
       "<matplotlib.figure.Figure at 0x1a2252abe0>"
      ]
     },
     "metadata": {},
     "output_type": "display_data"
    }
   ],
   "source": [
    "#positionnement des individus dans le premier plan\n",
    "fig, axes = plt.subplots(figsize=(12,12))\n",
    "axes.set_xlim(-8,10) #même limites en abscisse\n",
    "axes.set_ylim(-5,5) #et en ordonnée\n",
    "#placement des étiquettes des observations\n",
    "for i in range(n):\n",
    " plt.annotate(X.index[i],(coord[i,0],coord[i,1]))\n",
    "#ajouter les axes\n",
    "plt.plot([-10, 10],[0,0],color='silver',linestyle='-',linewidth=1)\n",
    "plt.plot([0,0],[-12, 12],color='silver',linestyle='-',linewidth=1)\n",
    "#affichage\n",
    "#plt.show()\n",
    "\n",
    "\n",
    "dest = \"entrance_ACP1.pdf\"\n",
    "   \n",
    "plt.savefig(dest)"
   ]
  },
  {
   "cell_type": "code",
   "execution_count": 35,
   "metadata": {},
   "outputs": [
    {
     "name": "stdout",
     "output_type": "stream",
     "text": [
      "        ID         d_i\n",
      "0      1Aa   38.532275\n",
      "1     1Ab1   16.079238\n",
      "2     1Ab2   11.904587\n",
      "3      1B1   26.836433\n",
      "4      1B2   11.638827\n",
      "5      1B3   53.550401\n",
      "6      1C1   43.084415\n",
      "7      1C2   38.132972\n",
      "8      2Ab   34.109005\n",
      "9     2Ac1   14.981190\n",
      "10    2Ac2   14.659441\n",
      "11     2B1    9.240854\n",
      "12     2B2    7.486999\n",
      "13     2C1   31.421501\n",
      "14     2C2   41.006599\n",
      "15    3Ab1   16.663409\n",
      "16    3Ab2   38.827669\n",
      "17    3AB1   37.948938\n",
      "18    3AB2   16.942870\n",
      "19     3C1   72.105427\n",
      "20     3C2   36.008527\n",
      "21     3C3   26.030982\n",
      "22    3ABb   25.049915\n",
      "23    3Cb1   32.414332\n",
      "24    3Cb2   18.657812\n",
      "25   Trans   27.584628\n",
      "26   Coda1   19.431756\n",
      "27   Coda2   24.351801\n",
      "28   Coda3  113.709423\n",
      "29    1Aa+   50.946006\n",
      "30   1Ab1+   18.435388\n",
      "31   1Ab2+   42.178534\n",
      "32    1B1+   16.583753\n",
      "33    1B2+    5.752562\n",
      "34    1B3+   26.263581\n",
      "35    1C1+   79.620965\n",
      "36    1C2+   22.051165\n",
      "37    2Ab+   36.873891\n",
      "38   2Ac1+   21.727165\n",
      "39   2Ac2+   24.378685\n",
      "40    2B1+    8.620465\n",
      "41    2B2+   16.450244\n",
      "42    2C1+   86.354098\n",
      "43    2C2+   18.022475\n",
      "44   3Ab1+   19.234515\n",
      "45   3Ab2+   49.700534\n",
      "46   3AB1+   28.088716\n",
      "47   3AB2+   14.676721\n",
      "48    3C1+   37.500287\n",
      "49    3C2+   27.511087\n",
      "50    3C3+   18.642269\n",
      "51   3ABb+   13.911264\n",
      "52   3Cb1+   77.556439\n",
      "53    3Cb2   12.235373\n",
      "54  Trans+   88.622866\n",
      "55  Coda1+   21.948569\n",
      "56  Coda2+   22.885595\n",
      "57  Coda3+  108.834566\n"
     ]
    }
   ],
   "source": [
    "#contribution des individus dans l'inertie totale\n",
    "di = np.sum(Z**2,axis=1)\n",
    "print(pd.DataFrame({'ID':X.index,'d_i':di}))"
   ]
  },
  {
   "cell_type": "code",
   "execution_count": 36,
   "metadata": {},
   "outputs": [
    {
     "name": "stdout",
     "output_type": "stream",
     "text": [
      "      COS2_1    COS2_2      id\n",
      "0   0.007360  0.253921     1Aa\n",
      "1   0.075350  0.045160    1Ab1\n",
      "2   0.149904  0.004598    1Ab2\n",
      "3   0.008734  0.074090     1B1\n",
      "4   0.288052  0.087398     1B2\n",
      "5   0.079202  0.473543     1B3\n",
      "6   0.098072  0.204712     1C1\n",
      "7   0.176098  0.043306     1C2\n",
      "8   0.061267  0.256980     2Ab\n",
      "9   0.286435  0.004181    2Ac1\n",
      "10  0.470059  0.014479    2Ac2\n",
      "11  0.358090  0.141049     2B1\n",
      "12  0.043854  0.164521     2B2\n",
      "13  0.239410  0.460393     2C1\n",
      "14  0.118795  0.454546     2C2\n",
      "15  0.013797  0.473065    3Ab1\n",
      "16  0.110161  0.411616    3Ab2\n",
      "17  0.210410  0.541871    3AB1\n",
      "18  0.125932  0.642169    3AB2\n",
      "19  0.321354  0.181362     3C1\n",
      "20  0.250001  0.402759     3C2\n",
      "21  0.000692  0.502910     3C3\n",
      "22  0.006076  0.522156    3ABb\n",
      "23  0.553378  0.216418    3Cb1\n",
      "24  0.107845  0.057650    3Cb2\n",
      "25  0.459483  0.238904   Trans\n",
      "26  0.179644  0.385907   Coda1\n",
      "27  0.693341  0.001650   Coda2\n",
      "28  0.809925  0.008520   Coda3\n",
      "29  0.129562  0.461319    1Aa+\n",
      "30  0.007260  0.006105   1Ab1+\n",
      "31  0.000678  0.019343   1Ab2+\n",
      "32  0.007776  0.093043    1B1+\n",
      "33  0.378949  0.038021    1B2+\n",
      "34  0.036727  0.286751    1B3+\n",
      "35  0.074402  0.109294    1C1+\n",
      "36  0.149067  0.069083    1C2+\n",
      "37  0.110255  0.430249    2Ab+\n",
      "38  0.670971  0.122808   2Ac1+\n",
      "39  0.430911  0.323891   2Ac2+\n",
      "40  0.011204  0.074776    2B1+\n",
      "41  0.130812  0.095937    2B2+\n",
      "42  0.561266  0.273612    2C1+\n",
      "43  0.036444  0.404059    2C2+\n",
      "44  0.014760  0.061675   3Ab1+\n",
      "45  0.165729  0.218254   3Ab2+\n",
      "46  0.004905  0.281417   3AB1+\n",
      "47  0.004675  0.113664   3AB2+\n",
      "48  0.457513  0.308332    3C1+\n",
      "49  0.120325  0.372086    3C2+\n",
      "50  0.066658  0.478808    3C3+\n",
      "51  0.077976  0.429294   3ABb+\n",
      "52  0.671554  0.004303   3Cb1+\n",
      "53  0.208332  0.059256    3Cb2\n",
      "54  0.032465  0.003402  Trans+\n",
      "55  0.006173  0.627620  Coda1+\n",
      "56  0.686521  0.017618  Coda2+\n",
      "57  0.876960  0.002045  Coda3+\n"
     ]
    }
   ],
   "source": [
    "#qualité de représentation des individus - COS2\n",
    "cos2 = coord**2\n",
    "for j in range(p):\n",
    " cos2[:,j] = cos2[:,j]/di\n",
    "print(pd.DataFrame({'id':X.index,'COS2_1':cos2[:,0],'COS2_2':cos2[:,1]}))"
   ]
  },
  {
   "cell_type": "code",
   "execution_count": 37,
   "metadata": {},
   "outputs": [
    {
     "name": "stdout",
     "output_type": "stream",
     "text": [
      "[1. 1. 1. 1. 1. 1. 1. 1. 1. 1. 1. 1. 1. 1. 1. 1. 1. 1. 1. 1. 1. 1. 1. 1.\n",
      " 1. 1. 1. 1. 1. 1. 1. 1. 1. 1. 1. 1. 1. 1. 1. 1. 1. 1. 1. 1. 1. 1. 1. 1.\n",
      " 1. 1. 1. 1. 1. 1. 1. 1. 1. 1.]\n"
     ]
    }
   ],
   "source": [
    "#vérifions la théorie - somme en ligne des cos2 = 1\n",
    "print(numpy.sum(cos2,axis=1))"
   ]
  },
  {
   "cell_type": "code",
   "execution_count": 38,
   "metadata": {},
   "outputs": [
    {
     "name": "stdout",
     "output_type": "stream",
     "text": [
      "       CTR_1     CTR_2      id\n",
      "0   0.000522  0.024224     1Aa\n",
      "1   0.002229  0.001798    1Ab1\n",
      "2   0.003283  0.000136    1Ab2\n",
      "3   0.000431  0.004923     1B1\n",
      "4   0.006168  0.002518     1B2\n",
      "5   0.007804  0.062783     1B3\n",
      "6   0.007774  0.021837     1C1\n",
      "7   0.012355  0.004089     1C2\n",
      "8   0.003845  0.021701     2Ab\n",
      "9   0.007895  0.000155    2Ac1\n",
      "10  0.012678  0.000525    2Ac2\n",
      "11  0.006088  0.003227     2B1\n",
      "12  0.000604  0.003050     2B2\n",
      "13  0.013841  0.035816     2C1\n",
      "14  0.008963  0.046148     2C2\n",
      "15  0.000423  0.019517    3Ab1\n",
      "16  0.007870  0.039569    3Ab2\n",
      "17  0.014691  0.050912    3AB1\n",
      "18  0.003926  0.026937    3AB2\n",
      "19  0.042633  0.032377     3C1\n",
      "20  0.016563  0.035906     3C2\n",
      "21  0.000033  0.032412     3C3\n",
      "22  0.000280  0.032384    3ABb\n",
      "23  0.033003  0.017368    3Cb1\n",
      "24  0.003702  0.002663    3Cb2\n",
      "25  0.023320  0.016316   Trans\n",
      "26  0.006423  0.018566   Coda1\n",
      "27  0.031065  0.000100   Coda2\n",
      "28  0.169448  0.002399   Coda3\n",
      "29  0.012145  0.058188    1Aa+\n",
      "30  0.000246  0.000279   1Ab1+\n",
      "31  0.000053  0.002020   1Ab2+\n",
      "32  0.000237  0.003820    1B1+\n",
      "33  0.004011  0.000542    1B2+\n",
      "34  0.001775  0.018646    1B3+\n",
      "35  0.010899  0.021545    1C1+\n",
      "36  0.006048  0.003772    1C2+\n",
      "37  0.007480  0.039279    2Ab+\n",
      "38  0.026823  0.006606   2Ac1+\n",
      "39  0.019328  0.019549   2Ac2+\n",
      "40  0.000178  0.001596    2B1+\n",
      "41  0.003959  0.003907    2B2+\n",
      "42  0.089176  0.058498    2C1+\n",
      "43  0.001208  0.018029    2C2+\n",
      "44  0.000522  0.002937   3Ab1+\n",
      "45  0.015155  0.026856   3Ab2+\n",
      "46  0.000254  0.019571   3AB1+\n",
      "47  0.000126  0.004130   3AB2+\n",
      "48  0.031567  0.028627    3C1+\n",
      "49  0.006091  0.025344    3C2+\n",
      "50  0.002286  0.022099    3C3+\n",
      "51  0.001996  0.014786   3ABb+\n",
      "52  0.095828  0.000826   3Cb1+\n",
      "53  0.004690  0.001795    3Cb2\n",
      "54  0.005294  0.000746  Trans+\n",
      "55  0.000249  0.034105  Coda1+\n",
      "56  0.028907  0.000998  Coda2+\n",
      "57  0.175607  0.000551  Coda3+\n"
     ]
    }
   ],
   "source": [
    "#contributions aux axes\n",
    "ctr = coord**2\n",
    "for j in range(p):\n",
    " ctr[:,j] = ctr[:,j]/(n*eigval[j])\n",
    "\n",
    "print(pd.DataFrame({'id':X.index,'CTR_1':ctr[:,0],'CTR_2':ctr[:,1]}))"
   ]
  },
  {
   "cell_type": "code",
   "execution_count": 39,
   "metadata": {},
   "outputs": [
    {
     "name": "stdout",
     "output_type": "stream",
     "text": [
      "[1. 1. 1. 1. 1. 1. 1. 1. 1. 1. 1. 1. 1. 1. 1. 1. 1. 1. 1. 1. 1. 1. 1. 1.\n",
      " 1. 1. 1. 1. 1. 1. 1. 1. 1.]\n"
     ]
    }
   ],
   "source": [
    "#vérifions la théorie\n",
    "print(np.sum(ctr,axis=0))"
   ]
  },
  {
   "cell_type": "code",
   "execution_count": 40,
   "metadata": {},
   "outputs": [
    {
     "name": "stdout",
     "output_type": "stream",
     "text": [
      "[[ 0.02427837 -0.30072684 -0.16231463 ... -0.00443835 -0.08928092\n",
      "   0.02139796]\n",
      " [-0.02062998 -0.04905919  0.11229103 ...  0.1250916   0.04992064\n",
      "   0.04136666]\n",
      " [ 0.15965278  0.14752447  0.28616531 ...  0.08066436  0.16957953\n",
      "   0.1177076 ]\n",
      " ...\n",
      " [-0.01373933 -0.30024402 -0.03476679 ... -0.01120275  0.01543371\n",
      "   0.0422392 ]\n",
      " [ 0.01402129  0.16374196 -0.14264914 ... -0.00126522  0.01202032\n",
      "  -0.00502529]\n",
      " [ 0.00920054 -0.49618308  0.64375003 ... -0.00890918  0.01699633\n",
      "   0.00081993]]\n"
     ]
    }
   ],
   "source": [
    "#le champ components_ de l'objet ACP\n",
    "print(acp.components_)"
   ]
  },
  {
   "cell_type": "code",
   "execution_count": 41,
   "metadata": {},
   "outputs": [
    {
     "name": "stdout",
     "output_type": "stream",
     "text": [
      "[[ 7.43204315e-02 -5.44408199e-02  3.52259171e-01 ... -6.08897763e-04\n",
      "   5.03745058e-04  1.87900015e-04]\n",
      " [-9.20578529e-01 -1.29463148e-01  3.25499153e-01 ... -1.33061783e-02\n",
      "   5.88278407e-03 -1.01334038e-02]\n",
      " [-4.96874032e-01  2.96326765e-01  6.31397423e-01 ... -1.54079042e-03\n",
      "  -5.12497894e-03  1.31471209e-02]\n",
      " ...\n",
      " [-1.35865865e-02  3.30106420e-01  1.77978491e-01 ... -4.96482219e-04\n",
      "  -4.54559214e-05 -1.81949587e-04]\n",
      " [-2.73304825e-01  1.31736453e-01  3.74161613e-01 ...  6.83989337e-04\n",
      "   4.31855836e-04  3.47111221e-04]\n",
      " [ 6.55029855e-02  1.09163208e-01  2.59710989e-01 ...  1.87195187e-03\n",
      "  -1.80544533e-04  1.67452857e-05]]\n"
     ]
    }
   ],
   "source": [
    "#racine carrée des valeurs propres\n",
    "sqrt_eigval = np.sqrt(eigval)\n",
    "\n",
    "#corrélation des variables avec les axes\n",
    "corvar = np.zeros((p,p))\n",
    "for k in range(p):\n",
    " corvar[:,k] = acp.components_[k,:] * sqrt_eigval[k]\n",
    "\n",
    "#afficher la matrice des corrélations variables x facteurs\n",
    "print(corvar)"
   ]
  },
  {
   "cell_type": "code",
   "execution_count": 42,
   "metadata": {},
   "outputs": [
    {
     "data": {
      "text/plain": [
       "[<matplotlib.lines.Line2D at 0x1a224a6908>]"
      ]
     },
     "execution_count": 42,
     "metadata": {},
     "output_type": "execute_result"
    },
    {
     "data": {
      "image/png": "[encoded data removed]",
      "text/plain": [
       "<matplotlib.figure.Figure at 0x1a2252a2b0>"
      ]
     },
     "metadata": {},
     "output_type": "display_data"
    }
   ],
   "source": [
    "#cercle des corrélations\n",
    "fig, axes = plt.subplots(figsize=(8,8))\n",
    "axes.set_xlim(-1,1)\n",
    "axes.set_ylim(-1,1)\n",
    "#affichage des étiquettes (noms des variables)\n",
    "for j in range(p):\n",
    " plt.annotate(X.columns[j],(corvar[j,0],corvar[j,1]))\n",
    "\n",
    "#ajouter les axes\n",
    "plt.plot([-1,1],[0,0],color='silver',linestyle='-',linewidth=1)\n",
    "plt.plot([0,0],[-1,1],color='silver',linestyle='-',linewidth=1)\n",
    "\n"
   ]
  },
  {
   "cell_type": "code",
   "execution_count": 43,
   "metadata": {},
   "outputs": [
    {
     "data": {
      "image/png": "[encoded data removed]",
      "text/plain": [
       "<matplotlib.figure.Figure at 0x1a223e96a0>"
      ]
     },
     "metadata": {},
     "output_type": "display_data"
    }
   ],
   "source": [
    "#cercle des corrélations\n",
    "fig, axes = plt.subplots(figsize=(8,8))\n",
    "axes.set_xlim(-1,1)\n",
    "axes.set_ylim(-1,1)\n",
    "#affichage des étiquettes (noms des variables)\n",
    "for j in range(p):\n",
    " plt.annotate(X.columns[j],(corvar[j,0],corvar[j,1]))\n",
    "\n",
    "#ajouter les axes\n",
    "plt.plot([-1,1],[0,0],color='silver',linestyle='-',linewidth=1)\n",
    "plt.plot([0,0],[-1,1],color='silver',linestyle='-',linewidth=1)\n",
    "\n",
    "#ajouter un cercle\n",
    "cercle = plt.Circle((0,0),1,color='blue',fill=False)\n",
    "axes.add_artist(cercle)\n",
    "#affichage\n",
    "\n",
    "dest = \"entrance_ACP1pars.pdf\"\n",
    "   \n",
    "plt.savefig(dest)"
   ]
  },
  {
   "cell_type": "code",
   "execution_count": 44,
   "metadata": {},
   "outputs": [
    {
     "name": "stdout",
     "output_type": "stream",
     "text": [
      "      COS2_1    COS2_2                    id\n",
      "0   0.005524  0.002964                  time\n",
      "1   0.847465  0.016761              centroid\n",
      "2   0.246884  0.087810                    sd\n",
      "3   0.598155  0.248030           c_min_sdlow\n",
      "4   0.275103  0.040838           c_plus_sdHi\n",
      "5   0.721433  0.181864         midi_centroid\n",
      "6   0.457176  0.267391          mc_min_eclow\n",
      "7   0.723029  0.009660          mc_plus_ecHi\n",
      "8   0.299566  0.343482         midi_sp_slope\n",
      "9   0.038898  0.682701              sp_slope\n",
      "10  0.591898  0.033118              skewness\n",
      "11  0.607095  0.041444              kurtosis\n",
      "12  0.642002  0.013800            sp_rolloff\n",
      "13  0.037362  0.374658           sp_flatness\n",
      "14  0.138883  0.671913       sp_flatness_moy\n",
      "15  0.109716  0.548311    sp_flatness_minamp\n",
      "16  0.197547  0.006583   sp_flatness_minfreq\n",
      "17  0.158365  0.341491    sp_flatness_maxamp\n",
      "18  0.207897  0.302627   sp_flatness_maxfreq\n",
      "19  0.000001  0.184026              sp_crest\n",
      "20  0.183364  0.470026                   rms\n",
      "21  0.125509  0.194677             maxfreq25\n",
      "22  0.125543  0.138743               max_amp\n",
      "23  0.163804  0.265456              max_amoy\n",
      "24  0.245957  0.417248               min_amp\n",
      "25  0.104273  0.013694              max_freq\n",
      "26  0.209529  0.253486          max_moy_freq\n",
      "27  0.290374  0.405852            mode_freq1\n",
      "28  0.438093  0.255167            mode_freq2\n",
      "29  0.501200  0.011824            mode_freq3\n",
      "30  0.000185  0.108970       cell_sup_ampmoy\n",
      "31  0.074696  0.017354   highcell_sup_ampmoy\n",
      "32  0.004291  0.011917           nbandSupMed\n"
     ]
    }
   ],
   "source": [
    "#cosinus carré des variables\n",
    "cos2var = corvar**2\n",
    "print(pd.DataFrame({'id':X.columns,'COS2_1':cos2var[:,0],'COS2_2':cos2var[:,1]}))"
   ]
  },
  {
   "cell_type": "code",
   "execution_count": 45,
   "metadata": {},
   "outputs": [
    {
     "name": "stdout",
     "output_type": "stream",
     "text": [
      "           CTR_1     CTR_2                    id\n",
      "0   5.894394e-04  0.000426                  time\n",
      "1   9.043663e-02  0.002407              centroid\n",
      "2   2.634604e-02  0.012609                    sd\n",
      "3   6.383170e-02  0.035617           c_min_sdlow\n",
      "4   2.935745e-02  0.005864           c_plus_sdHi\n",
      "5   7.698727e-02  0.026115         midi_centroid\n",
      "6   4.878727e-02  0.038397          mc_min_eclow\n",
      "7   7.715759e-02  0.001387          mc_plus_ecHi\n",
      "8   3.196798e-02  0.049323         midi_sp_slope\n",
      "9   4.150943e-03  0.098034              sp_slope\n",
      "10  6.316397e-02  0.004756              skewness\n",
      "11  6.478569e-02  0.005951              kurtosis\n",
      "12  6.851080e-02  0.001982            sp_rolloff\n",
      "13  3.987014e-03  0.053800           sp_flatness\n",
      "14  1.482076e-02  0.096485       sp_flatness_moy\n",
      "15  1.170825e-02  0.078736    sp_flatness_minamp\n",
      "16  2.108113e-02  0.000945   sp_flatness_minfreq\n",
      "17  1.689977e-02  0.049037    sp_flatness_maxamp\n",
      "18  2.218558e-02  0.043457   sp_flatness_maxfreq\n",
      "19  1.396537e-07  0.026426              sp_crest\n",
      "20  1.956761e-02  0.067495                   rms\n",
      "21  1.339361e-02  0.027955             maxfreq25\n",
      "22  1.339719e-02  0.019923               max_amp\n",
      "23  1.748019e-02  0.038119              max_amoy\n",
      "24  2.624714e-02  0.059916               min_amp\n",
      "25  1.112747e-02  0.001966              max_freq\n",
      "26  2.235972e-02  0.036400          max_moy_freq\n",
      "27  3.098702e-02  0.058280            mode_freq1\n",
      "28  4.675081e-02  0.036641            mode_freq2\n",
      "29  5.348517e-02  0.001698            mode_freq3\n",
      "30  1.969897e-05  0.015648       cell_sup_ampmoy\n",
      "31  7.971083e-03  0.002492   highcell_sup_ampmoy\n",
      "32  4.578729e-04  0.001711           nbandSupMed\n"
     ]
    }
   ],
   "source": [
    "#contributions\n",
    "ctrvar = cos2var\n",
    "for k in range(p):\n",
    " ctrvar[:,k] = ctrvar[:,k]/eigval[k]\n",
    "#on n'affiche que pour les deux premiers axes\n",
    "print(pd.DataFrame({'id':X.columns,'CTR_1':ctrvar[:,0],'CTR_2':ctrvar[:,1]}))"
   ]
  },
  {
   "cell_type": "code",
   "execution_count": null,
   "metadata": {},
   "outputs": [],
   "source": []
  },
  {
   "cell_type": "code",
   "execution_count": null,
   "metadata": {},
   "outputs": [],
   "source": []
  }
 ],
 "metadata": {
  "kernelspec": {
   "display_name": "Python 3",
   "language": "python",
   "name": "python3"
  },
  "language_info": {
   "codemirror_mode": {
    "name": "ipython",
    "version": 3
   },
   "file_extension": ".py",
   "mimetype": "text/x-python",
   "name": "python",
   "nbconvert_exporter": "python",
   "pygments_lexer": "ipython3",
   "version": "3.6.4"
  }
 },
 "nbformat": 4,
 "nbformat_minor": 2
}
