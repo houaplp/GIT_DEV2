{
 "cells": [
  {
   "cell_type": "code",
   "execution_count": 33,
   "metadata": {},
   "outputs": [],
   "source": [
    "import os\n",
    "import math\n",
    "import glob\n",
    "import re\n",
    "import numpy as np\n",
    "import pandas as pd\n",
    "import matplotlib.pyplot as plt\n",
    "import sklearn\n",
    "from sklearn.linear_model import LinearRegression\n",
    "from sklearn.model_selection import train_test_split\n",
    "plt.rcParams[\"svg.fonttype\"]=\"none\"\n",
    "\n",
    "# d'apres http://eric.univ-lyon2.fr/~ricco/tanagra/fichiers/fr_Tanagra_ACP_Python.pdf"
   ]
  },
  {
   "cell_type": "code",
   "execution_count": 34,
   "metadata": {},
   "outputs": [
    {
     "name": "stdout",
     "output_type": "stream",
     "text": [
      "0.25.1\n"
     ]
    }
   ],
   "source": [
    "os.chdir(\"/Users/laurentpottier/Documents/LP/Recherches/Projet_Fondation/Langages&Maths/Anaconda/LPanalyse/PopPlinn/\")\n",
    "#librairie pandas\n",
    "#version\n",
    "print(pd.__version__) # 0.23.0\n",
    "#chargement de la première feuille de données\n",
    "X = pd.read_excel(\"Xparams_popplinnSel4eR+.xls\",sheet_name=0,header=0,index_col=0)\n",
    "#Nous remarquons que :\n",
    "#• Le fichier est un classeur Excel nommé « autos_acp_pour_python.xlsx » ;\n",
    "#• Les données actives sont situées dans la première feuille (sheet_name = 0) ;\n",
    "#• La première ligne correspond aux noms des variables (header = 0)\n",
    "#• La première colonne aux identifiants des observations (index_col = 0)."
   ]
  },
  {
   "cell_type": "markdown",
   "metadata": {},
   "source": [
    "## Importation des données actives"
   ]
  },
  {
   "cell_type": "code",
   "execution_count": 35,
   "metadata": {},
   "outputs": [
    {
     "name": "stdout",
     "output_type": "stream",
     "text": [
      "(23, 13)\n",
      "       c_min_sdlow  midi_centroid   mc_min_eclow      sp_slope   sp_rolloff  \\\n",
      "Label                                                                         \n",
      "int1          90.8      49.201479           38.6 -1.107297e-06   304.531443   \n",
      "int2a        306.4      75.229125           53.8 -1.875879e-06  2486.888447   \n",
      "int3         215.7      63.278661           47.7 -1.911160e-06   983.442372   \n",
      "int2b        352.2      78.168156           53.3 -1.430030e-06  2486.888447   \n",
      "int4         184.8      60.390212           47.4 -2.135860e-06   781.214170   \n",
      "int5         270.8      69.260909           49.2 -1.379404e-06  3133.284531   \n",
      "A0           178.0      60.422705           44.6 -3.392308e-06   983.442372   \n",
      "A1a          244.0      67.654646           48.6 -2.908592e-06  1972.920297   \n",
      "A2a          406.7      75.232399           49.5 -1.209686e-06  3133.284531   \n",
      "A1b          444.2      76.958422           52.0 -1.328053e-06  3133.284531   \n",
      "A2b          514.5      78.329841           50.6 -5.183491e-07  3951.850334   \n",
      "B1a          330.6      73.385964           52.5 -1.609368e-06  3133.284531   \n",
      "B2a          390.1      76.338851           53.7 -1.006899e-06  3951.850334   \n",
      "B1b          516.3      78.068559           54.9 -1.424241e-06  2486.888447   \n",
      "B2b          518.4      78.331665           55.3 -1.274893e-06  3133.284531   \n",
      "C1a          773.2      85.257718           58.0 -2.645077e-07  3951.850334   \n",
      "C2a          820.4      86.222405           55.3  1.401602e-07  3951.850334   \n",
      "C1b          797.6      87.017002           57.5  2.215732e-07  3951.850334   \n",
      "C2b          760.1      87.744492           57.7  5.164201e-07  4978.635036   \n",
      "A1c          363.4      76.066405           51.5 -1.415566e-06  3133.284531   \n",
      "A2c          399.8      75.224073           50.9 -1.258380e-06  3133.284531   \n",
      "fin1         664.6      83.649547           57.0 -5.334732e-07  3951.850334   \n",
      "fin2         470.2      84.714277           52.4  2.075585e-07  4978.635036   \n",
      "\n",
      "       sp_flatness  sp_flatness_maxamp   sp_crest  maxfreq25  max_amoy  \\\n",
      "Label                                                                    \n",
      "int1      0.174695            0.060928  13.595711   0.000278  0.062178   \n",
      "int2a     0.487131            0.056549   5.537131   0.001003  0.057808   \n",
      "int3      0.475169            0.047275   5.985537   0.000511  0.049011   \n",
      "int2b     0.482397            0.080152   8.659723   0.000903  0.086734   \n",
      "int4      0.521521            0.065751   7.177618   0.005020  0.069050   \n",
      "int5      0.740833            0.048019   4.897586   0.015683  0.049869   \n",
      "A0        0.631893            0.070181   6.432495   0.020045  0.073428   \n",
      "A1a       0.663412            0.071386   4.969419   0.021950  0.074812   \n",
      "A2a       0.816693            0.039911   3.539247   0.034961  0.042166   \n",
      "A1b       0.731316            0.041616   4.709483   0.048123  0.044410   \n",
      "A2b       0.823568            0.045394   3.589099   0.039433  0.046805   \n",
      "B1a       0.715981            0.066459   5.408818   0.036059  0.070631   \n",
      "B2a       0.749247            0.057579   5.327616   0.052447  0.066269   \n",
      "B1b       0.718827            0.074329   5.889526   0.046571  0.078528   \n",
      "B2b       0.739240            0.062358   5.779584   0.037572  0.069693   \n",
      "C1a       0.671822            0.131302   9.200768   0.036036  0.136758   \n",
      "C2a       0.647462            0.139171  11.186166   0.031894  0.145583   \n",
      "C1b       0.661588            0.098737   7.532006   0.027561  0.103058   \n",
      "C2b       0.675148            0.092807   6.926440   0.024578  0.098565   \n",
      "A1c       0.708070            0.041613   4.306489   0.017804  0.043873   \n",
      "A2c       0.774367            0.035810   4.257804   0.021953  0.039060   \n",
      "fin1      0.658817            0.061603   9.268438   0.018324  0.072010   \n",
      "fin2      0.539380            0.077521   8.517363   0.017518  0.082685   \n",
      "\n",
      "          max_freq  mode_freq3  nbandSupMed  \n",
      "Label                                        \n",
      "int1     74.579220       215.3            1  \n",
      "int2a  1972.920297      1755.0            7  \n",
      "int3    240.746256       441.4            6  \n",
      "int2b  1972.920297      1755.0            3  \n",
      "int4    155.312588       344.5            3  \n",
      "int5    155.312588      1109.0            4  \n",
      "A0      192.603712       441.4            6  \n",
      "A1a     192.603712      1109.0            7  \n",
      "A2a      74.579220      1755.0           16  \n",
      "A1b     122.792508      1755.0           15  \n",
      "A2b      74.579220      2217.9           18  \n",
      "B1a     304.531443      1388.9            6  \n",
      "B2a     304.531443      2217.9            7  \n",
      "B1b    1561.255745      1755.0            5  \n",
      "B2b    1561.255745      1755.0            6  \n",
      "C1a    1972.920297      2217.9            3  \n",
      "C2a    1972.920297      2217.9            1  \n",
      "C1b    1972.920297      2788.5            3  \n",
      "C2b    2486.888447      2788.5            3  \n",
      "A1c     983.442372      1755.0           15  \n",
      "A2c    1241.084244      1755.0           16  \n",
      "fin1   2486.888447      2217.9            6  \n",
      "fin2   2486.888447      3520.7            2  \n"
     ]
    }
   ],
   "source": [
    "#dimension\n",
    "print(X.shape) # (18, 6)\n",
    "#nombre d'observations\n",
    "n = X.shape[0]\n",
    "#nombre de variables\n",
    "p = X.shape[1]\n",
    "#affichage des données\n",
    "print( X)"
   ]
  },
  {
   "cell_type": "markdown",
   "metadata": {},
   "source": [
    "## Préparation des données"
   ]
  },
  {
   "cell_type": "code",
   "execution_count": 36,
   "metadata": {},
   "outputs": [
    {
     "name": "stdout",
     "output_type": "stream",
     "text": [
      "0.21.3\n"
     ]
    }
   ],
   "source": [
    "#vérification de la version\n",
    "print(sklearn.__version__) # 0.19.1"
   ]
  },
  {
   "cell_type": "code",
   "execution_count": 37,
   "metadata": {},
   "outputs": [
    {
     "name": "stdout",
     "output_type": "stream",
     "text": [
      "[[-1.67242638 -2.72198437 -2.9430687   0.06588841 -2.13707105 -3.31987046\n",
      "  -0.27341249  2.84929751 -1.53882031 -0.37042469 -1.07724467 -1.84468209\n",
      "  -1.15212873]\n",
      " [-0.62588305  0.01887424  0.43923511 -0.74837839 -0.3809692  -1.108989\n",
      "  -0.44019156 -0.4512378  -1.4921519  -0.53027345  0.98123364  0.05848738\n",
      "   0.01694307]\n",
      " [-1.06614966 -1.23957726 -0.91813682 -0.78575575 -1.59076413 -1.19364041\n",
      "  -0.7934573  -0.26758528 -1.52382205 -0.8520805  -0.89706038 -1.56520777\n",
      "  -0.17790223]\n",
      " [-0.40356541  0.32837092  0.32797511 -0.27602783 -0.3809692  -1.14249259\n",
      "   0.4587811   0.82767545 -1.49858892  0.52788504  0.98123364  0.05848738\n",
      "  -0.76243813]\n",
      " [-1.21614126 -1.54374731 -0.98489281 -1.02381198 -1.75349338 -0.86564144\n",
      "  -0.08972993  0.22065301 -1.23357676 -0.11902372 -0.98970092 -1.68498248\n",
      "  -0.76243813]\n",
      " [-0.79868891 -0.60961273 -0.58435684 -0.22239293  0.13917363  0.68627066\n",
      "  -0.76511262 -0.71317518 -0.54719718 -0.8206804  -0.98970092 -0.74001069\n",
      "  -0.56759283]\n",
      " [-1.24914912 -1.54032567 -1.60794878 -2.35494339 -1.59076413 -0.08461593\n",
      "   0.07900696 -0.08452553 -0.26641432  0.04114411 -0.94926405 -1.56520777\n",
      "  -0.17790223]\n",
      " [-0.92877871 -0.77876125 -0.71786883 -1.84247486 -0.79454975  0.13841945\n",
      "   0.12491995 -0.68375444 -0.14378906  0.09175716 -0.94926405 -0.74001069\n",
      "   0.01694307]\n",
      " [-0.13901712  0.01921905 -0.51760084 -0.04258645  0.13917363  1.22307128\n",
      "  -1.07392479 -1.26950689  0.69373177 -1.1024653  -1.07724467  0.05848738\n",
      "   1.77055076]\n",
      " [ 0.04301152  0.20097902  0.03869913 -0.1679901   0.13917363  0.61892623\n",
      "  -1.00897364 -0.79021593  1.54097251 -1.02041158 -1.02496428  0.05848738\n",
      "   1.57570546]\n",
      " [ 0.38425454  0.34539719 -0.27282885  0.68984275  0.79785822  1.27171887\n",
      "  -0.86506896 -1.24908921  0.98159536 -0.93279138 -1.07724467  0.63066192\n",
      "   2.16024136]\n",
      " [-0.50841391 -0.175221    0.14995912 -0.46602617  0.13917363  0.51040718\n",
      "  -0.06275551 -0.50379096  0.76441027 -0.06117879 -0.8278945  -0.39403606\n",
      "  -0.17790223]\n",
      " [-0.21959513  0.13573467  0.41698311  0.17225328  0.79785822  0.74580891\n",
      "  -0.40098052 -0.53704838  1.81930931 -0.22076691 -0.8278945   0.63066192\n",
      "   0.01694307]\n",
      " [ 0.39299192  0.31788281  0.68400709 -0.269895   -0.3809692   0.53054854\n",
      "   0.23701491 -0.30690835  1.44106994  0.2276739   0.53484254  0.05848738\n",
      "  -0.37274753]\n",
      " [ 0.40318552  0.34558929  0.77301509 -0.11167024  0.13917363  0.67499639\n",
      "  -0.21897078 -0.35193691  0.8618024  -0.09548762  0.53484254  0.05848738\n",
      "  -0.17790223]\n",
      " [ 1.64000945  1.07494194  1.37381905  0.95877242  0.79785822  0.19792866\n",
      "   2.40700849  1.04927004  0.76292975  2.35783203  0.98123364  0.63066192\n",
      "  -0.76243813]\n",
      " [ 1.86912284  1.1765289   0.77301509  1.38749369  0.79785822  0.02554832\n",
      "   2.70672276  1.86242552  0.49630833  2.68067342  0.98123364  0.63066192\n",
      "  -1.15212873]\n",
      " [ 1.75844942  1.26020446  1.26255906  1.47374582  0.79785822  0.12550823\n",
      "   1.16665615  0.36579895  0.2173922   1.12504984  0.98123364  1.33596068\n",
      "  -0.76243813]\n",
      " [ 1.57642078  1.33681335  1.30706306  1.78611831  1.62409265  0.2214651\n",
      "   0.9407956   0.11777837  0.02537586  0.96069211  1.53855829  1.33596068\n",
      "  -0.76243813]\n",
      " [-0.34919952  0.1070446  -0.07256087 -0.26070434  0.13917363  0.45442974\n",
      "  -1.00908329 -0.95526958 -0.41066796 -1.04002365 -0.09171309  0.05848738\n",
      "   1.57570546]\n",
      " [-0.17251039  0.01834222 -0.20607286 -0.0941751   0.13917363  0.92356227\n",
      "  -1.23011445 -0.97520923 -0.14359595 -1.21608933  0.18766253  0.05848738\n",
      "   1.77055076]\n",
      " [ 1.11285451  0.90559244  1.15129906  0.67381974  0.79785822  0.10590165\n",
      "  -0.24771063  1.07698537 -0.37719545 -0.01075583  1.53855829  0.63066192\n",
      "  -0.17790223]\n",
      " [ 0.16921804  1.01771448  0.12770712  1.45889809  1.62409265 -0.73926166\n",
      "   0.35858053  0.76936945 -0.42907784  0.37974553  1.53855829  2.24100756\n",
      "  -0.95728343]]\n"
     ]
    }
   ],
   "source": [
    "#classe pour standardisation\n",
    "from sklearn.preprocessing import StandardScaler\n",
    "#instanciation\n",
    "sc = StandardScaler()\n",
    "#transformation – centrage-réduction\n",
    "Z = sc.fit_transform(X)\n",
    "print(Z)"
   ]
  },
  {
   "cell_type": "code",
   "execution_count": 38,
   "metadata": {},
   "outputs": [
    {
     "name": "stdout",
     "output_type": "stream",
     "text": [
      "moyenne [-2.06356671e-16 -4.15126870e-16 -2.21561899e-15  5.79246795e-17\n",
      " -4.82705663e-17  8.20599627e-16 -1.44811699e-16 -1.93082265e-17\n",
      " -4.34435097e-17  2.31698718e-16  2.12390492e-16 -2.51006945e-16\n",
      "  1.11022302e-16]\n",
      "ecart [1. 1. 1. 1. 1. 1. 1. 1. 1. 1. 1. 1. 1.]\n"
     ]
    }
   ],
   "source": [
    "#vérification - librairie numpy\n",
    "import numpy\n",
    "#moyenne\n",
    "print(\"moyenne\", numpy.mean(Z,axis=0))\n",
    "\n",
    "#écart-type\n",
    "print(\"ecart\", numpy.std(Z,axis=0,ddof=0))"
   ]
  },
  {
   "cell_type": "markdown",
   "metadata": {},
   "source": [
    "## Analyse en composantes principales avec PCA de ‘’scikit-learn’’"
   ]
  },
  {
   "cell_type": "code",
   "execution_count": 39,
   "metadata": {},
   "outputs": [
    {
     "name": "stdout",
     "output_type": "stream",
     "text": [
      "PCA(copy=True, iterated_power='auto', n_components=None, random_state=None,\n",
      "    svd_solver='full', tol=0.0, whiten=False)\n"
     ]
    }
   ],
   "source": [
    "# Il faut instancier l’objet PCA dans un premier temps, nous affichons ses propriétés.\n",
    "\n",
    "\n",
    "#classe pour l'ACP\n",
    "from sklearn.decomposition import PCA\n",
    "#instanciation\n",
    "acp = PCA(svd_solver='full')\n",
    "\n",
    "#affichage des paramètres\n",
    "print(acp)"
   ]
  },
  {
   "cell_type": "code",
   "execution_count": 40,
   "metadata": {},
   "outputs": [
    {
     "name": "stdout",
     "output_type": "stream",
     "text": [
      "13\n"
     ]
    }
   ],
   "source": [
    "#calculs\n",
    "coord = acp.fit_transform(Z)\n",
    "#nombre de composantes calculées\n",
    "print(acp.n_components_) # 6"
   ]
  },
  {
   "cell_type": "code",
   "execution_count": 41,
   "metadata": {},
   "outputs": [
    {
     "name": "stdout",
     "output_type": "stream",
     "text": [
      "[7.07250073e+00 3.85225716e+00 1.11745046e+00 6.66135998e-01\n",
      " 2.97630124e-01 2.17498438e-01 1.74385384e-01 9.77472370e-02\n",
      " 5.19060199e-02 2.15462941e-02 1.40867362e-02 7.02386566e-03\n",
      " 7.40638201e-04]\n",
      "[6.76500070e+00 3.68476772e+00 1.06886566e+00 6.37173563e-01\n",
      " 2.84689684e-01 2.08041985e-01 1.66803411e-01 9.34973571e-02\n",
      " 4.96492364e-02 2.06094987e-02 1.34742694e-02 6.71848020e-03\n",
      " 7.08436540e-04]\n",
      "[6.76500070e+00 3.68476772e+00 1.06886566e+00 6.37173563e-01\n",
      " 2.84689684e-01 2.08041985e-01 1.66803411e-01 9.34973571e-02\n",
      " 4.96492364e-02 2.06094987e-02 1.34742694e-02 6.71848020e-03\n",
      " 7.08436540e-04]\n"
     ]
    }
   ],
   "source": [
    "# Valeurs propres et scree plot\n",
    "#variance expliquée\n",
    "print(acp.explained_variance_)\n",
    "\n",
    "#valeur corrigée\n",
    "eigval = (n-1)/n*acp.explained_variance_\n",
    "print(eigval)\n",
    "\n",
    "#ou bien en passant par les valeurs singulières\n",
    "print(acp.singular_values_**2/n)"
   ]
  },
  {
   "cell_type": "code",
   "execution_count": 42,
   "metadata": {},
   "outputs": [
    {
     "name": "stdout",
     "output_type": "stream",
     "text": [
      "[5.20384669e-01 2.83443671e-01 8.22204355e-02 4.90133510e-02\n",
      " 2.18992065e-02 1.60032296e-02 1.28310316e-02 7.19210440e-03\n",
      " 3.81917203e-03 1.58534605e-03 1.03648226e-03 5.16806169e-04\n",
      " 5.44951184e-05]\n"
     ]
    }
   ],
   "source": [
    "#proportion de variance expliquée\n",
    "print(acp.explained_variance_ratio_)"
   ]
  },
  {
   "cell_type": "code",
   "execution_count": 44,
   "metadata": {},
   "outputs": [
    {
     "data": {
      "image/png": "[encoded data removed]",
      "text/plain": [
       "<Figure size 432x288 with 1 Axes>"
      ]
     },
     "metadata": {
      "needs_background": "light"
     },
     "output_type": "display_data"
    }
   ],
   "source": [
    "#scree plot\n",
    "plt.plot(np.arange(1,p+1),eigval)\n",
    "#plt.plot(np.arange(1,n+1),np.arange(1,n+1))\n",
    "plt.title(\"Scree plot\")\n",
    "plt.ylabel(\"Eigen values\")\n",
    "plt.xlabel(\"Factor number\")\n",
    "plt.show()"
   ]
  },
  {
   "cell_type": "code",
   "execution_count": 46,
   "metadata": {},
   "outputs": [
    {
     "data": {
      "image/png": "[encoded data removed]",
      "text/plain": [
       "<Figure size 432x288 with 1 Axes>"
      ]
     },
     "metadata": {
      "needs_background": "light"
     },
     "output_type": "display_data"
    }
   ],
   "source": [
    "#cumul de variance expliquée\n",
    "plt.plot(np.arange(1,p+1),np.cumsum(acp.explained_variance_ratio_))\n",
    "plt.title(\"Explained variance vs. # of factors\")\n",
    "plt.ylabel(\"Cumsum explained variance ratio\")\n",
    "plt.xlabel(\"Factor number\")\n",
    "plt.show()"
   ]
  },
  {
   "cell_type": "code",
   "execution_count": 49,
   "metadata": {},
   "outputs": [],
   "source": [
    "#seuils pour test des bâtons brisés\n",
    "bs = 1/np.arange(p,0,-1)\n",
    "bs = np.cumsum(bs)\n",
    "bs = bs[::-1]"
   ]
  },
  {
   "cell_type": "code",
   "execution_count": 50,
   "metadata": {},
   "outputs": [
    {
     "name": "stdout",
     "output_type": "stream",
     "text": [
      "    Val.Propre    Seuils\n",
      "0     6.765001  3.180134\n",
      "1     3.684768  2.180134\n",
      "2     1.068866  1.680134\n",
      "3     0.637174  1.346800\n",
      "4     0.284690  1.096800\n",
      "5     0.208042  0.896800\n",
      "6     0.166803  0.730134\n",
      "7     0.093497  0.587277\n",
      "8     0.049649  0.462277\n",
      "9     0.020609  0.351166\n",
      "10    0.013474  0.251166\n",
      "11    0.006718  0.160256\n",
      "12    0.000708  0.076923\n"
     ]
    }
   ],
   "source": [
    "#test des bâtons brisés\n",
    "print(pd.DataFrame({'Val.Propre':eigval,'Seuils':bs}))\n"
   ]
  },
  {
   "cell_type": "code",
   "execution_count": 53,
   "metadata": {},
   "outputs": [
    {
     "data": {
      "image/png": "[encoded data removed]",
      "text/plain": [
       "<Figure size 864x864 with 1 Axes>"
      ]
     },
     "metadata": {
      "needs_background": "light"
     },
     "output_type": "display_data"
    }
   ],
   "source": [
    "#positionnement des individus dans le premier plan\n",
    "fig, axes = plt.subplots(figsize=(12,12))\n",
    "axes.set_xlim(-5,5) #même limites en abscisse\n",
    "axes.set_ylim(-4,6) #et en ordonnée\n",
    "#placement des étiquettes des observations\n",
    "for i in range(n):\n",
    " plt.annotate(X.index[i],(coord[i,0],coord[i,1]))\n",
    "#ajouter les axes\n",
    "plt.plot([-5, 5],[0,0],color='silver',linestyle='-',linewidth=1)\n",
    "plt.plot([0,0],[-4, 6],color='silver',linestyle='-',linewidth=1)\n",
    "#affichage\n",
    "#plt.show()\n",
    "\n",
    "\n",
    "dest = \"popplin_ACP1R+.pdf\"\n",
    "   \n",
    "plt.savefig(dest)"
   ]
  },
  {
   "cell_type": "code",
   "execution_count": 54,
   "metadata": {},
   "outputs": [
    {
     "name": "stdout",
     "output_type": "stream",
     "text": [
      "       ID        d_i\n",
      "0    int1  51.049958\n",
      "1   int2a   6.391696\n",
      "2    int3  15.124415\n",
      "3   int2b   6.872389\n",
      "4    int4  15.697037\n",
      "5    int5   5.807042\n",
      "6      A0  18.070608\n",
      "7     A1a   7.990842\n",
      "8     A2a  10.565075\n",
      "9     A1b   9.069525\n",
      "10    A2b  13.438147\n",
      "11    B1a   2.526872\n",
      "12    B2a   6.354262\n",
      "13    B1b   3.930125\n",
      "14    B2b   2.611758\n",
      "15    C1a  22.305465\n",
      "16    C2a  28.953025\n",
      "17    C1b  15.235386\n",
      "18    C2b  18.413334\n",
      "19    A1c   6.108273\n",
      "20    A2c   8.090963\n",
      "21   fin1   8.646054\n",
      "22   fin2  15.747747\n"
     ]
    }
   ],
   "source": [
    "#contribution des individus dans l'inertie totale\n",
    "di = np.sum(Z**2,axis=1)\n",
    "print(pd.DataFrame({'ID':X.index,'d_i':di}))"
   ]
  },
  {
   "cell_type": "code",
   "execution_count": 56,
   "metadata": {},
   "outputs": [
    {
     "name": "stdout",
     "output_type": "stream",
     "text": [
      "       id    COS2_1    COS2_2\n",
      "0    int1  0.471367  0.413278\n",
      "1   int2a  0.103976  0.049843\n",
      "2    int3  0.862731  0.057369\n",
      "3   int2b  0.002517  0.666431\n",
      "4    int4  0.762101  0.185274\n",
      "5    int5  0.495513  0.081566\n",
      "6      A0  0.756830  0.029124\n",
      "7     A1a  0.639215  0.002225\n",
      "8     A2a  0.090235  0.845379\n",
      "9     A1b  0.031211  0.802442\n",
      "10    A2b  0.002766  0.838467\n",
      "11    B1a  0.111848  0.239288\n",
      "12    B2a  0.061950  0.467900\n",
      "13    B1b  0.211692  0.055693\n",
      "14    B2b  0.302495  0.247180\n",
      "15    C1a  0.737058  0.135479\n",
      "16    C2a  0.632213  0.253382\n",
      "17    C1b  0.923767  0.039047\n",
      "18    C2b  0.930540  0.013747\n",
      "19    A1c  0.123962  0.614583\n",
      "20    A2c  0.069672  0.693003\n",
      "21   fin1  0.597926  0.020863\n",
      "22   fin2  0.518260  0.082110\n"
     ]
    }
   ],
   "source": [
    "#qualité de représentation des individus - COS2\n",
    "cos2 = coord**2\n",
    "for j in range(p):\n",
    " cos2[:,j] = cos2[:,j]/di\n",
    "print(pd.DataFrame({'id':X.index,'COS2_1':cos2[:,0],'COS2_2':cos2[:,1]}))"
   ]
  },
  {
   "cell_type": "code",
   "execution_count": 57,
   "metadata": {},
   "outputs": [
    {
     "name": "stdout",
     "output_type": "stream",
     "text": [
      "[1. 1. 1. 1. 1. 1. 1. 1. 1. 1. 1. 1. 1. 1. 1. 1. 1. 1. 1. 1. 1. 1. 1.]\n"
     ]
    }
   ],
   "source": [
    "#vérifions la théorie - somme en ligne des cos2 = 1\n",
    "print(numpy.sum(cos2,axis=1))"
   ]
  },
  {
   "cell_type": "code",
   "execution_count": 59,
   "metadata": {},
   "outputs": [
    {
     "name": "stdout",
     "output_type": "stream",
     "text": [
      "       id     CTR_1     CTR_2\n",
      "0    int1  0.154653  0.248943\n",
      "1   int2a  0.004271  0.003759\n",
      "2    int3  0.083861  0.010238\n",
      "3   int2b  0.000111  0.054041\n",
      "4    int4  0.076884  0.034316\n",
      "5    int5  0.018493  0.005589\n",
      "6      A0  0.087897  0.006210\n",
      "7     A1a  0.032828  0.000210\n",
      "8     A2a  0.006127  0.105387\n",
      "9     A1b  0.001819  0.085874\n",
      "10    A2b  0.000239  0.132950\n",
      "11    B1a  0.001816  0.007135\n",
      "12    B2a  0.002530  0.035082\n",
      "13    B1b  0.005347  0.002583\n",
      "14    B2b  0.005078  0.007617\n",
      "15    C1a  0.105662  0.035657\n",
      "16    C2a  0.117642  0.086563\n",
      "17    C1b  0.090452  0.007020\n",
      "18    C2b  0.110121  0.002987\n",
      "19    A1c  0.004866  0.044296\n",
      "20    A2c  0.003623  0.066160\n",
      "21   fin1  0.033225  0.002128\n",
      "22   fin2  0.052453  0.015257\n"
     ]
    }
   ],
   "source": [
    "#contributions aux axes\n",
    "ctr = coord**2\n",
    "for j in range(p):\n",
    " ctr[:,j] = ctr[:,j]/(n*eigval[j])\n",
    "\n",
    "print(pd.DataFrame({'id':X.index,'CTR_1':ctr[:,0],'CTR_2':ctr[:,1]}))"
   ]
  },
  {
   "cell_type": "code",
   "execution_count": 60,
   "metadata": {},
   "outputs": [
    {
     "name": "stdout",
     "output_type": "stream",
     "text": [
      "[1. 1. 1. 1. 1. 1. 1. 1. 1. 1. 1. 1. 1.]\n"
     ]
    }
   ],
   "source": [
    "#vérifions la théorie\n",
    "print(np.sum(ctr,axis=0))"
   ]
  },
  {
   "cell_type": "code",
   "execution_count": 61,
   "metadata": {},
   "outputs": [
    {
     "name": "stdout",
     "output_type": "stream",
     "text": [
      "[[-0.36661987 -0.36580335 -0.34419662 -0.31426464 -0.33893609 -0.14475063\n",
      "  -0.24908324 -0.06954339 -0.17098269 -0.25966287 -0.30170691 -0.34377274\n",
      "   0.07725543]\n",
      " [-0.01309355 -0.12345714 -0.09220294  0.04933975 -0.17442611 -0.43385278\n",
      "   0.31684235  0.46981652 -0.30351656  0.31061296  0.16901376 -0.11100225\n",
      "  -0.45209721]\n",
      " [-0.08711465  0.10055572  0.00493781  0.26274844  0.15992982 -0.29805555\n",
      "  -0.39552557  0.02456946 -0.52807772 -0.38763466  0.3545744   0.26396993\n",
      "   0.13133864]\n",
      " [ 0.06863627 -0.15330254 -0.40756427  0.56321931  0.15894362 -0.13670479\n",
      "  -0.07146954  0.38094206  0.33662902 -0.08151726 -0.37231246  0.1135384\n",
      "   0.15104652]\n",
      " [-0.40645152 -0.0641297   0.04101584 -0.03275152  0.28986247 -0.0230393\n",
      "  -0.18278832 -0.15304315  0.26616195 -0.13827694 -0.07760583  0.25516757\n",
      "  -0.72487854]\n",
      " [ 0.10188021 -0.01231743  0.31464665 -0.14039913 -0.32616988 -0.23109282\n",
      "  -0.31302591  0.33903512  0.55542047 -0.23339123  0.35064323 -0.10706747\n",
      "   0.02561385]\n",
      " [-0.32431874  0.07970115 -0.32619309 -0.44965491  0.102901   -0.20724962\n",
      "   0.19162944  0.09888004  0.18821466  0.17923198  0.19409955  0.50428663\n",
      "   0.3468501 ]\n",
      " [ 0.05046479 -0.11410876 -0.33971262 -0.1794557   0.24730132  0.630284\n",
      "  -0.16166486  0.42914242 -0.0823067  -0.06367944  0.35056468 -0.15017852\n",
      "  -0.10876682]\n",
      " [ 0.26995506 -0.19760787 -0.45916461  0.20865249 -0.41525652  0.05666719\n",
      "   0.07842562 -0.45405802  0.13595538 -0.04981356  0.39453787  0.19642518\n",
      "  -0.17473049]\n",
      " [ 0.48722381  0.28450373 -0.10719342 -0.34238425 -0.23899279  0.02955826\n",
      "  -0.19741949  0.17915747 -0.16372766 -0.12319492 -0.40628072  0.40897722\n",
      "  -0.22266557]\n",
      " [-0.50818818  0.42653951  0.02623007  0.30519017 -0.53547429  0.35735582\n",
      "   0.00373485  0.17411952 -0.03913851  0.0537838  -0.02963772  0.12601789\n",
      "  -0.00537429]\n",
      " [-0.02937102 -0.69828572  0.38865401  0.0449723  -0.15922991  0.22617974\n",
      "  -0.05739168  0.11960693 -0.13390455  0.15459013 -0.06642103  0.45502017\n",
      "   0.10519145]\n",
      " [-0.02064249 -0.06454117  0.10168751 -0.03802296 -0.00782414  0.07876141\n",
      "   0.65828045  0.11626964 -0.01309026 -0.72454727 -0.02257968  0.0687467\n",
      "  -0.01139391]]\n"
     ]
    }
   ],
   "source": [
    "#le champ components_ de l'objet ACP\n",
    "print(acp.components_)"
   ]
  },
  {
   "cell_type": "code",
   "execution_count": 63,
   "metadata": {},
   "outputs": [
    {
     "name": "stdout",
     "output_type": "stream",
     "text": [
      "[[-9.53564155e-01 -2.51340456e-02 -9.00643154e-02  5.47876365e-02\n",
      "  -2.16867573e-01  4.64692118e-02 -1.32456876e-01  1.54307889e-02\n",
      "   6.01516794e-02  6.99458930e-02 -5.89898344e-02 -2.40743459e-03\n",
      "  -5.49430217e-04]\n",
      " [-9.51440440e-01 -2.36985233e-01  1.03960498e-01 -1.22370922e-01\n",
      "  -3.42172493e-02 -5.61817983e-03  3.25512055e-02 -3.48914194e-02\n",
      "  -4.40311997e-02  4.08433804e-02  4.95121604e-02 -5.72359214e-02\n",
      "  -1.71785814e-03]\n",
      " [-8.95242168e-01 -1.76990452e-01  5.10499805e-03 -3.25330645e-01\n",
      "   2.18845430e-02  1.43515435e-01 -1.33222389e-01 -1.03875075e-01\n",
      "  -1.02311557e-01 -1.53886970e-02  3.04475341e-03  3.18565452e-02\n",
      "   2.70656272e-03]\n",
      " [-8.17390223e-01  9.47113442e-02  2.71644993e-01  4.49579407e-01\n",
      "  -1.74750064e-02 -6.40383164e-02 -1.83646140e-01 -5.48727741e-02\n",
      "   4.64921748e-02 -4.91527128e-02  3.54260848e-02  3.68621476e-03\n",
      "  -1.01203699e-03]\n",
      " [-8.81559727e-01 -3.34823988e-01  1.65344978e-01  1.26873805e-01\n",
      "   1.54659948e-01 -1.48771367e-01  4.20263883e-02  7.56181607e-02\n",
      "  -9.25279091e-02 -3.43098257e-02 -6.21571703e-02 -1.30514924e-02\n",
      "  -2.08251007e-04]\n",
      " [-3.76490807e-01 -8.32812902e-01 -3.08147589e-01 -1.09122071e-01\n",
      "  -1.22929243e-02 -1.05405176e-01 -8.46440052e-02  1.92724067e-01\n",
      "   1.26266442e-02  4.24338647e-03  4.14814069e-02  1.85391248e-02\n",
      "   2.09635083e-03]\n",
      " [-6.47855908e-01  6.08202622e-01 -4.08917906e-01 -5.70492430e-02\n",
      "  -9.75291177e-02 -1.42776188e-01  7.82644786e-02 -4.94328111e-02\n",
      "   1.74748808e-02 -2.83415586e-02  4.33536436e-04 -4.70418597e-03\n",
      "   1.75211026e-02]\n",
      " [-1.80879687e-01  9.01847990e-01  2.54013718e-02  3.04079962e-01\n",
      "  -8.16581909e-02  1.54639411e-01  4.03841626e-02  1.31220327e-01\n",
      "  -1.01173702e-01  2.57198621e-02  2.02115711e-02  9.80374177e-03\n",
      "   3.09468763e-03]\n",
      " [-4.44719394e-01 -5.82622763e-01 -5.45958213e-01  2.68707895e-01\n",
      "   1.42014221e-01  2.53336271e-01  7.68698277e-02 -2.51671963e-02\n",
      "   3.02937250e-02 -2.35047571e-02 -4.54314804e-03 -1.09756651e-02\n",
      "  -3.48416498e-04]\n",
      " [-6.75373129e-01  5.96244835e-01 -4.00759814e-01 -6.50696476e-02\n",
      "  -7.37794855e-02 -1.06453521e-01  7.32011611e-02 -1.94714777e-02\n",
      "  -1.10995114e-02 -1.76858734e-02  6.24315497e-03  1.26711864e-02\n",
      "  -1.92848916e-02]\n",
      " [-7.84728044e-01  3.24434569e-01  3.66580142e-01 -2.97191542e-01\n",
      "  -4.14076173e-02  1.59934057e-01  7.92733100e-02  1.07193347e-01\n",
      "   8.79113569e-02 -5.83256961e-02 -3.44030813e-03 -5.44428883e-03\n",
      "  -6.00991329e-04]\n",
      " [-8.94139649e-01 -2.13077132e-01  2.72907841e-01  9.06299317e-02\n",
      "   1.36148025e-01 -4.88352082e-02  2.05958592e-01 -4.59205921e-02\n",
      "   4.37676713e-02  5.87128057e-02  1.46279953e-02  3.72963364e-02\n",
      "   1.82979458e-03]\n",
      " [ 2.00938392e-01 -8.67834454e-01  1.35785717e-01  1.20570091e-01\n",
      "  -3.86768509e-01  1.16828902e-02  1.41659037e-01 -3.32579986e-02\n",
      "  -3.89336379e-02 -3.19658885e-02 -6.23840305e-04  8.62215777e-03\n",
      "  -3.03265636e-04]]\n"
     ]
    }
   ],
   "source": [
    "#racine carrée des valeurs propres\n",
    "sqrt_eigval = np.sqrt(eigval)\n",
    "\n",
    "#corrélation des variables avec les axes\n",
    "corvar = np.zeros((p,p))\n",
    "for k in range(p):\n",
    " corvar[:,k] = acp.components_[k,:] * sqrt_eigval[k]\n",
    "\n",
    "#afficher la matrice des corrélations variables x facteurs\n",
    "print(corvar)"
   ]
  },
  {
   "cell_type": "code",
   "execution_count": 64,
   "metadata": {},
   "outputs": [
    {
     "data": {
      "text/plain": [
       "[<matplotlib.lines.Line2D at 0x1a265dcb90>]"
      ]
     },
     "execution_count": 64,
     "metadata": {},
     "output_type": "execute_result"
    },
    {
     "data": {
      "image/png": "[encoded data removed]",
      "text/plain": [
       "<Figure size 576x576 with 1 Axes>"
      ]
     },
     "metadata": {
      "needs_background": "light"
     },
     "output_type": "display_data"
    }
   ],
   "source": [
    "#cercle des corrélations\n",
    "fig, axes = plt.subplots(figsize=(8,8))\n",
    "axes.set_xlim(-1,1)\n",
    "axes.set_ylim(-1,1)\n",
    "#affichage des étiquettes (noms des variables)\n",
    "for j in range(p):\n",
    " plt.annotate(X.columns[j],(corvar[j,0],corvar[j,1]))\n",
    "\n",
    "#ajouter les axes\n",
    "plt.plot([-1,1],[0,0],color='silver',linestyle='-',linewidth=1)\n",
    "plt.plot([0,0],[-1,1],color='silver',linestyle='-',linewidth=1)\n",
    "\n"
   ]
  },
  {
   "cell_type": "code",
   "execution_count": 65,
   "metadata": {},
   "outputs": [
    {
     "data": {
      "image/png": "[encoded data removed]",
      "text/plain": [
       "<Figure size 576x576 with 1 Axes>"
      ]
     },
     "metadata": {
      "needs_background": "light"
     },
     "output_type": "display_data"
    }
   ],
   "source": [
    "#cercle des corrélations\n",
    "fig, axes = plt.subplots(figsize=(8,8))\n",
    "axes.set_xlim(-1,1)\n",
    "axes.set_ylim(-1,1)\n",
    "#affichage des étiquettes (noms des variables)\n",
    "for j in range(p):\n",
    " plt.annotate(X.columns[j],(corvar[j,0],corvar[j,1]))\n",
    "\n",
    "#ajouter les axes\n",
    "plt.plot([-1,1],[0,0],color='silver',linestyle='-',linewidth=1)\n",
    "plt.plot([0,0],[-1,1],color='silver',linestyle='-',linewidth=1)\n",
    "\n",
    "#ajouter un cercle\n",
    "cercle = plt.Circle((0,0),1,color='blue',fill=False)\n",
    "axes.add_artist(cercle)\n",
    "#affichage\n",
    "\n",
    "dest = \"popplin_ACP1parsR+.pdf\"\n",
    "   \n",
    "plt.savefig(dest)"
   ]
  },
  {
   "cell_type": "code",
   "execution_count": null,
   "metadata": {},
   "outputs": [],
   "source": [
    "#cosinus carré des variables\n",
    "cos2var = corvar**2\n",
    "print(pd.DataFrame({'id':X.columns,'COS2_1':cos2var[:,0],'COS2_2':cos2var[:,1]}))"
   ]
  },
  {
   "cell_type": "code",
   "execution_count": null,
   "metadata": {},
   "outputs": [],
   "source": [
    "#contributions\n",
    "ctrvar = cos2var\n",
    "for k in range(n):\n",
    " ctrvar[:,k] = ctrvar[:,k]/eigval[k]\n",
    "#on n'affiche que pour les deux premiers axes\n",
    "print(pd.DataFrame({'id':X.columns,'CTR_1':ctrvar[:,0],'CTR_2':ctrvar[:,1]}))"
   ]
  },
  {
   "cell_type": "code",
   "execution_count": null,
   "metadata": {},
   "outputs": [],
   "source": []
  }
 ],
 "metadata": {
  "kernelspec": {
   "display_name": "Python 3",
   "language": "python",
   "name": "python3"
  },
  "language_info": {
   "codemirror_mode": {
    "name": "ipython",
    "version": 3
   },
   "file_extension": ".py",
   "mimetype": "text/x-python",
   "name": "python",
   "nbconvert_exporter": "python",
   "pygments_lexer": "ipython3",
   "version": "3.6.4"
  }
 },
 "nbformat": 4,
 "nbformat_minor": 2
}
