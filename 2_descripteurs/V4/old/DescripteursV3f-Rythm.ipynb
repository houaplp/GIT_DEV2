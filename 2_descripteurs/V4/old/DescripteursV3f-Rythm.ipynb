{
 "cells": [
  {
   "cell_type": "code",
   "execution_count": 1,
   "metadata": {},
   "outputs": [],
   "source": [
    "import os\n",
    "import math\n",
    "import glob\n",
    "import re\n",
    "import numpy as np\n",
    "import pandas as pd\n",
    "import matplotlib.pyplot as plt\n",
    "plt.rcParams[\"svg.fonttype\"]=\"none\""
   ]
  },
  {
   "cell_type": "markdown",
   "metadata": {},
   "source": [
    "## Dossier où sont les fichiers à étudier"
   ]
  },
  {
   "cell_type": "code",
   "execution_count": 53,
   "metadata": {},
   "outputs": [
    {
     "name": "stdout",
     "output_type": "stream",
     "text": [
      "7\n"
     ]
    }
   ],
   "source": [
    "#folder_path=\"/Users/laurentpottier/Documents/LP/Recherches/Projet_Fondation/Langages&Maths/Anaconda/LPanalyse/_A_PopPlinn/class/PopPlinnTxtSel2\"\n",
    "#folder_path=\"/Users/laurentpottier/Documents/LP/Recherches/Projet_Fondation/Langages&Maths/Anaconda/LPanalyse/PopPlinn/class/PopPlinnTxt\"\n",
    "folder_path=\"/Users/laurentpottier/Documents/LP/Recherches/Projet_Fondation/Langages&Maths/Anaconda/LPanalyse/00_tests\"\n",
    "\n",
    "filelist = []\n",
    "for path, dirs, files in os.walk(folder_path):\n",
    "    for filename in files:\n",
    "        if 'txt' in filename :\n",
    "                filelist.append(filename)\n",
    "filelist.sort()\n",
    "\n",
    "print(len(filelist))\n",
    "#print (filelist)\n",
    "\n",
    "#get classes in string\n",
    "#class_path=os.chdir(\"/Users/laurentpottier/Documents/LP/Recherches/Projet_Fondation/Langages&Maths/Anaconda/LPanalyse/_A_PopPlinn/class/PopPlinnTxtSel2/\")\n",
    "#class_path=os.chdir(\"/Users/laurentpottier/Documents/LP/Recherches/Projet_Fondation/Langages&Maths/Anaconda/LPanalyse/PopPlinn/class/PopPlinnTxt/\")\n",
    "class_path=os.chdir(\"/Users/laurentpottier/Documents/LP/Recherches/Projet_Fondation/Langages&Maths/Anaconda/LPanalyse/00_tests/\")\n"
   ]
  },
  {
   "cell_type": "markdown",
   "metadata": {},
   "source": [
    "## Utilitaires"
   ]
  },
  {
   "cell_type": "code",
   "execution_count": 54,
   "metadata": {},
   "outputs": [
    {
     "name": "stdout",
     "output_type": "stream",
     "text": [
      "note de freq 261Hz : 59.95855539654269\n",
      "frequence de note 60 : 261.6255653005986 Hz\n",
      "amp = 0.0 => amplitude en dB : -120 dB\n",
      "amp = 0.0001 => amplitude en dB : -80.0 dB\n",
      "amp = 0.5 => amplitude en dB : -6.021 dB\n",
      "amp = 1 => amplitude en dB : 0.0 dB\n",
      "amp60 = 0 => amplitude60 en dB : 0 dB\n",
      "amp60 = 1 => amplitude60 en dB : 60.0 dB\n"
     ]
    }
   ],
   "source": [
    "def f_to_midi (f) :\n",
    "    return 69+12*math.log(f/440,2)\n",
    "\n",
    "print (\"note de freq 261Hz :\" , f_to_midi (261))\n",
    "\n",
    "def midi_to_f (n) :\n",
    "    return 440*2**((n-69)/12)\n",
    "\n",
    "print (\"frequence de note 60 :\" , midi_to_f (60), \"Hz\")\n",
    "\n",
    "def dx2x(intervalles):\n",
    "    res=[0]\n",
    "    for i in range (len (intervalles)):\n",
    "        res.append(res[i]+intervalles[i-1])\n",
    "    return res\n",
    "               \n",
    "def a2db (a):\n",
    "    if(a<=0.000001):res = -120\n",
    "    else:\n",
    "        res = 20*math.log(a,10)\n",
    "    return res\n",
    "\n",
    "# version limitée à un ambitus 0 (0.001) - 60dB (1)               \n",
    "def a2db60 (a):\n",
    "    if(a<=0.001):res = 0\n",
    "    else:res = 60+20*math.log(a,10)\n",
    "    return res\n",
    "\n",
    "print (\"amp = 0.0 => amplitude en dB :\" , round(a2db(0.000001), 3), \"dB\")\n",
    "print (\"amp = 0.0001 => amplitude en dB :\" , round(a2db(0.0001), 3), \"dB\")\n",
    "print (\"amp = 0.5 => amplitude en dB :\" , round(a2db(0.5), 3), \"dB\")\n",
    "print (\"amp = 1 => amplitude en dB :\" , a2db(1), \"dB\")\n",
    "print (\"amp60 = 0 => amplitude60 en dB :\" , a2db60(0), \"dB\")\n",
    "print (\"amp60 = 1 => amplitude60 en dB :\" , a2db60(1), \"dB\")"
   ]
  },
  {
   "cell_type": "markdown",
   "metadata": {},
   "source": [
    "## bande de fréquences"
   ]
  },
  {
   "cell_type": "code",
   "execution_count": 55,
   "metadata": {},
   "outputs": [
    {
     "name": "stdout",
     "output_type": "stream",
     "text": [
      "len(f_ls) : 28 bornes\n",
      "w : [10.8, 10.8, 10.7, 10.8, 21.5, 21.6, 32.3, 32.3, 43.0, 53.9, 75.3, 96.9, 107.7, 150.7, 172.3, 236.9, 279.9, 366.1, 462.9, 570.6, 732.2, 915.1, 1152.1, 1453.5, 1830.3, 2304.0, 2896.2]\n",
      "f_c : [   26.4    37.3    48.2    59.     74.6    96.3   122.8   155.3   192.6\n",
      "   240.7   304.5   390.    492.3   619.9   781.2   983.4  1241.1  1561.3\n",
      "  1972.9  2486.9  3133.3  3951.9  4978.6  6272.7  7903.7  9957.3 12540.5]\n",
      "f_c_moy : 478.5 Hz\n",
      "f_c_gmoyR : 612.6 Hz\n"
     ]
    }
   ],
   "source": [
    "f_ls = [21.5,32.3,43.1,53.8,64.6,86.1,107.7,140.0,172.3,215.3,269.2,344.5,441.4,549.1,699.8,872.1,1109.0,1388.9,1755.0,2217.9,2788.5,3520.7,4435.8,5587.9,7041.4,8871.7,11175.7,14071.9]\n",
    "\n",
    "L = [] # liste des tailles des lignes\n",
    "for k in range(27):\n",
    "    L.append(4+2*k)\n",
    "\n",
    "f_c = [] # frequences centrales des bandes\n",
    "for i in range(len(f_ls)-1):\n",
    "    f_c.append(math.sqrt(f_ls[i+1]*f_ls[i]))\n",
    "    \n",
    "f_c_midi = []\n",
    "for i in range(len(f_c)):\n",
    "    f_c_midi.append(f_to_midi(f_c[i]))\n",
    "\n",
    "f_c_moy = 0 \n",
    "for i in range(len(f_c)):\n",
    "    f_c_moy += f_c[i]\n",
    "    f_c_moy /= 27\n",
    "    \n",
    "f_c_gmoy = 0\n",
    "for i in range(len(f_c)):\n",
    "    f_c_gmoy += math.log(f_c[i], 2)\n",
    "    f_c_gmoyR =  2**(f_c_gmoy/27)\n",
    "\n",
    "#formule equivalente\n",
    "#f_c_gmoy2 = 0\n",
    "#for i in range(len(f_c)):\n",
    "#    f_c_gmoy2 += f_to_midi(f_c[i])\n",
    "#    f_c_gmoyR2 =  midi_to_f(f_c_gmoy2/27)\n",
    "\n",
    "    \n",
    "print(\"len(f_ls) :\", len(f_ls), \"bornes\")\n",
    "\n",
    "W=[]\n",
    "for i in range(len(f_ls)-1):\n",
    "    W.append(round(f_ls[i+1]-f_ls[i], 2))\n",
    "print(\"w :\" , W)    \n",
    "    \n",
    "print (\"f_c :\", np.round(f_c, 1))\n",
    "print (\"f_c_moy :\", round(f_c_moy,1), \"Hz\") # (en Hz) moyenne des frequences des centres des bandes \n",
    "print (\"f_c_gmoyR :\", round(f_c_gmoyR,1), \"Hz\") # (en Hz) moyenne des centres calculée par les notes MIDI\n",
    "#print (\"f_c_gmoyR :\", f_c_gmoyR2) # (en Hz) moyenne des centres calculée par les notes MIDI\n",
    "\n",
    "f_cA = np.asarray(f_c)\n",
    "f_cA = f_cA[:, np.newaxis]\n",
    "#print (round(3.149 , 2))\n"
   ]
  },
  {
   "cell_type": "code",
   "execution_count": 56,
   "metadata": {},
   "outputs": [],
   "source": [
    "# read filetxt and generate array S\n",
    "def read(filetext):\n",
    "    with open(filetext) as f:\n",
    "        mylist = f.read().splitlines()\n",
    "        for x in range(8):\n",
    "            mylist.pop(0)\n",
    "        S=[]\n",
    "        for element in reversed(mylist):\n",
    "            element2=[float(i) for i in element.split()]\n",
    "            S.append(element2)\n",
    "        return S"
   ]
  },
  {
   "cell_type": "code",
   "execution_count": 57,
   "metadata": {},
   "outputs": [
    {
     "data": {
      "text/plain": [
       "['impuls2hz_sr44100_deb00_00_00_t02_00.txt',\n",
       " 'noise_sr44100_deb00_00_00_t02_00.txt',\n",
       " 'pink_sr44100_deb00_00_00_t02_00.txt',\n",
       " 'sinus13000_sr44100_deb00_00_00_t02_00.txt',\n",
       " 'sinus17000_sr44100_deb00_00_00_t02_00.txt',\n",
       " 'sinus5000_sr44100_deb00_00_00_t02_00.txt',\n",
       " 'sinus500_sr44100_deb00_00_00_t02_00.txt']"
      ]
     },
     "execution_count": 57,
     "metadata": {},
     "output_type": "execute_result"
    }
   ],
   "source": [
    "filelist"
   ]
  },
  {
   "cell_type": "code",
   "execution_count": 58,
   "metadata": {},
   "outputs": [
    {
     "name": "stdout",
     "output_type": "stream",
     "text": [
      "impuls2hz_sr44100_deb00_00_00_t02_00.txt\n",
      "noise_sr44100_deb00_00_00_t02_00.txt\n",
      "pink_sr44100_deb00_00_00_t02_00.txt\n",
      "sinus13000_sr44100_deb00_00_00_t02_00.txt\n",
      "sinus17000_sr44100_deb00_00_00_t02_00.txt\n"
     ]
    }
   ],
   "source": [
    "file1 = filelist[0]\n",
    "S1 = read(file1)\n",
    "file2 = filelist[1]\n",
    "S2 = read(file2)\n",
    "file3 = filelist[2]\n",
    "S3 = read(file3)\n",
    "file4 = filelist[3]\n",
    "S4 = read(file4)\n",
    "file5 = filelist[4]\n",
    "S5 = read(file5)\n",
    "\n",
    "print (file1)\n",
    "print (file2)\n",
    "print (file3)\n",
    "print (file4)\n",
    "print (file5)"
   ]
  },
  {
   "cell_type": "markdown",
   "metadata": {},
   "source": [
    "## calcule la date d'une analyse d'apres le nom du fichier"
   ]
  },
  {
   "cell_type": "code",
   "execution_count": 59,
   "metadata": {},
   "outputs": [
    {
     "name": "stdout",
     "output_type": "stream",
     "text": [
      "0.0\n"
     ]
    }
   ],
   "source": [
    "\n",
    "def timetxt (filetext):\n",
    "    str_L = filetext.rsplit(sep='_')\n",
    "    test = 0\n",
    "    result = 0\n",
    "    for str in str_L:\n",
    "        if test == 3:\n",
    "            cent = int(str)\n",
    "            result+=(cent/100)\n",
    "            test = 0\n",
    "        if test == 2:\n",
    "            sec = int(str)\n",
    "            test = 3\n",
    "            result+=sec\n",
    "        if re.search('deb', str):\n",
    "            test = 1\n",
    "            min = int(str[4-5])\n",
    "            result+=(min*60)\n",
    "            test = 2\n",
    "    return result\n",
    "\n",
    "print(timetxt(file2))"
   ]
  },
  {
   "cell_type": "markdown",
   "metadata": {},
   "source": [
    "## Calcul dans chaque bande des amplitudes min max, puis donne la moyenne pour l'ensemble des bandes"
   ]
  },
  {
   "cell_type": "code",
   "execution_count": 60,
   "metadata": {},
   "outputs": [
    {
     "name": "stdout",
     "output_type": "stream",
     "text": [
      "moyenne des écarts d'amplitudes  impuls2hz_sr44100_deb00_00_00_t02_00.txt  : 0.002\n",
      "moyenne des écarts d'amplitudes  noise_sr44100_deb00_00_00_t02_00.txt  : 0.027\n",
      "moyenne des écarts d'amplitudes  pink_sr44100_deb00_00_00_t02_00.txt  : 0.016\n"
     ]
    }
   ],
   "source": [
    "def ampmax(S, k):\n",
    "    ampmx = 0\n",
    "    for j in range(4+2*k):\n",
    "        ampmx = max(ampmx, S[k][j])\n",
    "    return ampmx\n",
    "\n",
    "def ampmin(S, k):\n",
    "    ampmn = 1\n",
    "    for j in range(4+2*k):\n",
    "        ampmn = min(ampmn, S[k][j])\n",
    "    return ampmn\n",
    "\n",
    "def deltaamp(S, k):\n",
    "    return ampmax(S, k) - ampmin(S, k)\n",
    "\n",
    "def moy_ecart_amps(S):\n",
    "    ecarts = []\n",
    "    for k in range(27):\n",
    "        ecarts.append(deltaamp(S, k))\n",
    "    ecartsA = np.asarray(ecarts)\n",
    "    return ecartsA.mean()\n",
    "        \n",
    "\n",
    "#for k in range(27):\n",
    "#    print(\"k =\",1+k ,\"amp min=\", round(ampmin(S1, k),3),\"amp max=\", round(ampmax(S1, k),3), \"ecart\" ,round(deltaamp(S1, k), 2))\n",
    "#for k in range(27):\n",
    "#    print(\"k =\",1+k ,\"amp min=\", round(ampmin(S2, k),3),\"amp max=\", round(ampmax(S2, k),3), \"ecart\" ,round(deltaamp(S2, k), 3))\n",
    "    \n",
    "print(\"moyenne des écarts d'amplitudes \", file1, \" :\",round(moy_ecart_amps (S1),3))\n",
    "print(\"moyenne des écarts d'amplitudes \", file2, \" :\",round(moy_ecart_amps (S2),3))\n",
    "print(\"moyenne des écarts d'amplitudes \", file3, \" :\",round(moy_ecart_amps (S3),3))"
   ]
  },
  {
   "cell_type": "markdown",
   "metadata": {},
   "source": [
    "## Calcul du taux de croissance"
   ]
  },
  {
   "cell_type": "code",
   "execution_count": 115,
   "metadata": {},
   "outputs": [
    {
     "name": "stdout",
     "output_type": "stream",
     "text": [
      "1.25\n",
      "0.25\n",
      "1.5\n",
      "lklkl\n",
      "10.0\n",
      "130.0\n",
      "2.0\n",
      "10.0\n"
     ]
    }
   ],
   "source": [
    "# taux de croissance = somme des valeurs positives pour la diff entre cell et cell+1\n",
    "\n",
    "def txcroiss1 (bande):\n",
    "    var = 0\n",
    "    n = len(bande)\n",
    "    for j in range(n-1):\n",
    "        var += max(0, (bande[j]-bande[j+1]))\n",
    "    return var/n\n",
    "\n",
    "print (txcroiss1([0,1, 2, -3]))\n",
    "print (txcroiss1([1,1, 2, 1]))\n",
    "print (txcroiss1([0,-1, 2, -3]))\n",
    "                   \n",
    "\n",
    "\n",
    "def txcroiss2 (bande):\n",
    "    var = 0\n",
    "    n = 0\n",
    "    for j in range(len(bande)-1):\n",
    "        y = (bande[j]-bande[j+1])*max(bande[j],bande[j+1])\n",
    "        if (y > 0):\n",
    "            var += y\n",
    "            n += 1\n",
    "    if (n==0): res = 0 \n",
    "    else : res = var/n\n",
    "    return res\n",
    "\n",
    "print (\"lklkl\")                 \n",
    "print (txcroiss2([0,1, 2, -3]))\n",
    "print (txcroiss2([0,1, 10, -3]))\n",
    "print (txcroiss2([1,1, 2, 1]))\n",
    "print (txcroiss2([0,-1, 2, -3]))\n",
    "                   \n",
    "\n"
   ]
  },
  {
   "cell_type": "code",
   "execution_count": 109,
   "metadata": {},
   "outputs": [
    {
     "name": "stdout",
     "output_type": "stream",
     "text": [
      "0\n"
     ]
    }
   ],
   "source": [
    "n = 0\n",
    "if (n==0): res = 0 \n",
    "else : res = \"kjkjk\"\n",
    "print (res)"
   ]
  },
  {
   "cell_type": "code",
   "execution_count": 116,
   "metadata": {},
   "outputs": [
    {
     "name": "stdout",
     "output_type": "stream",
     "text": [
      "impuls2hz_sr44100_deb00_00_00_t02_00.txt >>>>> 0.0005007962799735451\n",
      "noise_sr44100_deb00_00_00_t02_00.txt >>>>> 0.07274143788534558\n",
      "pink_sr44100_deb00_00_00_t02_00.txt >>>>> 0.015637689148382004\n",
      "sinus13000_sr44100_deb00_00_00_t02_00.txt >>>>> 0.0009284295110353814\n",
      "sinus17000_sr44100_deb00_00_00_t02_00.txt >>>>> 8.249221275132274e-05\n"
     ]
    }
   ],
   "source": [
    "def txcroiss2s (S):\n",
    "    res = 0\n",
    "    for k in range(27):\n",
    "        res += txcroiss2(S[k])\n",
    "    return 100*res/27\n",
    "\n",
    "print (file1, \">>>>>\", txcroiss2s(S1))\n",
    "print (file2, \">>>>>\", txcroiss2s(S2))\n",
    "print (file3, \">>>>>\", txcroiss2s(S3))\n",
    "print (file4, \">>>>>\", txcroiss2s(S4))\n",
    "print (file5, \">>>>>\", txcroiss2s(S5))"
   ]
  },
  {
   "cell_type": "code",
   "execution_count": 82,
   "metadata": {},
   "outputs": [
    {
     "name": "stdout",
     "output_type": "stream",
     "text": [
      "impuls2hz_sr44100_deb00_00_00_t02_00.txt >>>>> 0.0208082553645689\n",
      "noise_sr44100_deb00_00_00_t02_00.txt >>>>> 0.354677912820511\n",
      "pink_sr44100_deb00_00_00_t02_00.txt >>>>> 0.22276073640181393\n",
      "sinus13000_sr44100_deb00_00_00_t02_00.txt >>>>> 0.004691577851810789\n",
      "sinus17000_sr44100_deb00_00_00_t02_00.txt >>>>> 0.0024292573107202752\n"
     ]
    }
   ],
   "source": [
    "def txcroiss (S):\n",
    "    res = 0\n",
    "    for k in range(27):\n",
    "        res += txcroiss1(S[k])\n",
    "    return 100*res/27\n",
    "\n",
    "print (file1, \">>>>>\", txcroiss(S1))\n",
    "print (file2, \">>>>>\", txcroiss(S2))\n",
    "print (file3, \">>>>>\", txcroiss(S3))\n",
    "print (file4, \">>>>>\", txcroiss(S4))\n",
    "print (file5, \">>>>>\", txcroiss(S5))"
   ]
  },
  {
   "cell_type": "markdown",
   "metadata": {},
   "source": [
    "## Calcul des autosimilarités par bande"
   ]
  },
  {
   "cell_type": "code",
   "execution_count": 61,
   "metadata": {},
   "outputs": [
    {
     "name": "stdout",
     "output_type": "stream",
     "text": [
      "selfsimil S1 : [0.  0.1 0.1]\n",
      "selfsimil S2 : [ 89.1  98.2 107.8]\n",
      "selfsimil S3 : [114.8 176.6 208.3]\n",
      "selfsimil S1 : [0. 0. 0.]\n",
      "selfsimil S2 : [32.6 42.1 32.6]\n",
      "selfsimil S3 : [285.3 191.1 285.3]\n"
     ]
    }
   ],
   "source": [
    "def array_eucl_dist(Arr1, Arr2):\n",
    "    res = np.subtract(Arr1, Arr2)\n",
    "    res = np.multiply(res, res)\n",
    "    res = np.sum(res)\n",
    "    return res**0.5\n",
    "\n",
    "# pour une bande donnée (k entre 0 et 26) on effectue toutes les rotations possibles\n",
    "# et on calcule à chaque fois la distance de la matrice avec celle qui a tourné\n",
    "# on garde la moyenne de toutes les distances, la distance min et la distance max\n",
    "def selfsimil (S, k):\n",
    "    dist = 0\n",
    "    distmin = 1000\n",
    "    distmax = 0\n",
    "    maxamp = 1000*np.max(S[k])\n",
    "    # print (\"maxamp :\", maxamp)\n",
    "    nelets = 3+2*k\n",
    "    for j in range(nelets):\n",
    "        d = 1000*(array_eucl_dist(S[k], np.roll(S[k],j+1))/(1+k))\n",
    "        dist += d\n",
    "        distmin = min(distmin, d)\n",
    "        distmax = max(distmax, d)\n",
    "        #print(d)\n",
    "    return [distmin*maxamp, dist*maxamp/nelets, distmax*maxamp]\n",
    "\n",
    "#pour une bande donnée (k entre 0 et 26)\n",
    "def selfsimil2 (S, k):\n",
    "    res = []\n",
    "    dist = 0\n",
    "    distmin = 1000\n",
    "    distmax = 0\n",
    "    maxamp = 1000*np.max(S[k])\n",
    "    for j in range(3+2*k):\n",
    "        d = 1000*(array_eucl_dist(S[k], np.roll(S[k],j+1))/(1+k))\n",
    "        res.append(d*maxamp)\n",
    "    return res\n",
    "\n",
    "\n",
    "np.round_(selfsimil (S2, 4), 4)\n",
    "selfsimil2 (S2, 0)\n",
    "\n",
    "print(\"selfsimil S1 :\", np.round_(selfsimil (S1, 8), 1))\n",
    "print(\"selfsimil S2 :\", np.round_(selfsimil (S2, 8), 1))\n",
    "print(\"selfsimil S3 :\", np.round_(selfsimil (S3, 8), 1))\n",
    "\n",
    "\n",
    "print(\"selfsimil S1 :\", np.round_(selfsimil2 (S1, 0), 1))\n",
    "print(\"selfsimil S2 :\", np.round_(selfsimil2 (S2, 0), 1))\n",
    "print(\"selfsimil S3 :\", np.round_(selfsimil2 (S3, 0), 1))\n",
    "#voir les zero cross de la dérivée de d = nbre de cycles\n",
    "# ecarts, pics"
   ]
  },
  {
   "cell_type": "code",
   "execution_count": 62,
   "metadata": {},
   "outputs": [
    {
     "name": "stdout",
     "output_type": "stream",
     "text": [
      "selfsimilMoy S1 : impuls2hz_sr44100_deb00_00_00_t02_00.txt >>>> 1.4523348519837602\n",
      "selfsimilMoy S2 : noise_sr44100_deb00_00_00_t02_00.txt >>>> 310.31203527634267\n",
      "selfsimilMoy S3 : pink_sr44100_deb00_00_00_t02_00.txt >>>> 133.07144484218415\n",
      "selfsimilMoy S4 : sinus13000_sr44100_deb00_00_00_t02_00.txt >>>> 2.7233808562989084\n",
      "selfsimilMoy S5 : sinus17000_sr44100_deb00_00_00_t02_00.txt >>>> 0.25555350560625845\n"
     ]
    }
   ],
   "source": [
    "def all_selfsimil(S):\n",
    "    res=[]\n",
    "    for k in range (27):\n",
    "        res.append(selfsimil2 (S, k))\n",
    "    return res\n",
    "\n",
    "all_selfsimil(S2)\n",
    "\n",
    "def selfsimilMoy(S):\n",
    "    res = []\n",
    "    for k in range (27):\n",
    "        res.append(np.mean(selfsimil2 (S, k)))\n",
    "    return np.mean(res)               \n",
    "    #return np.round_(res, 2)         \n",
    "    \n",
    "\n",
    "print(\"selfsimilMoy S1 :\", file1, \">>>>\", selfsimilMoy (S1))\n",
    "print(\"selfsimilMoy S2 :\", file2, \">>>>\",  selfsimilMoy (S2))\n",
    "print(\"selfsimilMoy S3 :\", file3, \">>>>\",  selfsimilMoy (S3))\n",
    "print(\"selfsimilMoy S4 :\", file4, \">>>>\",  selfsimilMoy (S4))\n",
    "print(\"selfsimilMoy S5 :\", file5, \">>>>\",  selfsimilMoy (S5))\n"
   ]
  },
  {
   "cell_type": "markdown",
   "metadata": {},
   "source": [
    "# Représentations graphiques\n",
    "## Histogrammes"
   ]
  },
  {
   "cell_type": "code",
   "execution_count": 63,
   "metadata": {},
   "outputs": [
    {
     "data": {
      "image/png": "[encoded data removed]",
      "text/plain": [
       "<matplotlib.figure.Figure at 0x11bf7ad68>"
      ]
     },
     "metadata": {},
     "output_type": "display_data"
    }
   ],
   "source": [
    "#\n",
    "res=[]\n",
    "for fichier in filelist:\n",
    "    S = read(fichier)\n",
    "    res.append(selfsimilMoy(S))\n",
    "X = np.arange(len(res))\n",
    "plt.plot(X, res, 'ro')\n",
    "plt.grid()\n",
    "#axeX = np.arange(11)\n",
    "#plt.xticks(arrayscale(axeX,len(res)-1))\n",
    "    \n",
    "plt.xlim(0, len(res)-1)\n",
    "plt.ylim(-1, max(res)+1)\n",
    "plt.title(\"selfsimilMoy\", fontsize=10)\n",
    "#plt.show()\n",
    "\n",
    "dest = \"tests_selfsimilMoy.pdf\"\n",
    "   \n",
    "plt.savefig(dest)"
   ]
  },
  {
   "cell_type": "code",
   "execution_count": 64,
   "metadata": {},
   "outputs": [
    {
     "name": "stdout",
     "output_type": "stream",
     "text": [
      "maxS 0.000103\n"
     ]
    }
   ],
   "source": [
    "#------------liste d'intervales-------------------------#\n",
    "# Renvoie une liste d'intervales pour une taille donnée\n",
    "def liste_intervales(nb, taille):\n",
    "    taille_intervale = int(taille / nb)\n",
    "    intervals = [0] * nb\n",
    "    for i in range(0, nb):\n",
    "        intervals[i] = taille_intervale\n",
    "    ecart = taille - nb * taille_intervale\n",
    "    milieu = int(nb / 2)\n",
    "    i = 0\n",
    "    while (ecart > 0):\n",
    "        intervals[milieu + i] = intervals[milieu + i] + 1\n",
    "        if(i <= 0):\n",
    "            i = -i + 1\n",
    "        else:\n",
    "            i = -i\n",
    "        ecart -= 1\n",
    "    return intervals\n",
    "\n",
    "def doubleXvals(list):\n",
    "    res=[0]\n",
    "    j = len(list)\n",
    "    for i in range (j-2):\n",
    "        res.append(list[i+1])\n",
    "        res.append(list[i+1])\n",
    "    res.append(list[j-1])\n",
    "    return res\n",
    "\n",
    "def doubleYvals(list):\n",
    "    res=[]\n",
    "    j = len(list)\n",
    "    for i in range (j):\n",
    "        res.append(list[i])\n",
    "        res.append(list[i])\n",
    "    return res\n",
    "\n",
    "def doubleYvalsLog(list):\n",
    "    res=[]\n",
    "    j = len(list)\n",
    "    for i in range (j):\n",
    "        res.append(a2db(list[i]))\n",
    "        res.append(a2db(list[i]))\n",
    "    return res\n",
    "\n",
    "def arrayscale (Array, maxout):\n",
    "    maxin = (np.max(Array))\n",
    "    res =  np.multiply(Array, maxout/maxin)\n",
    "    return np.round_(res, 3)\n",
    "\n",
    "maxS1 = np.max(np.max(S1))\n",
    "print (\"maxS\", maxS1)"
   ]
  },
  {
   "cell_type": "code",
   "execution_count": 71,
   "metadata": {},
   "outputs": [
    {
     "data": {
      "image/png": "[encoded data removed]",
      "text/plain": [
       "<matplotlib.figure.Figure at 0x11bf4eb70>"
      ]
     },
     "metadata": {},
     "output_type": "display_data"
    }
   ],
   "source": [
    "# graphe du fichier texte\n",
    "def plotX2(filetxt, coeff):\n",
    "    S = read(filetxt)\n",
    "    maxS = np.max(np.max(S))\n",
    "    for k in range (27):\n",
    "        line = S[k]\n",
    "        nb_interval = len(line)\n",
    "        intervales = liste_intervales(len(line), len(S) * coeff)\n",
    "        x = doubleXvals(dx2x(intervales))\n",
    "        y = doubleYvals(np.add(line, k*maxS))\n",
    "        #print (\"x\", x)\n",
    "        #print (\"y\", y)\n",
    "        plt.plot(x, y, color=\"blue\", linewidth=0.5)\n",
    "        plt.fill_between(x, k*maxS, y, color='blue', alpha=.25)\n",
    "        \n",
    "    axeX = np.arange(9)\n",
    "    plt.xticks(arrayscale(axeX,270), arrayscale(axeX,2.0))\n",
    "    plt.yticks([])\n",
    "\n",
    "    lfile = filetxt.split(\"_\")\n",
    "    filename = lfile[0]+\"_\"+lfile[1]+\"_\"+lfile[2]+\"_\"+lfile[3]+\"_\"+lfile[4]+\"_\"+lfile[5]+\"_\"+lfile[6]\n",
    "    \n",
    "    #plt.title(label=\"courbe_\"+filename, loc='center')\n",
    "    plt.show()\n",
    "    #plt.savefig(\"courbe_\"+filename + \".pdf\")\n",
    "    # Efface tous les tracés présents sur le graphe\n",
    "    #plt.gcf().clear()\n",
    "\n",
    "plotX2(file1, 10)"
   ]
  },
  {
   "cell_type": "code",
   "execution_count": 74,
   "metadata": {},
   "outputs": [
    {
     "data": {
      "image/png": "[encoded data removed]",
      "text/plain": [
       "<matplotlib.figure.Figure at 0x1109c95c0>"
      ]
     },
     "metadata": {},
     "output_type": "display_data"
    },
    {
     "data": {
      "text/plain": [
       "<matplotlib.figure.Figure at 0x11c272eb8>"
      ]
     },
     "metadata": {},
     "output_type": "display_data"
    }
   ],
   "source": [
    "\n",
    "# Graphe des distances entre une bande et la même bande rotation 'i' pour toutes les bandes\n",
    "def plotX2sim(filetxt, coeff):\n",
    "    S = all_selfsimil(read(filetxt))\n",
    "    maxS = np.max(np.max(S))\n",
    "    for k in range (27):\n",
    "        line = S[k]\n",
    "        nb_interval = len(line)\n",
    "        intervales = liste_intervales(len(line), len(S) * coeff)\n",
    "        x = doubleXvals(dx2x(intervales))\n",
    "        y = doubleYvals(np.add(line, k*maxS))\n",
    "        #print (\"x\", x)\n",
    "        #print (\"y\", y)\n",
    "        plt.plot(x, y, color=\"blue\", linewidth=0.5)\n",
    "        plt.fill_between(x, k*maxS, y, color='blue', alpha=.25)\n",
    "        \n",
    "    axeX = np.arange(6)\n",
    "    plt.xticks(arrayscale(axeX,270), arrayscale(axeX,2.0))\n",
    "    plt.yticks([])\n",
    "\n",
    "    lfile = filetxt.split(\"_\")\n",
    "    filename = lfile[0]+\"sim_\"+lfile[1]+\"_\"+lfile[2]+\"_\"+lfile[3]+\"_\"+lfile[4]+\"_\"+lfile[5]+\"_\"+lfile[6]\n",
    "    \n",
    "    #plt.title(label=\"courbe_\"+filename, loc='center')\n",
    "    #plt.title('Easy as 1, 2, 3')\n",
    "    plt.title(\"courbe_\"+filename, loc='center')\n",
    "    plt.show()\n",
    "    #plt.savefig(\"courbe_\"+filename + \".pdf\")\n",
    "    # Efface tous les tracés présents sur le graphe\n",
    "    plt.gcf().clear()\n",
    "\n",
    "    \n",
    "plotX2sim(file1, 10)\n",
    "#print (all_selfsimil(S1))"
   ]
  },
  {
   "cell_type": "code",
   "execution_count": 73,
   "metadata": {},
   "outputs": [
    {
     "data": {
      "image/png": "[encoded data removed]",
      "text/plain": [
       "<matplotlib.figure.Figure at 0x11c26ec18>"
      ]
     },
     "metadata": {},
     "output_type": "display_data"
    },
    {
     "data": {
      "image/png": "[encoded data removed]",
      "text/plain": [
       "<matplotlib.figure.Figure at 0x11c279d68>"
      ]
     },
     "metadata": {},
     "output_type": "display_data"
    },
    {
     "data": {
      "image/png": "[encoded data removed]",
      "text/plain": [
       "<matplotlib.figure.Figure at 0x11c47ff28>"
      ]
     },
     "metadata": {},
     "output_type": "display_data"
    },
    {
     "data": {
      "image/png": "[encoded data removed]",
      "text/plain": [
       "<matplotlib.figure.Figure at 0x11c14fdd8>"
      ]
     },
     "metadata": {},
     "output_type": "display_data"
    },
    {
     "data": {
      "image/png": "[encoded data removed]",
      "text/plain": [
       "<matplotlib.figure.Figure at 0x11c1393c8>"
      ]
     },
     "metadata": {},
     "output_type": "display_data"
    },
    {
     "data": {
      "image/png": "[encoded data removed]",
      "text/plain": [
       "<matplotlib.figure.Figure at 0x10bfcb898>"
      ]
     },
     "metadata": {},
     "output_type": "display_data"
    },
    {
     "data": {
      "image/png": "[encoded data removed]",
      "text/plain": [
       "<matplotlib.figure.Figure at 0x11c9c8ef0>"
      ]
     },
     "metadata": {},
     "output_type": "display_data"
    },
    {
     "data": {
      "text/plain": [
       "<matplotlib.figure.Figure at 0x1109ce278>"
      ]
     },
     "metadata": {},
     "output_type": "display_data"
    }
   ],
   "source": [
    "for n in range (len( filelist)):\n",
    "    plotX2sim(filelist[n], 10)\n"
   ]
  },
  {
   "cell_type": "code",
   "execution_count": null,
   "metadata": {},
   "outputs": [],
   "source": []
  },
  {
   "cell_type": "code",
   "execution_count": null,
   "metadata": {},
   "outputs": [],
   "source": []
  }
 ],
 "metadata": {
  "kernelspec": {
   "display_name": "Python 3",
   "language": "python",
   "name": "python3"
  },
  "language_info": {
   "codemirror_mode": {
    "name": "ipython",
    "version": 3
   },
   "file_extension": ".py",
   "mimetype": "text/x-python",
   "name": "python",
   "nbconvert_exporter": "python",
   "pygments_lexer": "ipython3",
   "version": "3.6.4"
  }
 },
 "nbformat": 4,
 "nbformat_minor": 2
}
