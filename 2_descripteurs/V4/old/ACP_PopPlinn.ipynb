{
 "cells": [
  {
   "cell_type": "code",
   "execution_count": 88,
   "metadata": {},
   "outputs": [],
   "source": [
    "import os\n",
    "import math\n",
    "import glob\n",
    "import re\n",
    "import numpy as np\n",
    "import pandas as pd\n",
    "import matplotlib.pyplot as plt\n",
    "import sklearn\n",
    "from sklearn.linear_model import LinearRegression\n",
    "from sklearn.model_selection import train_test_split\n",
    "plt.rcParams[\"svg.fonttype\"]=\"none\"\n",
    "\n",
    "# d'apres http://eric.univ-lyon2.fr/~ricco/tanagra/fichiers/fr_Tanagra_ACP_Python.pdf"
   ]
  },
  {
   "cell_type": "code",
   "execution_count": 89,
   "metadata": {},
   "outputs": [
    {
     "name": "stdout",
     "output_type": "stream",
     "text": [
      "0.22.0\n"
     ]
    }
   ],
   "source": [
    "os.chdir(\"/Users/laurentpottier/Documents/LP/Recherches/Projet_Fondation/Langages&Maths/Anaconda/LPanalyse/PopPlinn/\")\n",
    "#librairie pandas\n",
    "#version\n",
    "print(pd.__version__) # 0.23.0\n",
    "#chargement de la première feuille de données\n",
    "X = pd.read_excel(\"Xparams_popplinnSel4e.xlsx\",sheet_name=0,header=0,index_col=0)\n",
    "#Nous remarquons que :\n",
    "#• Le fichier est un classeur Excel nommé « autos_acp_pour_python.xlsx » ;\n",
    "#• Les données actives sont situées dans la première feuille (sheet_name = 0) ;\n",
    "#• La première ligne correspond aux noms des variables (header = 0)\n",
    "#• La première colonne aux identifiants des observations (index_col = 0)."
   ]
  },
  {
   "cell_type": "markdown",
   "metadata": {},
   "source": [
    "## Importation des données actives"
   ]
  },
  {
   "cell_type": "code",
   "execution_count": 90,
   "metadata": {},
   "outputs": [
    {
     "name": "stdout",
     "output_type": "stream",
     "text": [
      "(23, 33)\n",
      "       time     centroid           sd  c_min_sdlow  c_plus_sdHi  \\\n",
      "Label                                                             \n",
      "int1      0   236.545770   707.149481         90.8       1432.0   \n",
      "int2a     4  1189.724608  1265.374205        306.4       2847.9   \n",
      "int3     16   593.614998   943.701484        215.7       2405.1   \n",
      "int2b    28  1360.840677  1300.998360        352.2       2938.2   \n",
      "int4     48   581.119476  1155.938614        184.8       3083.0   \n",
      "int5     50  1305.362969  2186.880788        270.8       5300.3   \n",
      "A0       54   691.788711  1500.455065        178.0       3767.9   \n",
      "A1a      60  1010.097035  1705.855127        244.0       4018.2   \n",
      "A2a      70  1736.019900  2540.572526        406.7       5955.0   \n",
      "A1b      80  1633.007324  2298.509899        444.2       5427.4   \n",
      "A2b      92  2037.351731  2828.292291        514.5       6808.0   \n",
      "B1a     100  1517.286082  2463.435102        330.6       5705.1   \n",
      "B2a     110  1823.020713  2724.599367        390.1       6327.9   \n",
      "B1b     116  1648.675356  2342.699135        516.3       5837.3   \n",
      "B2b     120  1724.798318  2485.395104        518.4       6202.0   \n",
      "C1a     132  2150.588407  2411.544188        773.2       5989.9   \n",
      "C2a     140  2306.554051  2469.547854        820.4       6014.4   \n",
      "C1b     148  2339.533674  2371.816969        797.6       5644.3   \n",
      "C2b     154  2464.834239  2444.859846        760.1       5650.3   \n",
      "A1c     164  1495.638439  2011.086414        363.4       4464.9   \n",
      "A2c     174  1621.998355  2335.450639        399.8       5509.0   \n",
      "fin1    188  1989.064610  2122.839646        664.6       5171.2   \n",
      "fin2    192  2383.075226  2390.179231        470.2       5171.5   \n",
      "\n",
      "       midi_centroid   mc_min_eclow  mc_plus_ecHi  midi_sp_slope  \\\n",
      "Label                                                              \n",
      "int1       49.201479           38.6          64.9      -0.000152   \n",
      "int2a      75.229125           53.8          96.4       0.000010   \n",
      "int3       63.278661           47.7          85.0      -0.000143   \n",
      "int2b      78.168156           53.3          96.9       0.000060   \n",
      "int4       60.390212           47.4          86.4      -0.000199   \n",
      "int5       69.260909           49.2          99.0      -0.000087   \n",
      "A0         60.422705           44.6          87.4      -0.000337   \n",
      "A1a        67.654646           48.6          94.7      -0.000180   \n",
      "A2a        75.232399           49.5         102.2       0.000013   \n",
      "A1b        76.958422           52.0         100.0       0.000052   \n",
      "A2b        78.329841           50.6         104.1       0.000097   \n",
      "B1a        73.385964           52.5         101.2      -0.000032   \n",
      "B2a        76.338851           53.7         104.0       0.000041   \n",
      "B1b        78.068559           54.9         100.7       0.000086   \n",
      "B2b        78.331665           55.3         101.4       0.000095   \n",
      "C1a        85.257718           58.0         103.5       0.000317   \n",
      "C2a        86.222405           55.3         104.0       0.000284   \n",
      "C1b        87.017002           57.5         104.8       0.000312   \n",
      "C2b        87.744492           57.7         105.7       0.000331   \n",
      "A1c        76.066405           51.5          98.9       0.000027   \n",
      "A2c        75.224073           50.9         101.4       0.000011   \n",
      "fin1       83.649547           57.0         102.9       0.000200   \n",
      "fin2       84.714277           52.4         105.6       0.000162   \n",
      "\n",
      "           sp_slope     ...       max_amoy   min_amp     max_freq  \\\n",
      "Label                   ...                                         \n",
      "int1  -1.107297e-06     ...       0.062178  0.000034    74.579220   \n",
      "int2a -1.875879e-06     ...       0.057808  0.000138  1972.920297   \n",
      "int3  -1.911160e-06     ...       0.049011  0.000141   240.746256   \n",
      "int2b -1.430030e-06     ...       0.086734  0.000099  1972.920297   \n",
      "int4  -2.135860e-06     ...       0.069050  0.000118   155.312588   \n",
      "int5  -1.379404e-06     ...       0.049869  0.000319   155.312588   \n",
      "A0    -3.392308e-06     ...       0.073428  0.000174   192.603712   \n",
      "A1a   -2.908592e-06     ...       0.074812  0.000333   192.603712   \n",
      "A2a   -1.209686e-06     ...       0.042166  0.000575    74.579220   \n",
      "A1b   -1.328053e-06     ...       0.044410  0.000755   122.792508   \n",
      "A2b   -5.183491e-07     ...       0.046805  0.000211    74.579220   \n",
      "B1a   -1.609368e-06     ...       0.070631  0.001299   304.531443   \n",
      "B2a   -1.006899e-06     ...       0.066269  0.001457   304.531443   \n",
      "B1b   -1.424241e-06     ...       0.078528  0.001327  1561.255745   \n",
      "B2b   -1.274893e-06     ...       0.069693  0.000873  1561.255745   \n",
      "C1a   -2.645077e-07     ...       0.136758  0.001412  1972.920297   \n",
      "C2a    1.401602e-07     ...       0.145583  0.000906  1972.920297   \n",
      "C1b    2.215732e-07     ...       0.103058  0.000973  1972.920297   \n",
      "C2b    5.164201e-07     ...       0.098565  0.001017  2486.888447   \n",
      "A1c   -1.415566e-06     ...       0.043873  0.000319   983.442372   \n",
      "A2c   -1.258380e-06     ...       0.039060  0.000393  1241.084244   \n",
      "fin1  -5.334732e-07     ...       0.072010  0.000789  2486.888447   \n",
      "fin2   2.075585e-07     ...       0.082685  0.000496  2486.888447   \n",
      "\n",
      "        max_moy_freq  mode_freq1  mode_freq2  mode_freq3  cell_sup_ampmoy  \\\n",
      "Label                                                                       \n",
      "int1       74.579220        53.8        86.1       215.3         0.833333   \n",
      "int2a     304.531443       172.3       441.4      1755.0         0.674561   \n",
      "int3      304.531443       107.7       215.3       441.4         1.094406   \n",
      "int2b    1972.920297       215.3       872.1      1755.0         0.350000   \n",
      "int4      155.312588       107.7       140.0       344.5         0.939394   \n",
      "int5      155.312588       107.7       215.3      1109.0         1.141414   \n",
      "A0         96.296262        86.1       140.0       441.4         0.325000   \n",
      "A1a        96.296262       107.7       215.3      1109.0         1.053571   \n",
      "A2a      1241.084244       140.0       441.4      1755.0         0.700000   \n",
      "A1b       304.531443       140.0       549.1      1755.0         0.410714   \n",
      "A2b      1972.920297       140.0       699.8      2217.9         0.522473   \n",
      "B1a       304.531443       140.0       344.5      1388.9         0.978822   \n",
      "B2a       304.531443       140.0       344.5      2217.9         0.422390   \n",
      "B1b      1561.255745       215.3       441.4      1755.0         0.314787   \n",
      "B2b      1561.255745       215.3       549.1      1755.0         0.548622   \n",
      "C1a      1972.920297       269.2      1109.0      2217.9         0.050000   \n",
      "C2a      1972.920297       344.5      1388.9      2217.9         0.100000   \n",
      "C1b      1972.920297       344.5      1388.9      2788.5         0.197619   \n",
      "C2b      2486.888447       344.5      1388.9      2788.5         0.388095   \n",
      "A1c      1561.255745       140.0       549.1      1755.0         0.313136   \n",
      "A2c       155.312588       140.0       441.4      1755.0         0.385965   \n",
      "fin1     1972.920297       215.3      1109.0      2217.9         0.197619   \n",
      "fin2     2486.888447       140.0      1388.9      3520.7         0.428571   \n",
      "\n",
      "       highcell_sup_ampmoy  nbandSupMed  \n",
      "Label                                    \n",
      "int1                0.0000            1  \n",
      "int2a              14.1187            7  \n",
      "int3                0.7143            6  \n",
      "int2b              11.7687            3  \n",
      "int4                0.0000            3  \n",
      "int5                6.8673            4  \n",
      "A0                  0.0000            6  \n",
      "A1a                 1.7857            7  \n",
      "A2a                27.1426           16  \n",
      "A1b                19.4151           15  \n",
      "A2b                35.6235           18  \n",
      "B1a                 6.2979            6  \n",
      "B2a                13.0596            7  \n",
      "B1b                 9.0055            5  \n",
      "B2b                 4.5423            6  \n",
      "C1a                17.9762            3  \n",
      "C2a                15.9184            1  \n",
      "C1b                27.6372            3  \n",
      "C2b                23.4239            3  \n",
      "A1c                24.8879           15  \n",
      "A2c                17.5448           16  \n",
      "fin1                9.7341            6  \n",
      "fin2               21.4914            2  \n",
      "\n",
      "[23 rows x 33 columns]\n"
     ]
    }
   ],
   "source": [
    "#dimension\n",
    "print(X.shape) # (18, 6)\n",
    "#nombre d'observations\n",
    "n = X.shape[0]\n",
    "#nombre de variables\n",
    "p = X.shape[1]\n",
    "#affichage des données\n",
    "print( X)"
   ]
  },
  {
   "cell_type": "markdown",
   "metadata": {},
   "source": [
    "## Préparation des données"
   ]
  },
  {
   "cell_type": "code",
   "execution_count": 91,
   "metadata": {},
   "outputs": [
    {
     "name": "stdout",
     "output_type": "stream",
     "text": [
      "0.19.1\n"
     ]
    }
   ],
   "source": [
    "#vérification de la version\n",
    "print(sklearn.__version__) # 0.19.1"
   ]
  },
  {
   "cell_type": "code",
   "execution_count": 92,
   "metadata": {},
   "outputs": [
    {
     "name": "stdout",
     "output_type": "stream",
     "text": [
      "[[-1.69465649e+00 -2.17246062e+00 -2.26340692e+00 -1.67242638e+00\n",
      "  -2.41189484e+00 -2.72198437e+00 -2.94306870e+00 -3.61209454e+00\n",
      "  -1.12355413e+00  6.58884068e-02  4.15962420e+00  4.49979341e+00\n",
      "  -2.13707105e+00 -3.31987046e+00 -2.83705510e+00 -1.72657744e+00\n",
      "   1.51185768e+00 -2.73412489e-01 -1.09055556e+00  2.84929751e+00\n",
      "  -2.42066321e+00 -1.53882031e+00 -1.03264626e+00 -3.70424686e-01\n",
      "  -1.27431617e+00 -1.07724467e+00 -1.14460585e+00 -1.49152209e+00\n",
      "  -1.23448118e+00 -1.84468209e+00  9.22971095e-01 -1.34150533e+00\n",
      "  -1.15212873e+00]\n",
      " [-1.62505453e+00 -6.05779069e-01 -1.31813464e+00 -6.25883054e-01\n",
      "  -1.41430491e+00  1.88742371e-02  4.39235105e-01 -1.61458340e-01\n",
      "  -1.88622407e-01 -7.48378392e-01 -5.17821349e-01 -2.96828445e-01\n",
      "  -3.80969201e-01 -1.10898900e+00 -3.48738435e-01 -1.57839423e+00\n",
      "   1.51185768e+00 -4.40191557e-01 -8.33355192e-01 -4.51237799e-01\n",
      "  -4.17831840e-01 -1.49215190e+00 -5.78451068e-01 -5.30273446e-01\n",
      "  -1.04643307e+00  9.81233639e-01 -8.84528843e-01 -3.42202595e-02\n",
      "  -4.26085001e-01  5.84873770e-02  4.27035592e-01  6.84961881e-02\n",
      "   1.69430695e-02]\n",
      " [-1.41624864e+00 -1.58556784e+00 -1.86284055e+00 -1.06614966e+00\n",
      "  -1.72628515e+00 -1.23957726e+00 -9.18136817e-01 -1.41026001e+00\n",
      "  -1.07212008e+00 -7.85755749e-01  8.95165504e-01  6.37398177e-01\n",
      "  -1.59076413e+00 -1.19364041e+00 -1.67560430e+00 -1.61812292e+00\n",
      "   1.51185768e+00 -7.93457302e-01 -8.33355192e-01 -2.67585281e-01\n",
      "  -1.63450668e+00 -1.52382205e+00 -1.14276186e+00 -8.52080495e-01\n",
      "  -1.03985952e+00 -8.97060377e-01 -8.84528843e-01 -8.28664970e-01\n",
      "  -9.40518933e-01 -1.56520777e+00  1.73844901e+00 -1.27016986e+00\n",
      "  -1.77902230e-01]\n",
      " [-1.20744275e+00 -3.24526090e-01 -1.25781032e+00 -4.03565409e-01\n",
      "  -1.35068292e+00  3.28370923e-01  3.27975112e-01 -1.06686337e-01\n",
      "   1.03297234e-01 -2.76027826e-01 -6.35817879e-01 -3.26301712e-01\n",
      "  -3.80969201e-01 -1.14249259e+00 -6.08089283e-01 -1.57396195e+00\n",
      "   1.51185768e+00  4.58781100e-01  1.03272906e+00  8.27675454e-01\n",
      "  -5.26864895e-01 -1.49858892e+00  2.27332413e-01  5.27885043e-01\n",
      "  -1.13188924e+00  9.81233639e-01  1.00242654e+00  4.94589687e-01\n",
      "   5.53864996e-01  5.84873770e-02 -5.86755213e-01 -1.66192811e-01\n",
      "  -7.62438128e-01]\n",
      " [-8.59432934e-01 -1.60610597e+00 -1.50344787e+00 -1.21614126e+00\n",
      "  -1.24866228e+00 -1.54374731e+00 -9.84892813e-01 -1.25689840e+00\n",
      "  -1.39416365e+00 -1.02381198e+00  8.88092796e-01  4.84202383e-01\n",
      "  -1.75349338e+00 -8.65641440e-01 -1.36346401e+00 -1.51639499e+00\n",
      "   1.51185768e+00 -8.97299307e-02 -1.00025571e+00  2.20653010e-01\n",
      "  -1.10857692e+00 -1.23357676e+00 -7.00055890e-01 -1.19023725e-01\n",
      "  -1.09025675e+00 -9.89700922e-01 -1.05329605e+00 -8.28664970e-01\n",
      "  -1.11184523e+00 -1.68498248e+00  1.25425900e+00 -1.34150533e+00\n",
      "  -7.62438128e-01]\n",
      " [-8.24631953e-01 -4.15711393e-01  2.42302578e-01 -7.98688910e-01\n",
      "   3.13563974e-01 -6.09612727e-01 -5.84356836e-01  1.23356077e-01\n",
      "  -7.45620276e-01 -2.22392929e-01 -2.14127928e-01 -2.91180229e-01\n",
      "   1.39173632e-01  6.86270663e-01 -9.94696329e-01  1.13759075e+00\n",
      "   1.51185768e+00 -7.65112620e-01 -9.04698592e-01 -7.13175180e-01\n",
      "  -1.32779112e+00 -5.47197183e-01 -1.09213691e+00 -8.20680398e-01\n",
      "  -6.49828842e-01 -9.89700922e-01 -1.05329605e+00 -8.28664970e-01\n",
      "  -9.40518933e-01 -7.40010692e-01  1.88528358e+00 -6.55684157e-01\n",
      "  -5.67592829e-01]\n",
      " [-7.55029990e-01 -1.42420574e+00 -9.20059430e-01 -1.24914912e+00\n",
      "  -7.66107480e-01 -1.54032567e+00 -1.60794878e+00 -1.14735440e+00\n",
      "  -2.19628576e+00 -2.35494339e+00  8.03081824e-01  3.08642745e-01\n",
      "  -1.59076413e+00 -8.46159279e-02  2.66856398e-01  2.78477394e-02\n",
      "   1.51185768e+00  7.90069575e-02 -1.06626516e+00 -8.45255255e-02\n",
      "   6.47669668e-01 -2.66414316e-01  2.36089553e-01  4.11441064e-02\n",
      "  -9.67550465e-01 -9.49264053e-01 -1.12004378e+00 -1.09429973e+00\n",
      "  -1.11184523e+00 -1.56520777e+00 -6.64844505e-01 -1.34150533e+00\n",
      "  -1.77902230e-01]\n",
      " [-6.50627045e-01 -9.01021885e-01 -5.72244335e-01 -9.28778711e-01\n",
      "  -5.89755506e-01 -7.78761246e-01 -7.17868828e-01 -3.47683150e-01\n",
      "  -1.28508560e+00 -1.84247486e+00  3.00268865e-01  1.39303903e-02\n",
      "  -7.94549754e-01  1.38419449e-01  7.93644563e-01  9.92522051e-01\n",
      "  -6.61675662e-01  1.24919949e-01 -1.06626516e+00 -6.83754439e-01\n",
      "   6.48562864e-01 -1.43789061e-01 -2.17942796e-01  9.17571608e-02\n",
      "  -6.19152272e-01 -9.49264053e-01 -1.12004378e+00 -8.28664970e-01\n",
      "  -9.40518933e-01 -7.40010692e-01  1.61090057e+00 -1.16317165e+00\n",
      "   1.69430695e-02]\n",
      " [-4.76622138e-01  2.92132970e-01  8.41228035e-01 -1.39017119e-01\n",
      "   7.74840991e-01  1.92190524e-02 -5.17600840e-01  4.73896897e-01\n",
      "  -1.69416923e-01 -4.25864450e-02 -3.29702033e-01 -3.37303010e-01\n",
      "   1.39173632e-01  1.22307128e+00  7.09316080e-01  5.56310748e-02\n",
      "  -6.61675662e-01 -1.07392479e+00 -8.33355192e-01 -1.26950689e+00\n",
      "   1.97386597e-02  6.93731773e-01 -8.56110286e-01 -1.10246530e+00\n",
      "  -8.88858393e-02 -1.07724467e+00  1.74716635e-01 -4.31442615e-01\n",
      "  -4.26085001e-01  5.84873770e-02  5.06494872e-01  1.36916260e+00\n",
      "   1.77055076e+00]\n",
      " [-3.02617230e-01  1.22817521e-01  4.31330225e-01  4.30115209e-02\n",
      "   4.03113858e-01  2.00979023e-01  3.86991282e-02  2.32900083e-01\n",
      "   5.80139515e-02 -1.67990097e-01 -1.64894038e-01 -2.57544116e-01\n",
      "   1.39173632e-01  6.18926228e-01  1.94887170e-01 -3.82353741e-01\n",
      "  -6.61675662e-01 -1.00897364e+00 -8.33355192e-01 -7.90215932e-01\n",
      "  -3.01341494e-02  1.54097251e+00 -5.05969455e-01 -1.02041158e+00\n",
      "   3.05527210e-01 -1.02496428e+00 -8.84528843e-01 -4.31442615e-01\n",
      "  -1.81040620e-01  5.84873770e-02 -3.97109790e-01  5.97435259e-01\n",
      "   1.57570546e+00]\n",
      " [-9.38113414e-02  7.87413604e-01  1.32843956e+00  3.84254544e-01\n",
      "   1.37583274e+00  3.45397188e-01 -2.72828854e-01  6.82030508e-01\n",
      "   3.16636536e-01  6.89842753e-01 -4.51945835e-01 -3.84708495e-01\n",
      "   7.97858217e-01  1.27171887e+00  8.89444707e-01  3.62188160e-01\n",
      "  -6.61675662e-01 -8.65068955e-01  1.03272906e+00 -1.24908921e+00\n",
      "   1.98922660e-01  9.81595364e-01 -7.51856903e-01 -9.32791376e-01\n",
      "  -8.86476671e-01 -1.07724467e+00  1.00242654e+00 -4.31442615e-01\n",
      "   1.61839492e-01  6.30661922e-01 -4.80239087e-02  2.21613023e+00\n",
      "   2.16024136e+00]\n",
      " [ 4.53925846e-02 -6.73863812e-02  7.10607040e-01 -5.08413905e-01\n",
      "   5.98770842e-01 -1.75221003e-01  1.49959122e-01  3.64352890e-01\n",
      "  -4.29658905e-01 -4.66026172e-01 -1.78392456e-01 -2.85557220e-01\n",
      "   1.39173632e-01  5.10407181e-01  4.80366301e-02  1.16111137e+00\n",
      "  -6.61675662e-01 -6.27555072e-02 -8.33355192e-01 -5.03790963e-01\n",
      "   5.55992169e-01  7.64410267e-01 -1.68602467e-01 -6.11787928e-02\n",
      "   1.49753109e+00 -8.27894501e-01 -8.84528843e-01 -4.31442615e-01\n",
      "  -6.46556686e-01 -3.94036064e-01  1.37741554e+00 -7.12548802e-01\n",
      "  -1.77902230e-01]\n",
      " [ 2.19397492e-01  4.35130866e-01  1.15285069e+00 -2.19595130e-01\n",
      "   1.03757232e+00  1.35734674e-01  4.16983106e-01  6.71076108e-01\n",
      "  -4.28252067e-03  1.72253278e-01 -3.89602028e-01 -3.65070486e-01\n",
      "   7.97858217e-01  7.45808906e-01  4.62828546e-01  1.58874465e+00\n",
      "  -6.59772259e-01 -4.00980518e-01 -8.33355192e-01 -5.37048384e-01\n",
      "   6.44904232e-01  1.81930931e+00 -2.41820397e-02 -2.20766910e-01\n",
      "   1.84373810e+00 -8.27894501e-01 -8.84528843e-01 -4.31442615e-01\n",
      "  -6.46556686e-01  6.30661922e-01 -3.60639517e-01 -3.72736499e-02\n",
      "   1.69430695e-02]\n",
      " [ 3.23800437e-01  1.48570104e-01  5.06158260e-01  3.92991919e-01\n",
      "   6.91913994e-01  3.17882808e-01  6.84007091e-01  3.09580887e-01\n",
      "   2.54009915e-01 -2.69895005e-01 -1.68573919e-01 -2.75200445e-01\n",
      "  -3.80969201e-01  5.30548541e-01  6.09208682e-01  1.15915045e+00\n",
      "  -6.61675662e-01  2.37014907e-01  5.72284396e-01 -3.06908350e-01\n",
      "   7.79056712e-01  1.44106994e+00  2.38459770e-01  2.27673902e-01\n",
      "   1.55888423e+00  5.34842545e-01  5.36832059e-01  4.94589687e-01\n",
      "  -4.26085001e-01  5.84873770e-02 -6.96745644e-01 -4.42147127e-01\n",
      "  -3.72747529e-01]\n",
      " [ 3.93402399e-01  2.73688744e-01  7.47793107e-01  4.03185523e-01\n",
      "   9.48867909e-01  3.45589293e-01  7.73015086e-01  3.86261692e-01\n",
      "   3.07251531e-01 -1.11670239e-01 -2.38864788e-01 -3.07892877e-01\n",
      "   1.39173632e-01  6.74996394e-01  6.81061564e-01  1.11186035e+00\n",
      "  -6.59772259e-01 -2.18970776e-01  5.72284396e-01 -3.51936905e-01\n",
      "   7.63932927e-01  8.61802398e-01  2.57204391e-01 -9.54876238e-02\n",
      "   5.64086875e-01  5.34842545e-01  5.36832059e-01  4.94589687e-01\n",
      "  -1.81040620e-01  5.84873770e-02  3.36534458e-02 -8.87876464e-01\n",
      "  -1.77902230e-01]\n",
      " [ 6.02208288e-01  9.73533778e-01  6.22737334e-01  1.64000945e+00\n",
      "   7.99430220e-01  1.07494194e+00  1.37381905e+00  6.16304105e-01\n",
      "   1.59236224e+00  9.58772422e-01 -4.11179058e-01 -3.49003646e-01\n",
      "   7.97858217e-01  1.97928665e-01  1.76479123e+00  6.80732945e-01\n",
      "  -6.61675662e-01  2.40700849e+00  1.03272906e+00  1.04927004e+00\n",
      "   1.92218587e+00  7.62929752e-01  2.48933410e+00  2.35783203e+00\n",
      "   1.74513484e+00  9.81233639e-01  1.00242654e+00  1.15744681e+00\n",
      "   1.09287162e+00  6.30661922e-01 -1.52382671e+00  4.53735684e-01\n",
      "  -7.62438128e-01]\n",
      " [ 7.41412214e-01  1.22988493e+00  7.20958095e-01  1.86912284e+00\n",
      "   8.16691999e-01  1.17652890e+00  7.73015086e-01  6.71076108e-01\n",
      "   1.40075682e+00  1.38749369e+00 -4.79230570e-01 -3.69787565e-01\n",
      "   7.97858217e-01  2.55483226e-02  6.91499882e-01  3.52299317e-01\n",
      "  -6.61675662e-01  2.70672276e+00  1.03272906e+00  1.86242552e+00\n",
      "   1.26874441e+00  4.96308332e-01  2.47717542e+00  2.68067342e+00\n",
      "   6.36395934e-01  9.81233639e-01  1.00242654e+00  2.08347911e+00\n",
      "   1.72971398e+00  6.30661922e-01 -1.36764813e+00  2.48228014e-01\n",
      "  -1.15212873e+00]\n",
      " [ 8.80616140e-01  1.28409151e+00  5.55465073e-01  1.75844942e+00\n",
      "   5.55933447e-01  1.26020446e+00  1.26255906e+00  7.58711313e-01\n",
      "   1.56245195e+00  1.47374582e+00 -5.47670777e-01 -3.79759545e-01\n",
      "   7.97858217e-01  1.25508231e-01  7.88489478e-01  3.24520580e-01\n",
      "  -6.61675662e-01  1.16665615e+00  1.03272906e+00  3.65798947e-01\n",
      "   9.48281153e-01  2.17392201e-01  9.47661412e-01  1.12504984e+00\n",
      "   7.83205235e-01  9.81233639e-01  1.00242654e+00  2.08347911e+00\n",
      "   1.72971398e+00  1.33596068e+00 -1.06272804e+00  1.41855714e+00\n",
      "  -7.62438128e-01]\n",
      " [ 9.85019085e-01  1.49004036e+00  6.79152549e-01  1.57642078e+00\n",
      "   5.60160821e-01  1.33681335e+00  1.30706306e+00  8.57300918e-01\n",
      "   1.66962338e+00  1.78611831e+00 -6.50729715e-01 -4.11718820e-01\n",
      "   1.62409265e+00  2.21465103e-01  7.63548911e-01  3.93535315e-01\n",
      "  -6.61675662e-01  9.40795599e-01  1.60759976e+00  1.17778374e-01\n",
      "   8.77994153e-01  2.53758572e-02  6.72119105e-01  9.60692113e-01\n",
      "   8.79617314e-01  1.53855829e+00  1.58372686e+00  2.08347911e+00\n",
      "   1.72971398e+00  1.33596068e+00 -4.67762007e-01  9.97784731e-01\n",
      "  -7.62438128e-01]\n",
      " [ 1.15902399e+00 -1.02967282e-01 -5.53795956e-02 -3.49199522e-01\n",
      "  -2.75027473e-01  1.07044596e-01 -7.25608654e-02  1.12401676e-01\n",
      "  -8.63517692e-02 -2.60704338e-01 -1.43866764e-01 -2.19968519e-01\n",
      "   1.39173632e-01  4.54429743e-01 -2.28270542e-01 -2.80793775e-01\n",
      "  -6.61675662e-01 -1.00908329e+00  5.72284396e-01 -9.55269579e-01\n",
      "  -6.66373211e-01 -4.10667962e-01 -9.09286387e-01 -1.04002365e+00\n",
      "  -6.49828842e-01 -9.17130863e-02  5.36832059e-01 -4.31442615e-01\n",
      "  -1.81040620e-01  5.84873770e-02 -7.01903245e-01  1.14399098e+00\n",
      "   1.57570546e+00]\n",
      " [ 1.33302890e+00  1.04722754e-01  4.93883988e-01 -1.72510389e-01\n",
      "   4.60606151e-01  1.83422232e-02 -2.06072858e-01  3.86261692e-01\n",
      "  -1.81693963e-01 -9.41751040e-02 -2.66623289e-01 -3.03172755e-01\n",
      "   1.39173632e-01  9.23562269e-01 -1.97038160e-02 -1.35027816e-01\n",
      "  -6.61675662e-01 -1.23011445e+00 -1.00025571e+00 -9.75209227e-01\n",
      "  -5.51038317e-01 -1.43595951e-01 -8.19417148e-01 -1.21608933e+00\n",
      "  -4.87681255e-01  1.87662527e-01 -1.05329605e+00 -4.31442615e-01\n",
      "  -4.26085001e-01  5.84873770e-02 -4.74416232e-01  4.10652776e-01\n",
      "   1.77055076e+00]\n",
      " [ 1.57663577e+00  7.08047028e-01  1.33858230e-01  1.11285451e+00\n",
      "   2.22604965e-01  9.05592440e-01  1.15129906e+00  5.50577701e-01\n",
      "   9.16216164e-01  6.73819742e-01 -4.85885260e-01 -3.48133377e-01\n",
      "   7.97858217e-01  1.05901646e-01  2.95950063e-01 -3.93315403e-01\n",
      "  -6.61675662e-01 -2.47710626e-01  1.03272906e+00  1.07698537e+00\n",
      "   1.10366604e-01 -3.77195452e-01  1.25215294e+00 -1.07558313e-02\n",
      "   3.80027452e-01  1.53855829e+00  1.00242654e+00  4.94589687e-01\n",
      "   1.09287162e+00  6.30661922e-01 -1.06272804e+00 -3.69383551e-01\n",
      "  -1.77902230e-01]\n",
      " [ 1.64623773e+00  1.35565809e+00  5.86558890e-01  1.69218045e-01\n",
      "   2.22816334e-01  1.01771448e+00  1.27707123e-01  8.46346518e-01\n",
      "   6.96236254e-01  1.45889809e+00 -7.71305497e-01 -4.34835842e-01\n",
      "   1.62409265e+00 -7.39261664e-01 -8.83942089e-01 -1.42792494e-01\n",
      "  -6.61675662e-01  3.58580530e-01  1.60759976e+00  7.69369446e-01\n",
      "  -7.02571735e-01 -4.29077843e-01  1.89035268e-03  3.79745528e-01\n",
      "  -2.61989344e-01  1.53855829e+00  1.58372686e+00 -4.31442615e-01\n",
      "   1.72971398e+00  2.24100756e+00 -3.41331725e-01  8.04790480e-01\n",
      "  -9.57283427e-01]]\n"
     ]
    }
   ],
   "source": [
    "#classe pour standardisation\n",
    "from sklearn.preprocessing import StandardScaler\n",
    "#instanciation\n",
    "sc = StandardScaler()\n",
    "#transformation – centrage-réduction\n",
    "Z = sc.fit_transform(X)\n",
    "print(Z)"
   ]
  },
  {
   "cell_type": "code",
   "execution_count": 93,
   "metadata": {},
   "outputs": [
    {
     "name": "stdout",
     "output_type": "stream",
     "text": [
      "moyenne [-8.68870193e-17  1.54465812e-16  8.68870193e-17 -2.06356671e-16\n",
      "  3.37893964e-17 -4.15126870e-16 -2.21561899e-15 -2.09011552e-15\n",
      " -1.93082265e-17  2.22044605e-16  0.00000000e+00 -8.44734910e-17\n",
      " -4.82705663e-17  4.82705663e-16  2.07563435e-16  4.82705663e-18\n",
      "  3.08931624e-16  3.28239851e-16  1.73774039e-16 -1.93082265e-17\n",
      "  3.37893964e-17 -9.17140759e-17  3.08554510e-16  1.25503472e-16\n",
      "  1.71360510e-16  2.12390492e-16  3.86164530e-17  5.79246795e-17\n",
      " -2.89623398e-17 -2.51006945e-16  9.17140759e-17 -7.24058494e-17\n",
      "  1.11022302e-16]\n",
      "ecart [1. 1. 1. 1. 1. 1. 1. 1. 1. 1. 1. 1. 1. 1. 1. 1. 1. 1. 1. 1. 1. 1. 1. 1.\n",
      " 1. 1. 1. 1. 1. 1. 1. 1. 1.]\n"
     ]
    }
   ],
   "source": [
    "#vérification - librairie numpy\n",
    "import numpy\n",
    "#moyenne\n",
    "print(\"moyenne\", numpy.mean(Z,axis=0))\n",
    "\n",
    "#écart-type\n",
    "print(\"ecart\", numpy.std(Z,axis=0,ddof=0))"
   ]
  },
  {
   "cell_type": "markdown",
   "metadata": {},
   "source": [
    "## Analyse en composantes principales avec PCA de ‘’scikit-learn’’"
   ]
  },
  {
   "cell_type": "code",
   "execution_count": 94,
   "metadata": {},
   "outputs": [
    {
     "name": "stdout",
     "output_type": "stream",
     "text": [
      "PCA(copy=True, iterated_power='auto', n_components=None, random_state=None,\n",
      "  svd_solver='full', tol=0.0, whiten=False)\n"
     ]
    }
   ],
   "source": [
    "# Il faut instancier l’objet PCA dans un premier temps, nous affichons ses propriétés.\n",
    "\n",
    "\n",
    "#classe pour l'ACP\n",
    "from sklearn.decomposition import PCA\n",
    "#instanciation\n",
    "acp = PCA(svd_solver='full')\n",
    "\n",
    "#affichage des paramètres\n",
    "print(acp)"
   ]
  },
  {
   "cell_type": "code",
   "execution_count": 95,
   "metadata": {},
   "outputs": [
    {
     "name": "stdout",
     "output_type": "stream",
     "text": [
      "33\n"
     ]
    }
   ],
   "source": [
    "#calculs\n",
    "coord = acp.fit_transform(Z)\n",
    "#nombre de composantes calculées\n",
    "print(acp.n_components_) # 6"
   ]
  },
  {
   "cell_type": "code",
   "execution_count": 96,
   "metadata": {},
   "outputs": [
    {
     "name": "stdout",
     "output_type": "stream",
     "text": [
      "[1.95811740e+01 6.37044338e+00 2.93851835e+00 1.70382760e+00\n",
      " 1.04392672e+00 6.99481415e-01 5.52201470e-01 3.69667654e-01\n",
      " 3.24694089e-01 2.87129042e-01 1.82093752e-01 1.44099866e-01\n",
      " 8.59354726e-02 6.22174529e-02 4.94168462e-02 3.72582852e-02\n",
      " 2.48319696e-02 1.80790538e-02 1.17106430e-02 6.20377215e-03\n",
      " 4.06926427e-03 3.01987177e-03 6.98720557e-32]\n",
      "[1.87298186e+01 6.09346758e+00 2.81075668e+00 1.62974814e+00\n",
      " 9.98538601e-01 6.69069179e-01 5.28192710e-01 3.53595147e-01\n",
      " 3.10576954e-01 2.74645171e-01 1.74176632e-01 1.37834654e-01\n",
      " 8.21991477e-02 5.95123462e-02 4.72682877e-02 3.56383597e-02\n",
      " 2.37523187e-02 1.72930080e-02 1.12014846e-02 5.93404293e-03\n",
      " 3.89233974e-03 2.88857300e-03 6.68341402e-32]\n",
      "[1.87298186e+01 6.09346758e+00 2.81075668e+00 1.62974814e+00\n",
      " 9.98538601e-01 6.69069179e-01 5.28192710e-01 3.53595147e-01\n",
      " 3.10576954e-01 2.74645171e-01 1.74176632e-01 1.37834654e-01\n",
      " 8.21991477e-02 5.95123462e-02 4.72682877e-02 3.56383597e-02\n",
      " 2.37523187e-02 1.72930080e-02 1.12014846e-02 5.93404293e-03\n",
      " 3.89233974e-03 2.88857300e-03 6.68341402e-32]\n"
     ]
    }
   ],
   "source": [
    "# Valeurs propres et scree plot\n",
    "#variance expliquée\n",
    "print(acp.explained_variance_)\n",
    "\n",
    "#valeur corrigée\n",
    "eigval = (n-1)/n*acp.explained_variance_\n",
    "print(eigval)\n",
    "\n",
    "#ou bien en passant par les valeurs singulières\n",
    "print(acp.singular_values_**2/n)"
   ]
  },
  {
   "cell_type": "code",
   "execution_count": 97,
   "metadata": {},
   "outputs": [
    {
     "name": "stdout",
     "output_type": "stream",
     "text": [
      "[5.67570262e-01 1.84650533e-01 8.51744449e-02 4.93863073e-02\n",
      " 3.02587455e-02 2.02748236e-02 1.60058397e-02 1.07150045e-02\n",
      " 9.41142286e-03 8.32258094e-03 5.27807976e-03 4.17680770e-03\n",
      " 2.49088326e-03 1.80340443e-03 1.43237235e-03 1.07995030e-03\n",
      " 7.19767234e-04 5.24030545e-04 3.39438929e-04 1.79819483e-04\n",
      " 1.17949689e-04 8.75325151e-05 2.02527698e-33]\n"
     ]
    }
   ],
   "source": [
    "#proportion de variance expliquée\n",
    "print(acp.explained_variance_ratio_)"
   ]
  },
  {
   "cell_type": "code",
   "execution_count": 98,
   "metadata": {},
   "outputs": [
    {
     "data": {
      "image/png": "[encoded data removed]",
      "text/plain": [
       "<matplotlib.figure.Figure at 0x11d1f6dd8>"
      ]
     },
     "metadata": {},
     "output_type": "display_data"
    }
   ],
   "source": [
    "#scree plot\n",
    "plt.plot(np.arange(1,n+1),eigval)\n",
    "plt.title(\"Scree plot\")\n",
    "plt.ylabel(\"Eigen values\")\n",
    "plt.xlabel(\"Factor number\")\n",
    "plt.show()"
   ]
  },
  {
   "cell_type": "code",
   "execution_count": 99,
   "metadata": {},
   "outputs": [
    {
     "data": {
      "image/png": "[encoded data removed]",
      "text/plain": [
       "<matplotlib.figure.Figure at 0x11d3a00f0>"
      ]
     },
     "metadata": {},
     "output_type": "display_data"
    }
   ],
   "source": [
    "#cumul de variance expliquée\n",
    "plt.plot(np.arange(1,n+1),np.cumsum(acp.explained_variance_ratio_))\n",
    "plt.title(\"Explained variance vs. # of factors\")\n",
    "plt.ylabel(\"Cumsum explained variance ratio\")\n",
    "plt.xlabel(\"Factor number\")\n",
    "plt.show()"
   ]
  },
  {
   "cell_type": "code",
   "execution_count": 100,
   "metadata": {},
   "outputs": [],
   "source": [
    "#seuils pour test des bâtons brisés\n",
    "bs = 1/np.arange(n,0,-1)\n",
    "bs = np.cumsum(bs)\n",
    "bs = bs[::-1]"
   ]
  },
  {
   "cell_type": "code",
   "execution_count": 101,
   "metadata": {},
   "outputs": [
    {
     "name": "stdout",
     "output_type": "stream",
     "text": [
      "      Seuils    Val.Propre\n",
      "0   3.734292  1.872982e+01\n",
      "1   2.734292  6.093468e+00\n",
      "2   2.234292  2.810757e+00\n",
      "3   1.900958  1.629748e+00\n",
      "4   1.650958  9.985386e-01\n",
      "5   1.450958  6.690692e-01\n",
      "6   1.284292  5.281927e-01\n",
      "7   1.141434  3.535951e-01\n",
      "8   1.016434  3.105770e-01\n",
      "9   0.905323  2.746452e-01\n",
      "10  0.805323  1.741766e-01\n",
      "11  0.714414  1.378347e-01\n",
      "12  0.631081  8.219915e-02\n",
      "13  0.554158  5.951235e-02\n",
      "14  0.482729  4.726829e-02\n",
      "15  0.416063  3.563836e-02\n",
      "16  0.353563  2.375232e-02\n",
      "17  0.294739  1.729301e-02\n",
      "18  0.239183  1.120148e-02\n",
      "19  0.186552  5.934043e-03\n",
      "20  0.136552  3.892340e-03\n",
      "21  0.088933  2.888573e-03\n",
      "22  0.043478  6.683414e-32\n"
     ]
    }
   ],
   "source": [
    "#test des bâtons brisés\n",
    "print(pd.DataFrame({'Val.Propre':eigval,'Seuils':bs}))\n"
   ]
  },
  {
   "cell_type": "code",
   "execution_count": 102,
   "metadata": {},
   "outputs": [
    {
     "data": {
      "image/png": "[encoded data removed]",
      "text/plain": [
       "<matplotlib.figure.Figure at 0x11d3f11d0>"
      ]
     },
     "metadata": {},
     "output_type": "display_data"
    }
   ],
   "source": [
    "#positionnement des individus dans le premier plan\n",
    "fig, axes = plt.subplots(figsize=(12,12))\n",
    "axes.set_xlim(-12,12) #même limites en abscisse\n",
    "axes.set_ylim(-6,6) #et en ordonnée\n",
    "#placement des étiquettes des observations\n",
    "for i in range(n):\n",
    " plt.annotate(X.index[i],(coord[i,0],coord[i,1]))\n",
    "#ajouter les axes\n",
    "plt.plot([-12, 12],[0,0],color='silver',linestyle='-',linewidth=1)\n",
    "plt.plot([0,0],[-12, 12],color='silver',linestyle='-',linewidth=1)\n",
    "#affichage\n",
    "#plt.show()\n",
    "\n",
    "\n",
    "dest = \"popplin_ACP1.pdf\"\n",
    "   \n",
    "plt.savefig(dest)"
   ]
  },
  {
   "cell_type": "code",
   "execution_count": 40,
   "metadata": {},
   "outputs": [
    {
     "name": "stdout",
     "output_type": "stream",
     "text": [
      "       ID         d_i\n",
      "0    int1  152.206910\n",
      "1   int2a   21.904612\n",
      "2    int3   50.894488\n",
      "3   int2b   22.112802\n",
      "4    int4   44.138913\n",
      "5    int5   22.949419\n",
      "6      A0   39.818599\n",
      "7     A1a   22.578876\n",
      "8     A2a   17.570480\n",
      "9     A1b   12.858526\n",
      "10    A2b   28.590384\n",
      "11    B1a   12.682194\n",
      "12    B2a   18.934761\n",
      "13    B1b   12.025806\n",
      "14    B2b    9.482299\n",
      "15    C1a   51.935241\n",
      "16    C2a   55.508443\n",
      "17    C1b   37.859858\n",
      "18    C2b   43.306189\n",
      "19    A1a   12.527993\n",
      "20    A2a   15.220886\n",
      "21   fin1   20.381302\n",
      "22   fin2   33.511018\n"
     ]
    }
   ],
   "source": [
    "#contribution des individus dans l'inertie totale\n",
    "di = np.sum(Z**2,axis=1)\n",
    "print(pd.DataFrame({'ID':X.index,'d_i':di}))"
   ]
  },
  {
   "cell_type": "code",
   "execution_count": 46,
   "metadata": {},
   "outputs": [
    {
     "name": "stdout",
     "output_type": "stream",
     "text": [
      "      COS2_1    COS2_2     id\n",
      "0   0.729952  0.162333   int1\n",
      "1   0.350779  0.035444  int2a\n",
      "2   0.915507  0.015179   int3\n",
      "3   0.041937  0.509751  int2b\n",
      "4   0.912809  0.028879   int4\n",
      "5   0.399746  0.168606   int5\n",
      "6   0.623170  0.003046     A0\n",
      "7   0.401981  0.124971    A1a\n",
      "8   0.001205  0.785897    A2a\n",
      "9   0.000067  0.653818    A1b\n",
      "10  0.173064  0.412323    A2b\n",
      "11  0.002230  0.371503    B1a\n",
      "12  0.156612  0.414203    B2a\n",
      "13  0.392379  0.037558    B1b\n",
      "14  0.449006  0.094281    B2b\n",
      "15  0.708686  0.127372    C1a\n",
      "16  0.626042  0.261839    C2a\n",
      "17  0.838438  0.103667    C1b\n",
      "18  0.841924  0.087712    C2b\n",
      "19  0.000716  0.231724    A1a\n",
      "20  0.003604  0.533607    A2a\n",
      "21  0.570667  0.136043   fin1\n",
      "22  0.379808  0.118136   fin2\n"
     ]
    }
   ],
   "source": [
    "#qualité de représentation des individus - COS2\n",
    "cos2 = coord**2\n",
    "for j in range(n):\n",
    " cos2[:,j] = cos2[:,j]/di\n",
    "print(pd.DataFrame({'id':X.index,'COS2_1':cos2[:,0],'COS2_2':cos2[:,1]}))"
   ]
  },
  {
   "cell_type": "code",
   "execution_count": 47,
   "metadata": {},
   "outputs": [
    {
     "name": "stdout",
     "output_type": "stream",
     "text": [
      "[1. 1. 1. 1. 1. 1. 1. 1. 1. 1. 1. 1. 1. 1. 1. 1. 1. 1. 1. 1. 1. 1. 1.]\n"
     ]
    }
   ],
   "source": [
    "#vérifions la théorie - somme en ligne des cos2 = 1\n",
    "print(numpy.sum(cos2,axis=1))"
   ]
  },
  {
   "cell_type": "code",
   "execution_count": 52,
   "metadata": {},
   "outputs": [
    {
     "name": "stdout",
     "output_type": "stream",
     "text": [
      "       CTR_1     CTR_2     id\n",
      "0   0.257909  0.176299   int1\n",
      "1   0.017836  0.005540  int2a\n",
      "2   0.108161  0.005512   int3\n",
      "3   0.002153  0.080428  int2b\n",
      "4   0.093528  0.009095   int4\n",
      "5   0.021296  0.027609   int5\n",
      "6   0.057601  0.000865     A0\n",
      "7   0.021069  0.020134    A1a\n",
      "8   0.000049  0.098527    A2a\n",
      "9   0.000002  0.059987    A1b\n",
      "10  0.011486  0.084113    A2b\n",
      "11  0.000066  0.033617    B1a\n",
      "12  0.006884  0.055960    B2a\n",
      "13  0.010954  0.003223    B1b\n",
      "14  0.009883  0.006379    B2b\n",
      "15  0.085439  0.047200    C1a\n",
      "16  0.080668  0.103705    C2a\n",
      "17  0.073687  0.028004    C1b\n",
      "18  0.084637  0.027103    C2b\n",
      "19  0.000021  0.020714    A1a\n",
      "20  0.000127  0.057952    A2a\n",
      "21  0.026999  0.019784   fin1\n",
      "22  0.029545  0.028247   fin2\n"
     ]
    }
   ],
   "source": [
    "#contributions aux axes\n",
    "ctr = coord**2\n",
    "for j in range(n):\n",
    " ctr[:,j] = ctr[:,j]/(n*eigval[j])\n",
    "\n",
    "print(pd.DataFrame({'id':X.index,'CTR_1':ctr[:,0],'CTR_2':ctr[:,1]}))"
   ]
  },
  {
   "cell_type": "code",
   "execution_count": 53,
   "metadata": {},
   "outputs": [
    {
     "name": "stdout",
     "output_type": "stream",
     "text": [
      "[1. 1. 1. 1. 1. 1. 1. 1. 1. 1. 1. 1. 1. 1. 1. 1. 1. 1. 1. 1. 1. 1. 1.]\n"
     ]
    }
   ],
   "source": [
    "#vérifions la théorie\n",
    "print(np.sum(ctr,axis=0))"
   ]
  },
  {
   "cell_type": "code",
   "execution_count": 54,
   "metadata": {},
   "outputs": [
    {
     "name": "stdout",
     "output_type": "stream",
     "text": [
      "[[-1.81601263e-01 -2.25278922e-01 -1.90001938e-01 -2.16543323e-01\n",
      "  -1.87981142e-01 -2.23373706e-01 -2.07473291e-01 -2.05941162e-01\n",
      "  -2.08684237e-01 -1.69872029e-01  1.78804510e-01  1.59501439e-01\n",
      "  -2.10680649e-01 -1.35484360e-01 -1.81445226e-01 -1.27581395e-01\n",
      "   1.78892808e-01 -1.20935668e-01 -1.78067499e-01  6.68152553e-03\n",
      "  -1.78263103e-01 -1.38999033e-01 -1.62919158e-01 -1.27795649e-01\n",
      "  -1.62939285e-01 -1.53983986e-01 -1.81096225e-01 -1.88065457e-01\n",
      "  -1.93549715e-01 -2.06483059e-01  1.63774635e-01 -1.52089350e-01\n",
      "  -1.22615673e-03]\n",
      " [-2.36289065e-02 -1.41553584e-02 -1.93148804e-01  8.81818590e-02\n",
      "  -1.93101413e-01  7.63656176e-03  1.66299768e-02 -1.41052226e-01\n",
      "   1.11939313e-01  1.37239497e-01  1.28490709e-01  1.70746563e-01\n",
      "  -4.49996532e-02 -3.08284241e-01 -1.30122639e-01 -1.92793685e-01\n",
      "   1.38004904e-01  2.68543891e-01  1.65129751e-01  3.71440759e-01\n",
      "  -4.01455935e-02 -2.16259489e-01  1.99965616e-01  2.66382975e-01\n",
      "  -3.75586144e-02  2.22234412e-01  1.40247545e-01  1.61783219e-01\n",
      "   1.80482056e-01  1.43132162e-02 -1.02782847e-01 -9.27028099e-02\n",
      "  -3.22712410e-01]\n",
      " [ 7.84279450e-02  8.98242897e-02 -4.27554623e-02 -1.44207799e-02\n",
      "  -8.96715755e-02  1.02193507e-01 -2.08389734e-03  5.50993924e-02\n",
      "   1.01050330e-01  1.90562405e-01 -9.35839469e-02 -3.03882044e-02\n",
      "   1.38306760e-01 -6.84056742e-02 -2.00344192e-01 -3.08597170e-01\n",
      "   3.87232950e-02 -2.63254159e-01  1.66421394e-01 -8.20790268e-02\n",
      "  -3.17255918e-01 -2.39878517e-01 -2.55464285e-01 -2.65217075e-01\n",
      "  -2.99352673e-01  1.35310319e-01  1.83930833e-01 -4.57609001e-02\n",
      "   1.46209417e-01  1.91092165e-01 -1.39578596e-02  3.13078623e-01\n",
      "   2.18752807e-01]\n",
      " [ 1.71479478e-01  6.97668041e-02  1.82332701e-01  4.30145135e-02\n",
      "   1.51524547e-01 -1.13762988e-01 -2.31301558e-01 -1.72697852e-01\n",
      "   9.40099243e-02  3.06372999e-01  3.87500299e-01  4.35314868e-01\n",
      "   6.97933185e-02 -6.68396372e-02 -1.29577648e-01  1.28478717e-01\n",
      "  -2.72110138e-01 -5.86488007e-02  1.00763064e-02  2.31551053e-01\n",
      "  -1.21465257e-01  2.55619978e-01 -6.62038822e-02 -6.01571525e-02\n",
      "   1.64612798e-01 -1.90337907e-01  2.76720239e-02 -1.13434995e-01\n",
      "   4.00579013e-03  4.75785631e-02 -4.83358540e-02  1.39094626e-01\n",
      "   7.86819500e-02]\n",
      " [ 6.68512331e-02  7.78512719e-02  1.01400676e-01 -9.73043607e-02\n",
      "   6.99331036e-02  3.82851195e-02  1.06190655e-01  1.30646110e-01\n",
      "   2.29652177e-02  1.69224352e-01 -1.13590212e-01 -8.22389515e-02\n",
      "   2.12495008e-01 -4.41435575e-02 -3.06109121e-01  2.76390144e-01\n",
      "   5.61430069e-02 -5.89016655e-02 -3.10628976e-02 -2.45625478e-03\n",
      "  -2.30790064e-01 -7.47641425e-02 -1.60989076e-01 -4.03027807e-02\n",
      "   2.02818440e-01  8.11807750e-02 -7.94452252e-02 -6.35925544e-02\n",
      "  -8.12609113e-03  1.25241363e-01  4.88205497e-01 -2.72141868e-01\n",
      "  -4.34470846e-01]\n",
      " [ 5.79093863e-01 -6.32217388e-02 -5.91680839e-02 -1.00699191e-01\n",
      "  -6.98843994e-02 -4.52608280e-03  6.16821930e-02 -4.72887418e-03\n",
      "  -1.32469620e-01 -2.30987915e-01  6.98440820e-03 -3.26333711e-02\n",
      "  -4.44444920e-02 -1.52657582e-02 -6.46845508e-02  1.04903795e-02\n",
      "  -2.24908310e-01 -2.06328949e-01  4.24316538e-02  8.75165187e-02\n",
      "  -2.94366098e-02 -4.27775124e-02  7.37343790e-02 -1.53080248e-01\n",
      "   8.93687352e-02  3.42133344e-01 -2.50173402e-02 -1.96372019e-01\n",
      "  -4.70436340e-02  3.06714852e-02 -3.54346611e-01 -3.64000300e-01\n",
      "   1.17381231e-02]\n",
      " [ 1.58231199e-01  3.33638632e-02  1.17955466e-01 -1.36729251e-01\n",
      "   1.12489688e-01 -1.07040795e-01 -3.56520860e-01  2.66186035e-02\n",
      "  -2.70118359e-01 -1.25461507e-01 -2.22611954e-02 -7.54621408e-02\n",
      "   5.44410991e-02  1.23513326e-01  4.78859977e-02  2.82244816e-01\n",
      "   2.33694275e-02  1.86371711e-01  3.33914930e-01  3.27385623e-02\n",
      "   3.39385693e-02 -1.25479144e-01  4.02371610e-02  1.71721643e-01\n",
      "  -4.29127471e-01 -1.31472881e-01  3.28988304e-01 -2.45661406e-01\n",
      "   1.01367682e-01  1.99148106e-02  8.09329176e-02  1.76864164e-02\n",
      "  -1.04095199e-01]\n",
      " [-1.08847468e-01 -1.18243398e-01 -9.11192620e-02  8.39594016e-02\n",
      "  -1.84119593e-02 -2.04416735e-02  1.83673491e-01 -1.30085857e-01\n",
      "   9.47199734e-02 -6.17720098e-02  1.45071317e-01  1.20050013e-01\n",
      "  -2.30503239e-01  3.47198492e-02  1.02378510e-01  1.15182724e-01\n",
      "  -1.16544720e-01 -1.78071280e-01  4.64713024e-01 -1.89277410e-01\n",
      "   5.62642359e-02  5.55617976e-02 -1.70534219e-01 -1.67266613e-01\n",
      "   1.15432902e-01  8.72323324e-02  4.76498173e-01  2.21463324e-01\n",
      "  -1.31655901e-01 -1.90836876e-01  2.11547395e-01 -1.57131040e-01\n",
      "  -2.14126630e-02]\n",
      " [-3.74772113e-01  1.69688364e-02  5.70881896e-02 -2.52366903e-01\n",
      "   1.35231262e-02  2.45365583e-02  1.09976131e-02  2.69758670e-02\n",
      "  -6.61599377e-02 -7.54732256e-02 -1.04514196e-01 -1.60668941e-02\n",
      "   5.50492912e-02 -1.79767866e-01 -7.45416211e-02  4.86154608e-02\n",
      "   3.40293139e-01 -1.05919308e-01  1.91803539e-01  5.83201765e-02\n",
      "   2.57262188e-02  3.57985255e-01 -6.36675044e-02 -8.03984589e-02\n",
      "   2.10049806e-01  3.15011461e-02  1.73936573e-01 -2.68218534e-01\n",
      "  -1.15453603e-01  2.41099917e-01 -4.14173990e-01  5.69094265e-02\n",
      "  -1.61455772e-01]\n",
      " [-1.18632203e-01  2.45026860e-02 -1.44920462e-01 -2.06431452e-01\n",
      "  -2.94905895e-01  6.13556115e-02 -1.38119364e-02 -5.77718894e-03\n",
      "  -2.63509321e-02 -1.80853357e-01  2.46616491e-02  1.02889069e-01\n",
      "   9.62919723e-02 -3.44490519e-01  2.21202282e-01  1.64271994e-02\n",
      "  -4.71820331e-01  8.83989046e-02 -5.58987644e-02 -9.38447655e-02\n",
      "   2.55597961e-01 -2.17849651e-02 -1.04732819e-01  6.68928421e-02\n",
      "   5.51676452e-02  1.13178922e-01 -1.05007884e-02 -1.85552830e-01\n",
      "   6.28802345e-02  3.68432214e-01  2.71841994e-01  1.45224233e-01\n",
      "   1.79698525e-02]\n",
      " [ 2.11838599e-03 -3.98046717e-02 -4.02149009e-02 -2.79411185e-02\n",
      "   1.02473976e-03  6.83696555e-02  7.18609455e-02  8.17399021e-02\n",
      "  -3.76355214e-03  5.49943244e-03 -1.73219311e-01 -2.67586822e-01\n",
      "  -1.11797440e-01 -2.99235809e-02 -2.08255451e-01 -4.59803405e-01\n",
      "  -2.66152989e-01  9.21374009e-02  1.31846940e-01  1.43586082e-01\n",
      "  -1.26310046e-01  2.35050413e-01  1.65642751e-01  1.18781873e-01\n",
      "   1.83544613e-01 -3.66332270e-01  1.89837662e-01 -2.74426380e-01\n",
      "   8.50205521e-02 -1.30296688e-01  1.92545853e-01 -1.49359315e-01\n",
      "   1.29444258e-01]\n",
      " [-3.43283411e-01  6.41560480e-02  1.03479893e-01  1.09903386e-01\n",
      "   1.59298077e-01  7.74517612e-02  5.28015763e-02  3.81283514e-02\n",
      "   1.15226411e-01 -3.97853828e-03 -3.37384544e-04  1.36358263e-01\n",
      "   2.02705317e-01  1.59729493e-02  2.45022959e-01 -1.10946700e-02\n",
      "  -4.84208711e-03 -2.55641617e-01 -4.08148965e-02  3.70605073e-01\n",
      "   3.48923876e-02 -1.81326085e-02  3.14786531e-01 -1.85383123e-01\n",
      "  -2.86574699e-01  1.75832144e-01  1.16093277e-02 -2.19720066e-01\n",
      "  -1.57440001e-03 -5.60211094e-03  1.88498347e-01 -3.40415258e-01\n",
      "   1.84258375e-01]\n",
      " [ 1.11426837e-01 -1.14694080e-01 -4.34548664e-02 -9.95424208e-02\n",
      "  -5.96581094e-02 -6.94941292e-02  1.91002943e-01 -8.31558717e-03\n",
      "   1.77342167e-01  9.77691215e-02  2.30817894e-02  6.43798838e-02\n",
      "   2.03459164e-01  4.96407970e-02  1.64584465e-01  9.07428830e-02\n",
      "   1.94956366e-01  1.00494220e-01  8.17689820e-02 -2.27345572e-02\n",
      "  -3.72593189e-02 -4.30264917e-01  1.84447319e-01  8.01679839e-02\n",
      "   3.52754751e-01 -1.97759414e-02  8.44046873e-02 -4.09781323e-01\n",
      "  -2.84975484e-01 -1.93769406e-01  4.10656136e-02  2.44432744e-01\n",
      "   1.74603982e-01]\n",
      " [ 1.58439740e-01  8.33823864e-02 -9.70391195e-02  1.59760132e-01\n",
      "  -7.35873244e-02 -1.53683357e-01 -4.74939253e-02 -1.22908833e-01\n",
      "  -2.12882610e-01  5.65770510e-02  1.17090105e-01 -2.57181051e-02\n",
      "   1.92025044e-01  2.48159578e-02  2.04763649e-01 -2.22462190e-01\n",
      "   2.39590426e-01 -3.07035192e-01 -2.70990916e-02 -1.08834394e-01\n",
      "   3.15964940e-01 -6.29539540e-02  1.20766738e-01 -2.36253048e-01\n",
      "   2.09580182e-01 -2.71541798e-01  6.57673310e-02 -5.33600617e-02\n",
      "   3.95287636e-01  5.20733041e-02  8.14718530e-02 -1.38603520e-02\n",
      "  -2.56386680e-01]\n",
      " [ 4.22553867e-02  9.10791100e-02  2.47790232e-01 -5.38322246e-02\n",
      "   3.50476652e-01 -1.45472298e-01 -2.12416731e-01  1.78160638e-02\n",
      "  -1.09554863e-01  1.16966062e-01  1.69461032e-02 -1.51467016e-04\n",
      "  -2.67395384e-01  1.10777555e-02  7.68675726e-02 -4.05115128e-01\n",
      "   8.21133899e-02  9.73846576e-02 -2.45678142e-01 -6.59576438e-02\n",
      "   1.60861844e-01 -3.66491643e-02 -9.28660444e-02  4.57267815e-02\n",
      "   1.43214571e-01  4.54303950e-01  2.32742393e-01 -8.78132640e-02\n",
      "  -1.56949318e-01  3.54557360e-02  1.75265295e-01  4.46240128e-02\n",
      "  -4.81146070e-02]\n",
      " [-1.48749939e-01  5.85318191e-02  6.57176974e-02 -2.27981096e-01\n",
      "  -1.75460557e-01  9.51256358e-02 -2.22315567e-01  1.49007685e-01\n",
      "  -1.27470448e-01 -1.67954672e-01 -1.37553386e-01  4.38490554e-02\n",
      "   3.41246401e-02  1.91493738e-01 -5.03337600e-02  1.03361275e-01\n",
      "  -1.52500157e-01 -1.62964820e-01 -2.99145790e-01  3.40873641e-01\n",
      "  -7.82623300e-02 -2.53655712e-01  4.17983674e-02 -7.55082758e-02\n",
      "   2.84067477e-01 -6.45783349e-02  3.63690383e-01  3.24283952e-01\n",
      "   6.21357645e-02 -1.19141577e-01 -6.62319273e-02  1.10301502e-01\n",
      "   4.70431753e-03]\n",
      " [ 6.48275458e-03  4.25317896e-02  1.97887830e-01 -3.41344923e-01\n",
      "  -2.61688179e-03 -3.28847458e-02 -5.08865916e-02 -4.35974056e-02\n",
      "  -1.00364683e-01  4.74068714e-02  9.89290214e-04  7.46955366e-02\n",
      "   4.78848521e-01 -1.18278893e-01 -2.01555198e-01 -1.70884608e-01\n",
      "   6.66460223e-02  6.57623792e-02  2.27135387e-01 -7.24481166e-02\n",
      "   3.29401447e-01 -4.22512562e-03 -1.14685110e-01  1.00510359e-01\n",
      "   4.43540394e-02  4.90744666e-02 -1.15176715e-01  2.80245326e-01\n",
      "   2.76179585e-03 -2.35337747e-01  9.74457318e-03 -2.31409579e-01\n",
      "   3.21376106e-01]\n",
      " [ 1.25937669e-01 -1.00130623e-01  1.70656862e-01 -2.18923635e-01\n",
      "   2.01355724e-01 -1.71664144e-01  4.34956018e-01  1.37024318e-01\n",
      "  -6.03754737e-02  1.67809410e-03 -5.35310329e-02  5.48370939e-02\n",
      "  -1.48724582e-01 -9.38991267e-02  2.70135132e-02 -1.27636831e-01\n",
      "  -9.44547230e-02 -1.79478704e-01  9.98881098e-02  3.34409742e-01\n",
      "   2.37997285e-01 -1.55368067e-01 -4.83730998e-02 -2.15785204e-02\n",
      "  -2.05267226e-01 -2.74144465e-01 -1.07349157e-01  1.58811030e-01\n",
      "  -2.40807771e-01  1.20301054e-01  7.78052475e-03  2.05359240e-01\n",
      "  -2.15294848e-01]\n",
      " [-5.69683677e-03  3.17576814e-02  1.73997508e-01  1.87940489e-01\n",
      "   1.20974897e-01  1.72047792e-01  9.34554672e-03  2.81419515e-02\n",
      "  -9.77358828e-02 -3.63422414e-01  3.05267938e-03  4.60649264e-02\n",
      "  -2.40351742e-01 -1.84016222e-01 -3.19745074e-01  1.48791041e-01\n",
      "   1.19163191e-01  3.40669184e-02  2.01202647e-01  1.33160922e-01\n",
      "   1.60400428e-01 -5.92705335e-02  9.71325868e-02 -2.07439612e-01\n",
      "   1.60398150e-01  1.52082442e-01 -2.26424702e-01 -9.13665030e-02\n",
      "   2.81068874e-01 -1.68954840e-01  1.90901061e-01  3.19883820e-01\n",
      "   1.35692915e-01]\n",
      " [-8.79752985e-02  3.94367005e-02  2.93741134e-02  6.38486517e-02\n",
      "   9.25528771e-02  1.52689871e-02 -1.31194138e-01 -3.19322192e-02\n",
      "  -1.08974636e-01  3.45876969e-01 -1.61020811e-01 -6.28669776e-02\n",
      "  -3.42173767e-01 -3.15864432e-01 -9.43714477e-02  2.24815305e-01\n",
      "  -9.67208082e-03 -1.22227884e-01  2.70711406e-02 -1.57531668e-01\n",
      "   1.13226514e-01 -3.52400391e-01  1.69864204e-01  3.54721292e-02\n",
      "   1.12082421e-01 -2.01061361e-01  1.21459620e-02  6.10346091e-02\n",
      "  -2.80622428e-02  2.89137164e-01 -1.09363504e-01 -2.66900618e-01\n",
      "   2.98163989e-01]\n",
      " [-3.03819152e-02  1.48363850e-02  8.57536553e-02 -3.44114940e-01\n",
      "   9.29219166e-02  9.16503032e-02  1.90229665e-02  6.53249359e-02\n",
      "   3.03630788e-01 -4.61712516e-03 -3.09594678e-02  1.92237223e-01\n",
      "  -2.87735682e-01  1.97892404e-01  2.78486832e-01 -4.71495693e-02\n",
      "   7.20408221e-02  4.91755649e-02  1.02454832e-01  3.47870748e-02\n",
      "  -5.85088063e-02 -1.52081070e-01 -3.32107791e-01  7.29290165e-02\n",
      "   1.04065439e-01 -8.06168482e-02 -1.79473013e-01 -1.28675679e-01\n",
      "   4.89690664e-01 -1.44664450e-02 -8.81667028e-02 -2.09783059e-01\n",
      "   1.41459248e-02]\n",
      " [ 3.27236474e-02 -7.45797657e-02  2.52406923e-01 -1.51351682e-01\n",
      "   1.30554058e-01  1.79986929e-01  2.44162037e-01 -2.15060719e-01\n",
      "   2.91762766e-01 -2.05172680e-01  1.77921405e-01  2.42080174e-02\n",
      "   4.57911518e-02 -1.62610986e-01 -2.42168972e-01  3.78754601e-02\n",
      "   8.07761598e-03  3.89441902e-02 -3.94619174e-01 -3.09877499e-01\n",
      "   7.66037628e-02 -6.43078842e-02  1.55358744e-01 -1.82631774e-02\n",
      "  -1.96158977e-01 -1.42493886e-01  3.32979233e-01 -6.43943890e-02\n",
      "   1.47805168e-01 -3.44450500e-02 -9.57114917e-02 -5.53882631e-02\n",
      "  -8.05718972e-02]\n",
      " [ 2.78820521e-01  1.55313247e-01 -5.53724939e-01 -2.51593002e-01\n",
      "   3.22057230e-01  2.36689125e-02 -5.74763003e-02  1.73868400e-01\n",
      "   1.45147828e-01 -1.44772484e-01 -2.15067905e-02  1.33271513e-01\n",
      "  -1.79091698e-02 -1.62614100e-01  4.10111610e-02  7.28137513e-02\n",
      "   2.87460963e-01  1.23312248e-02 -9.08721631e-02  5.52514614e-02\n",
      "  -2.94773579e-02  2.06507910e-01  1.21487694e-01 -2.43096604e-02\n",
      "  -3.32158238e-03 -6.97488208e-02  1.14925832e-01  1.85134193e-01\n",
      "  -2.23057903e-02  1.01408925e-01  1.96517993e-01  1.61613372e-02\n",
      "   2.03547866e-01]]\n"
     ]
    }
   ],
   "source": [
    "#le champ components_ de l'objet ACP\n",
    "print(acp.components_)"
   ]
  },
  {
   "cell_type": "code",
   "execution_count": 58,
   "metadata": {},
   "outputs": [
    {
     "name": "stdout",
     "output_type": "stream",
     "text": [
      "[[-0.78593323 -0.05832784  0.13148689 ...  0.          0.\n",
      "   0.        ]\n",
      " [-0.97496123 -0.03494243  0.15059322 ...  0.          0.\n",
      "   0.        ]\n",
      " [-0.82228964 -0.47678686 -0.07168086 ...  0.          0.\n",
      "   0.        ]\n",
      " ...\n",
      " [ 0.70878322 -0.25371894 -0.02340079 ...  0.          0.\n",
      "   0.        ]\n",
      " [-0.65821169 -0.22883642  0.52488606 ...  0.          0.\n",
      "   0.        ]\n",
      " [-0.00530656 -0.79661397  0.36674589 ...  0.          0.\n",
      "   0.        ]]\n"
     ]
    }
   ],
   "source": [
    "#racine carrée des valeurs propres\n",
    "sqrt_eigval = np.sqrt(eigval)\n",
    "\n",
    "#corrélation des variables avec les axes\n",
    "corvar = np.zeros((p,p))\n",
    "for k in range(n):\n",
    " corvar[:,k] = acp.components_[k,:] * sqrt_eigval[k]\n",
    "\n",
    "#afficher la matrice des corrélations variables x facteurs\n",
    "print(corvar)"
   ]
  },
  {
   "cell_type": "code",
   "execution_count": 103,
   "metadata": {},
   "outputs": [
    {
     "data": {
      "image/png": "[encoded data removed]",
      "text/plain": [
       "<matplotlib.figure.Figure at 0x11d3fb518>"
      ]
     },
     "metadata": {},
     "output_type": "display_data"
    }
   ],
   "source": [
    "#cercle des corrélations\n",
    "fig, axes = plt.subplots(figsize=(8,8))\n",
    "axes.set_xlim(-1,1)\n",
    "axes.set_ylim(-1,1)\n",
    "#affichage des étiquettes (noms des variables)\n",
    "for j in range(p):\n",
    " plt.annotate(X.columns[j],(corvar[j,0],corvar[j,1]))\n",
    "\n",
    "#ajouter les axes\n",
    "plt.plot([-1,1],[0,0],color='silver',linestyle='-',linewidth=1)\n",
    "plt.plot([0,0],[-1,1],color='silver',linestyle='-',linewidth=1)\n",
    "\n"
   ]
  },
  {
   "cell_type": "code",
   "execution_count": 104,
   "metadata": {},
   "outputs": [
    {
     "data": {
      "image/png": "[encoded data removed]",
      "text/plain": [
       "<matplotlib.figure.Figure at 0x11d280438>"
      ]
     },
     "metadata": {},
     "output_type": "display_data"
    }
   ],
   "source": [
    "#cercle des corrélations\n",
    "fig, axes = plt.subplots(figsize=(8,8))\n",
    "axes.set_xlim(-1,1)\n",
    "axes.set_ylim(-1,1)\n",
    "#affichage des étiquettes (noms des variables)\n",
    "for j in range(p):\n",
    " plt.annotate(X.columns[j],(corvar[j,0],corvar[j,1]))\n",
    "\n",
    "#ajouter les axes\n",
    "plt.plot([-1,1],[0,0],color='silver',linestyle='-',linewidth=1)\n",
    "plt.plot([0,0],[-1,1],color='silver',linestyle='-',linewidth=1)\n",
    "\n",
    "#ajouter un cercle\n",
    "cercle = plt.Circle((0,0),1,color='blue',fill=False)\n",
    "axes.add_artist(cercle)\n",
    "#affichage\n",
    "\n",
    "dest = \"popplin_ACP1pars.pdf\"\n",
    "   \n",
    "plt.savefig(dest)"
   ]
  },
  {
   "cell_type": "code",
   "execution_count": 64,
   "metadata": {},
   "outputs": [
    {
     "name": "stdout",
     "output_type": "stream",
     "text": [
      "      COS2_1    COS2_2                    id\n",
      "0   0.617691  0.003402                  time\n",
      "1   0.950549  0.001221              centroid\n",
      "2   0.676160  0.227326                    sd\n",
      "3   0.878260  0.047383           c_min_sdlow\n",
      "4   0.661854  0.227214           c_plus_sdHi\n",
      "5   0.934540  0.000355         midi_centroid\n",
      "6   0.806228  0.001685          mc_min_eclow\n",
      "7   0.794365  0.121234          mc_plus_ecHi\n",
      "8   0.815667  0.076354         midi_sp_slope\n",
      "9   0.540477  0.114769              sp_slope\n",
      "10  0.598812  0.100602              skewness\n",
      "11  0.476500  0.177651              kurtosis\n",
      "12  0.831348  0.012339            sp_rolloff\n",
      "13  0.343805  0.579118           sp_flatness\n",
      "14  0.616630  0.103174       sp_flatness_moy\n",
      "15  0.304865  0.226491    sp_flatness_minamp\n",
      "16  0.599404  0.116052   sp_flatness_minfreq\n",
      "17  0.273932  0.439435    sp_flatness_maxamp\n",
      "18  0.593886  0.166156   sp_flatness_maxfreq\n",
      "19  0.000836  0.840705              sp_crest\n",
      "20  0.595191  0.009821                   rms\n",
      "21  0.361874  0.284980             maxfreq25\n",
      "22  0.497139  0.243655               max_amp\n",
      "23  0.305890  0.432392              max_amoy\n",
      "24  0.497262  0.008596               min_amp\n",
      "25  0.444104  0.300945              max_freq\n",
      "26  0.614260  0.119855          max_moy_freq\n",
      "27  0.662448  0.159489            mode_freq1\n",
      "28  0.701647  0.198487            mode_freq2\n",
      "29  0.798551  0.001248            mode_freq3\n",
      "30  0.502374  0.064373       cell_sup_ampmoy\n",
      "31  0.433243  0.052366   highcell_sup_ampmoy\n",
      "32  0.000028  0.634594           nbandSupMed\n"
     ]
    }
   ],
   "source": [
    "#cosinus carré des variables\n",
    "cos2var = corvar**2\n",
    "print(pd.DataFrame({'id':X.columns,'COS2_1':cos2var[:,0],'COS2_2':cos2var[:,1]}))"
   ]
  },
  {
   "cell_type": "code",
   "execution_count": 67,
   "metadata": {},
   "outputs": [
    {
     "name": "stdout",
     "output_type": "stream",
     "text": [
      "           CTR_1     CTR_2                    id\n",
      "0   9.400925e-05  0.000015                  time\n",
      "1   1.446685e-04  0.000005              centroid\n",
      "2   1.029079e-04  0.001005                    sd\n",
      "3   1.336665e-04  0.000209           c_min_sdlow\n",
      "4   1.007306e-04  0.001004           c_plus_sdHi\n",
      "5   1.422319e-04  0.000002         midi_centroid\n",
      "6   1.227036e-04  0.000007          mc_min_eclow\n",
      "7   1.208980e-04  0.000536          mc_plus_ecHi\n",
      "8   1.241401e-04  0.000337         midi_sp_slope\n",
      "9   8.225771e-05  0.000507              sp_slope\n",
      "10  9.113596e-05  0.000445              skewness\n",
      "11  7.252071e-05  0.000785              kurtosis\n",
      "12  1.265267e-04  0.000055            sp_rolloff\n",
      "13  5.232523e-05  0.002560           sp_flatness\n",
      "14  9.384777e-05  0.000456       sp_flatness_moy\n",
      "15  4.639889e-05  0.001001    sp_flatness_minamp\n",
      "16  9.122600e-05  0.000513   sp_flatness_minfreq\n",
      "17  4.169094e-05  0.001942    sp_flatness_maxamp\n",
      "18  9.038621e-05  0.000734   sp_flatness_maxfreq\n",
      "19  1.272577e-07  0.003716              sp_crest\n",
      "20  9.058489e-05  0.000043                   rms\n",
      "21  5.507524e-05  0.001260             maxfreq25\n",
      "22  7.566189e-05  0.001077               max_amp\n",
      "23  4.655486e-05  0.001911              max_amoy\n",
      "24  7.568058e-05  0.000038               min_amp\n",
      "25  6.759024e-05  0.001330              max_freq\n",
      "26  9.348709e-05  0.000530          max_moy_freq\n",
      "27  1.008210e-04  0.000705            mode_freq1\n",
      "28  1.067869e-04  0.000877            mode_freq2\n",
      "29  1.215351e-04  0.000006            mode_freq3\n",
      "30  7.645856e-05  0.000285       cell_sup_ampmoy\n",
      "31  6.593719e-05  0.000231   highcell_sup_ampmoy\n",
      "32  4.285730e-09  0.002805           nbandSupMed\n"
     ]
    }
   ],
   "source": [
    "#contributions\n",
    "ctrvar = cos2var\n",
    "for k in range(n):\n",
    " ctrvar[:,k] = ctrvar[:,k]/eigval[k]\n",
    "#on n'affiche que pour les deux premiers axes\n",
    "print(pd.DataFrame({'id':X.columns,'CTR_1':ctrvar[:,0],'CTR_2':ctrvar[:,1]}))"
   ]
  },
  {
   "cell_type": "code",
   "execution_count": null,
   "metadata": {},
   "outputs": [],
   "source": []
  }
 ],
 "metadata": {
  "kernelspec": {
   "display_name": "Python 3",
   "language": "python",
   "name": "python3"
  },
  "language_info": {
   "codemirror_mode": {
    "name": "ipython",
    "version": 3
   },
   "file_extension": ".py",
   "mimetype": "text/x-python",
   "name": "python",
   "nbconvert_exporter": "python",
   "pygments_lexer": "ipython3",
   "version": "3.6.4"
  }
 },
 "nbformat": 4,
 "nbformat_minor": 2
}
