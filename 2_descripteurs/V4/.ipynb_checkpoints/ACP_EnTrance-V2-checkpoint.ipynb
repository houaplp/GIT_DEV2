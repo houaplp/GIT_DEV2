{
 "cells": [
  {
   "cell_type": "code",
   "execution_count": 95,
   "metadata": {},
   "outputs": [],
   "source": [
    "import os\n",
    "import math\n",
    "import glob\n",
    "import re\n",
    "import numpy as np\n",
    "import pandas as pd\n",
    "import matplotlib.pyplot as plt\n",
    "import sklearn\n",
    "from sklearn.linear_model import LinearRegression\n",
    "from sklearn.model_selection import train_test_split\n",
    "plt.rcParams[\"svg.fonttype\"]=\"none\"\n",
    "\n",
    "# d'apres http://eric.univ-lyon2.fr/~ricco/tanagra/fichiers/fr_Tanagra_ACP_Python.pdf"
   ]
  },
  {
   "cell_type": "code",
   "execution_count": 96,
   "metadata": {},
   "outputs": [
    {
     "name": "stdout",
     "output_type": "stream",
     "text": [
      "0.22.0\n"
     ]
    }
   ],
   "source": [
    "os.chdir(\"/Users/laurentpottier/Documents/LP/Recherches/Projet_Fondation/Langages&Maths/Anaconda/LPanalyse/_A_PopPlinn/\")\n",
    "#librairie pandas\n",
    "#version\n",
    "print(pd.__version__) # 0.23.0\n",
    "#chargement de la première feuille de données\n",
    "X = pd.read_excel(\"Xparams_popplinnSel4eR2b.xlsx\",sheet_name=0,header=0,index_col=0)\n",
    "#Nous remarquons que :\n",
    "#• Le fichier est un classeur Excel nommé « autos_acp_pour_python.xlsx » ;\n",
    "#• Les données actives sont situées dans la première feuille (sheet_name = 0) ;\n",
    "#• La première ligne correspond aux noms des variables (header = 0)\n",
    "#• La première colonne aux identifiants des observations (index_col = 0)."
   ]
  },
  {
   "cell_type": "markdown",
   "metadata": {},
   "source": [
    "## Importation des données actives"
   ]
  },
  {
   "cell_type": "code",
   "execution_count": 97,
   "metadata": {},
   "outputs": [
    {
     "name": "stdout",
     "output_type": "stream",
     "text": [
      "(23, 7)\n",
      "       midi_centroid   skewness    kurtosis  sp_flatness   sp_crest  \\\n",
      "Label                                                                 \n",
      "int1       49.201479  11.950292  168.351187     0.174695  13.595711   \n",
      "int2a      75.229125   1.917888    9.702126     0.487131   5.537131   \n",
      "int3       63.278661   4.948528   40.601826     0.475169   5.985537   \n",
      "int2b      78.168156   1.664804    8.727293     0.482397   8.659723   \n",
      "int4       60.390212   4.933358   35.534850     0.521521   7.177618   \n",
      "int5       69.260909   2.569264    9.888942     0.740833   4.897586   \n",
      "A0         60.422705   4.751023   29.728186     0.631893   6.432495   \n",
      "A1a        67.654646   3.672566   19.980526     0.663412   4.969419   \n",
      "A2a        75.232399   2.321375    8.363423     0.816693   3.539247   \n",
      "A1b        76.958422   2.674863   11.001462     0.731316   4.709483   \n",
      "A2b        78.329841   2.059181    6.795479     0.823568   3.589099   \n",
      "B1a        73.385964   2.645911   10.074924     0.715981   5.408818   \n",
      "B2a        76.338851   2.192899    7.445009     0.749247   5.327616   \n",
      "B1b        78.068559   2.666970   10.417476     0.718827   5.889526   \n",
      "B2b        78.331665   2.516207    9.336168     0.739240   5.779584   \n",
      "C1a        85.257718   2.146619    7.976423     0.671822   9.200768   \n",
      "C2a        86.222405   2.000659    7.288991     0.647462  11.186166   \n",
      "C1b        87.017002   1.853866    6.959166     0.661588   7.532006   \n",
      "C2b        87.744492   1.632820    5.902108     0.675148   6.926440   \n",
      "A1c        76.066405   2.719963   12.244281     0.708070   4.306489   \n",
      "A2c        75.224073   2.456669    9.492287     0.774367   4.257804   \n",
      "fin1       83.649547   1.986386    8.005207     0.658817   9.268438   \n",
      "fin2       84.714277   1.374203    5.137509     0.539380   8.517363   \n",
      "\n",
      "       mode_freq2  nbandSupMed  \n",
      "Label                           \n",
      "int1         86.1            1  \n",
      "int2a       441.4            7  \n",
      "int3        215.3            6  \n",
      "int2b       872.1            3  \n",
      "int4        140.0            3  \n",
      "int5        215.3            4  \n",
      "A0          140.0            6  \n",
      "A1a         215.3            7  \n",
      "A2a         441.4           16  \n",
      "A1b         549.1           15  \n",
      "A2b         699.8           18  \n",
      "B1a         344.5            6  \n",
      "B2a         344.5            7  \n",
      "B1b         441.4            5  \n",
      "B2b         549.1            6  \n",
      "C1a        1109.0            3  \n",
      "C2a        1388.9            1  \n",
      "C1b        1388.9            3  \n",
      "C2b        1388.9            3  \n",
      "A1c         549.1           15  \n",
      "A2c         441.4           16  \n",
      "fin1       1109.0            6  \n",
      "fin2       1388.9            2  \n"
     ]
    }
   ],
   "source": [
    "#dimension\n",
    "print(X.shape) # (18, 6)\n",
    "#nombre d'observations\n",
    "n = X.shape[0]\n",
    "#nombre de variables\n",
    "p = X.shape[1]\n",
    "#affichage des données\n",
    "print( X)"
   ]
  },
  {
   "cell_type": "markdown",
   "metadata": {},
   "source": [
    "## Préparation des données"
   ]
  },
  {
   "cell_type": "code",
   "execution_count": 98,
   "metadata": {},
   "outputs": [
    {
     "name": "stdout",
     "output_type": "stream",
     "text": [
      "0.19.1\n"
     ]
    }
   ],
   "source": [
    "#vérification de la version\n",
    "print(sklearn.__version__) # 0.19.1"
   ]
  },
  {
   "cell_type": "code",
   "execution_count": 99,
   "metadata": {},
   "outputs": [
    {
     "name": "stdout",
     "output_type": "stream",
     "text": [
      "[[-2.72198437  4.1596242   4.49979341 -3.31987046  2.84929751 -1.23448118\n",
      "  -1.15212873]\n",
      " [ 0.01887424 -0.51782135 -0.29682844 -1.108989   -0.4512378  -0.426085\n",
      "   0.01694307]\n",
      " [-1.23957726  0.8951655   0.63739818 -1.19364041 -0.26758528 -0.94051893\n",
      "  -0.17790223]\n",
      " [ 0.32837092 -0.63581788 -0.32630171 -1.14249259  0.82767545  0.553865\n",
      "  -0.76243813]\n",
      " [-1.54374731  0.8880928   0.48420238 -0.86564144  0.22065301 -1.11184523\n",
      "  -0.76243813]\n",
      " [-0.60961273 -0.21412793 -0.29118023  0.68627066 -0.71317518 -0.94051893\n",
      "  -0.56759283]\n",
      " [-1.54032567  0.80308182  0.30864275 -0.08461593 -0.08452553 -1.11184523\n",
      "  -0.17790223]\n",
      " [-0.77876125  0.30026886  0.01393039  0.13841945 -0.68375444 -0.94051893\n",
      "   0.01694307]\n",
      " [ 0.01921905 -0.32970203 -0.33730301  1.22307128 -1.26950689 -0.426085\n",
      "   1.77055076]\n",
      " [ 0.20097902 -0.16489404 -0.25754412  0.61892623 -0.79021593 -0.18104062\n",
      "   1.57570546]\n",
      " [ 0.34539719 -0.45194584 -0.3847085   1.27171887 -1.24908921  0.16183949\n",
      "   2.16024136]\n",
      " [-0.175221   -0.17839246 -0.28555722  0.51040718 -0.50379096 -0.64655669\n",
      "  -0.17790223]\n",
      " [ 0.13573467 -0.38960203 -0.36507049  0.74580891 -0.53704838 -0.64655669\n",
      "   0.01694307]\n",
      " [ 0.31788281 -0.16857392 -0.27520045  0.53054854 -0.30690835 -0.426085\n",
      "  -0.37274753]\n",
      " [ 0.34558929 -0.23886479 -0.30789288  0.67499639 -0.35193691 -0.18104062\n",
      "  -0.17790223]\n",
      " [ 1.07494194 -0.41117906 -0.34900365  0.19792866  1.04927004  1.09287162\n",
      "  -0.76243813]\n",
      " [ 1.1765289  -0.47923057 -0.36978756  0.02554832  1.86242552  1.72971398\n",
      "  -1.15212873]\n",
      " [ 1.26020446 -0.54767078 -0.37975955  0.12550823  0.36579895  1.72971398\n",
      "  -0.76243813]\n",
      " [ 1.33681335 -0.65072972 -0.41171882  0.2214651   0.11777837  1.72971398\n",
      "  -0.76243813]\n",
      " [ 0.1070446  -0.14386676 -0.21996852  0.45442974 -0.95526958 -0.18104062\n",
      "   1.57570546]\n",
      " [ 0.01834222 -0.26662329 -0.30317276  0.92356227 -0.97520923 -0.426085\n",
      "   1.77055076]\n",
      " [ 0.90559244 -0.48588526 -0.34813338  0.10590165  1.07698537  1.09287162\n",
      "  -0.17790223]\n",
      " [ 1.01771448 -0.7713055  -0.43483584 -0.73926166  0.76936945  1.72971398\n",
      "  -0.95728343]]\n"
     ]
    }
   ],
   "source": [
    "#classe pour standardisation\n",
    "from sklearn.preprocessing import StandardScaler\n",
    "#instanciation\n",
    "sc = StandardScaler()\n",
    "#transformation – centrage-réduction\n",
    "Z = sc.fit_transform(X)\n",
    "print(Z)"
   ]
  },
  {
   "cell_type": "code",
   "execution_count": 100,
   "metadata": {},
   "outputs": [
    {
     "name": "stdout",
     "output_type": "stream",
     "text": [
      "moyenne [-4.15126870e-16  0.00000000e+00 -8.44734910e-17  4.82705663e-16\n",
      " -1.93082265e-17 -2.89623398e-17  1.11022302e-16]\n",
      "ecart [1. 1. 1. 1. 1. 1. 1.]\n"
     ]
    }
   ],
   "source": [
    "#vérification - librairie numpy\n",
    "import numpy\n",
    "#moyenne\n",
    "print(\"moyenne\", numpy.mean(Z,axis=0))\n",
    "\n",
    "#écart-type\n",
    "print(\"ecart\", numpy.std(Z,axis=0,ddof=0))"
   ]
  },
  {
   "cell_type": "markdown",
   "metadata": {},
   "source": [
    "## Analyse en composantes principales avec PCA de ‘’scikit-learn’’"
   ]
  },
  {
   "cell_type": "code",
   "execution_count": 101,
   "metadata": {},
   "outputs": [
    {
     "name": "stdout",
     "output_type": "stream",
     "text": [
      "PCA(copy=True, iterated_power='auto', n_components=None, random_state=None,\n",
      "  svd_solver='full', tol=0.0, whiten=False)\n"
     ]
    }
   ],
   "source": [
    "# Il faut instancier l’objet PCA dans un premier temps, nous affichons ses propriétés.\n",
    "\n",
    "\n",
    "#classe pour l'ACP\n",
    "from sklearn.decomposition import PCA\n",
    "#instanciation\n",
    "acp = PCA(svd_solver='full')\n",
    "\n",
    "#affichage des paramètres\n",
    "print(acp)"
   ]
  },
  {
   "cell_type": "code",
   "execution_count": 102,
   "metadata": {},
   "outputs": [
    {
     "name": "stdout",
     "output_type": "stream",
     "text": [
      "7\n"
     ]
    }
   ],
   "source": [
    "#calculs\n",
    "coord = acp.fit_transform(Z)\n",
    "#nombre de composantes calculées\n",
    "print(acp.n_components_) # 6"
   ]
  },
  {
   "cell_type": "code",
   "execution_count": 103,
   "metadata": {},
   "outputs": [
    {
     "name": "stdout",
     "output_type": "stream",
     "text": [
      "[4.17925532 2.31612082 0.49673609 0.20960211 0.07163858 0.03910922\n",
      " 0.00571968]\n",
      "[3.99754857 2.21541991 0.47513887 0.20048897 0.06852386 0.03740882\n",
      " 0.005471  ]\n",
      "[3.99754857 2.21541991 0.47513887 0.20048897 0.06852386 0.03740882\n",
      " 0.005471  ]\n"
     ]
    }
   ],
   "source": [
    "# Valeurs propres et scree plot\n",
    "#variance expliquée\n",
    "print(acp.explained_variance_)\n",
    "\n",
    "#valeur corrigée\n",
    "eigval = (n-1)/n*acp.explained_variance_\n",
    "print(eigval)\n",
    "\n",
    "#ou bien en passant par les valeurs singulières\n",
    "print(acp.singular_values_**2/n)"
   ]
  },
  {
   "cell_type": "code",
   "execution_count": 104,
   "metadata": {},
   "outputs": [
    {
     "name": "stdout",
     "output_type": "stream",
     "text": [
      "[0.57107837 0.31648856 0.06787698 0.02864128 0.00978912 0.00534412\n",
      " 0.00078157]\n"
     ]
    }
   ],
   "source": [
    "#proportion de variance expliquée\n",
    "print(acp.explained_variance_ratio_)"
   ]
  },
  {
   "cell_type": "code",
   "execution_count": null,
   "metadata": {},
   "outputs": [],
   "source": []
  },
  {
   "cell_type": "code",
   "execution_count": 105,
   "metadata": {},
   "outputs": [
    {
     "data": {
      "image/png": "[encoded data removed]",
      "text/plain": [
       "<matplotlib.figure.Figure at 0x1a18af01d0>"
      ]
     },
     "metadata": {},
     "output_type": "display_data"
    }
   ],
   "source": [
    "#scree plot\n",
    "plt.plot(np.arange(1,p+1),eigval)\n",
    "#plt.plot(np.arange(1,n+1),eigval) ???????? si n < p\n",
    "\n",
    "plt.title(\"Scree plot\")\n",
    "plt.ylabel(\"Eigen values\")\n",
    "plt.xlabel(\"Factor number\")\n",
    "plt.show()"
   ]
  },
  {
   "cell_type": "code",
   "execution_count": 106,
   "metadata": {},
   "outputs": [
    {
     "data": {
      "image/png": "[encoded data removed]",
      "text/plain": [
       "<matplotlib.figure.Figure at 0x1a1889a908>"
      ]
     },
     "metadata": {},
     "output_type": "display_data"
    }
   ],
   "source": [
    "#cumul de variance expliquée\n",
    "plt.plot(np.arange(1,p+1),np.cumsum(acp.explained_variance_ratio_))\n",
    "plt.title(\"Explained variance vs. # of factors\")\n",
    "plt.ylabel(\"Cumsum explained variance ratio\")\n",
    "plt.xlabel(\"Factor number\")\n",
    "plt.show()"
   ]
  },
  {
   "cell_type": "code",
   "execution_count": 127,
   "metadata": {},
   "outputs": [],
   "source": [
    "#seuils pour test des bâtons brisés\n",
    "bs = 1/np.arange(p,0,-1)\n",
    "#bs = 1/np.arange(n,0,-1)\n",
    "bs = np.cumsum(bs)\n",
    "bs = bs[::-1]"
   ]
  },
  {
   "cell_type": "code",
   "execution_count": 128,
   "metadata": {},
   "outputs": [
    {
     "name": "stdout",
     "output_type": "stream",
     "text": [
      "     Seuils  Val.Propre\n",
      "0  2.592857    3.997549\n",
      "1  1.592857    2.215420\n",
      "2  1.092857    0.475139\n",
      "3  0.759524    0.200489\n",
      "4  0.509524    0.068524\n",
      "5  0.309524    0.037409\n",
      "6  0.142857    0.005471\n"
     ]
    }
   ],
   "source": [
    "#test des bâtons brisés\n",
    "print(pd.DataFrame({'Val.Propre':eigval,'Seuils':bs}))\n"
   ]
  },
  {
   "cell_type": "code",
   "execution_count": 124,
   "metadata": {},
   "outputs": [
    {
     "data": {
      "image/png": "[encoded data removed]",
      "text/plain": [
       "<matplotlib.figure.Figure at 0x1a18b3bf28>"
      ]
     },
     "metadata": {},
     "output_type": "display_data"
    }
   ],
   "source": [
    "#positionnement des individus dans le premier plan\n",
    "fig, axes = plt.subplots(figsize=(12,12))\n",
    "axes.set_xlim(-3,3) #même limites en abscisse\n",
    "axes.set_ylim(-3,4) #et en ordonnée\n",
    "#placement des étiquettes des observations\n",
    "for i in range(n):\n",
    " plt.annotate(X.index[i],(coord[i,0],coord[i,1]))\n",
    "#ajouter les axes\n",
    "plt.plot([-3, 3],[0,0],color='silver',linestyle='-',linewidth=1)\n",
    "plt.plot([0,0],[-3, 4],color='silver',linestyle='-',linewidth=1)\n",
    "#affichage\n",
    "#plt.show()\n",
    "\n",
    "\n",
    "dest = \"popplin_ACP1R2b.pdf\"\n",
    "   \n",
    "plt.savefig(dest)"
   ]
  },
  {
   "cell_type": "code",
   "execution_count": 110,
   "metadata": {},
   "outputs": [
    {
     "name": "stdout",
     "output_type": "stream",
     "text": [
      "       ID        d_i\n",
      "0    int1  66.951194\n",
      "1   int2a   1.971910\n",
      "2    int3   5.156754\n",
      "3   int2b   3.496979\n",
      "4    int4   6.021851\n",
      "5    int5   2.688588\n",
      "6      A0   4.394957\n",
      "7     A1a   2.068368\n",
      "8     A2a   6.646796\n",
      "9     A1b   3.657046\n",
      "10    A2b   8.341882\n",
      "11    B1a   1.108075\n",
      "12    B2a   1.566465\n",
      "13    B1b   0.901366\n",
      "14    B2b   0.915191\n",
      "15    C1a   4.362196\n",
      "16    C2a   9.539218\n",
      "17    C1b   5.755059\n",
      "18    C2b   6.016172\n",
      "19    A1c   3.715212\n",
      "20    A2c   5.283737\n",
      "21   fin1   3.574509\n",
      "22   fin2   6.866476\n"
     ]
    }
   ],
   "source": [
    "#contribution des individus dans l'inertie totale\n",
    "di = np.sum(Z**2,axis=1)\n",
    "print(pd.DataFrame({'ID':X.index,'d_i':di}))"
   ]
  },
  {
   "cell_type": "code",
   "execution_count": 111,
   "metadata": {},
   "outputs": [
    {
     "name": "stdout",
     "output_type": "stream",
     "text": [
      "      COS2_1    COS2_2     id\n",
      "0   0.973035  0.001983   int1\n",
      "1   0.000877  0.011292  int2a\n",
      "2   0.719805  0.156128   int3\n",
      "3   0.010326  0.694233  int2b\n",
      "4   0.765711  0.066985   int4\n",
      "5   0.009964  0.326687   int5\n",
      "6   0.487739  0.342621     A0\n",
      "7   0.082883  0.728241    A1a\n",
      "8   0.350647  0.572262    A2a\n",
      "9   0.326013  0.464467    A1b\n",
      "10  0.468296  0.338096    A2b\n",
      "11  0.100867  0.402663    B1a\n",
      "12  0.362661  0.302889    B2a\n",
      "13  0.258580  0.034859    B1b\n",
      "14  0.564288  0.031828    B2b\n",
      "15  0.098132  0.847120    C1a\n",
      "16  0.024139  0.919076    C2a\n",
      "17  0.222991  0.717996    C1b\n",
      "18  0.300684  0.618411    C2b\n",
      "19  0.271689  0.519284    A1c\n",
      "20  0.301111  0.577201    A2c\n",
      "21  0.137133  0.731841   fin1\n",
      "22  0.057572  0.882408   fin2\n"
     ]
    }
   ],
   "source": [
    "#qualité de représentation des individus - COS2\n",
    "cos2 = coord**2\n",
    "for j in range(p):\n",
    " cos2[:,j] = cos2[:,j]/di\n",
    "print(pd.DataFrame({'id':X.index,'COS2_1':cos2[:,0],'COS2_2':cos2[:,1]}))"
   ]
  },
  {
   "cell_type": "code",
   "execution_count": 112,
   "metadata": {},
   "outputs": [
    {
     "name": "stdout",
     "output_type": "stream",
     "text": [
      "[1. 1. 1. 1. 1. 1. 1. 1. 1. 1. 1. 1. 1. 1. 1. 1. 1. 1. 1. 1. 1. 1. 1.]\n"
     ]
    }
   ],
   "source": [
    "#vérifions la théorie - somme en ligne des cos2 = 1\n",
    "print(numpy.sum(cos2,axis=1))"
   ]
  },
  {
   "cell_type": "code",
   "execution_count": 113,
   "metadata": {},
   "outputs": [
    {
     "name": "stdout",
     "output_type": "stream",
     "text": [
      "       CTR_1     CTR_2     id\n",
      "0   0.708541  0.002606   int1\n",
      "1   0.000019  0.000437  int2a\n",
      "2   0.040371  0.015801   int3\n",
      "3   0.000393  0.047645  int2b\n",
      "4   0.050150  0.007916   int4\n",
      "5   0.000291  0.017237   int5\n",
      "6   0.023314  0.029552     A0\n",
      "7   0.001865  0.029561    A1a\n",
      "8   0.025349  0.074649    A2a\n",
      "9   0.012967  0.033335    A1b\n",
      "10  0.042488  0.055350    A2b\n",
      "11  0.001216  0.008756    B1a\n",
      "12  0.006179  0.009311    B2a\n",
      "13  0.002535  0.000617    B1b\n",
      "14  0.005617  0.000572    B2b\n",
      "15  0.004656  0.072521    C1a\n",
      "16  0.002504  0.172060    C2a\n",
      "17  0.013958  0.081094    C1b\n",
      "18  0.019675  0.073015    C2b\n",
      "19  0.010978  0.037862    A1c\n",
      "20  0.017304  0.059853    A2c\n",
      "21  0.005331  0.051339   fin1\n",
      "22  0.004300  0.118910   fin2\n"
     ]
    }
   ],
   "source": [
    "#contributions aux axes\n",
    "ctr = coord**2\n",
    "for j in range(p):\n",
    " ctr[:,j] = ctr[:,j]/(n*eigval[j])\n",
    "\n",
    "print(pd.DataFrame({'id':X.index,'CTR_1':ctr[:,0],'CTR_2':ctr[:,1]}))"
   ]
  },
  {
   "cell_type": "code",
   "execution_count": 114,
   "metadata": {},
   "outputs": [
    {
     "name": "stdout",
     "output_type": "stream",
     "text": [
      "[1. 1. 1. 1. 1. 1. 1.]\n"
     ]
    }
   ],
   "source": [
    "#vérifions la théorie\n",
    "print(np.sum(ctr,axis=0))"
   ]
  },
  {
   "cell_type": "code",
   "execution_count": 115,
   "metadata": {},
   "outputs": [
    {
     "name": "stdout",
     "output_type": "stream",
     "text": [
      "[[-0.40636641  0.47726664  0.4764818  -0.43221535  0.30287327 -0.23205461\n",
      "  -0.21830327]\n",
      " [ 0.36375601 -0.1263887  -0.03481902 -0.21702395  0.50434637  0.55542573\n",
      "  -0.49044134]\n",
      " [ 0.22592564  0.24293798  0.37964573  0.02177221  0.1968691   0.40920702\n",
      "   0.734252  ]\n",
      " [-0.01512404 -0.29938762 -0.17647829 -0.85964692 -0.26490086  0.06214939\n",
      "   0.25683826]\n",
      " [ 0.17655267  0.26026415  0.36583702 -0.01348131 -0.73715858  0.34479813\n",
      "  -0.32370471]\n",
      " [-0.72748581  0.11569785 -0.32156939  0.10170131 -0.03605812  0.58416111\n",
      "   0.03292382]\n",
      " [-0.30144704 -0.72558061  0.59936105  0.12688083  0.01642113  0.07880378\n",
      "  -0.02916097]]\n"
     ]
    }
   ],
   "source": [
    "#le champ components_ de l'objet ACP\n",
    "print(acp.components_)"
   ]
  },
  {
   "cell_type": "code",
   "execution_count": 116,
   "metadata": {},
   "outputs": [
    {
     "name": "stdout",
     "output_type": "stream",
     "text": [
      "[[-0.81248374  0.54142488  0.15573126 -0.00677194  0.0462163  -0.14070565\n",
      "  -0.02229689]\n",
      " [ 0.95424074 -0.18812056  0.16745792 -0.13405378  0.06812951  0.02237754\n",
      "  -0.05366844]\n",
      " [ 0.95267154 -0.05182562  0.26169101 -0.07901991  0.09576538 -0.0621959\n",
      "   0.04433246]\n",
      " [-0.86416576 -0.32302466  0.01500766 -0.38491546 -0.00352901  0.01967042\n",
      "   0.00938489]\n",
      " [ 0.6055609   0.75068359  0.1357025  -0.118612   -0.19296646 -0.00697413\n",
      "   0.00121461]\n",
      " [-0.46396697  0.82671158  0.2820677   0.02782801  0.09025802  0.11298471\n",
      "   0.00582882]\n",
      " [-0.43647273 -0.72998695  0.50612224  0.11500189 -0.08473638  0.00636791\n",
      "  -0.00215693]]\n"
     ]
    }
   ],
   "source": [
    "#racine carrée des valeurs propres\n",
    "sqrt_eigval = np.sqrt(eigval)\n",
    "\n",
    "#corrélation des variables avec les axes\n",
    "corvar = np.zeros((p,p))\n",
    "for k in range(p):\n",
    " corvar[:,k] = acp.components_[k,:] * sqrt_eigval[k]\n",
    "\n",
    "#afficher la matrice des corrélations variables x facteurs\n",
    "print(corvar)"
   ]
  },
  {
   "cell_type": "code",
   "execution_count": 117,
   "metadata": {},
   "outputs": [
    {
     "data": {
      "text/plain": [
       "[<matplotlib.lines.Line2D at 0x1a17dc9390>]"
      ]
     },
     "execution_count": 117,
     "metadata": {},
     "output_type": "execute_result"
    },
    {
     "data": {
      "image/png": "[encoded data removed]",
      "text/plain": [
       "<matplotlib.figure.Figure at 0x1a19299a90>"
      ]
     },
     "metadata": {},
     "output_type": "display_data"
    }
   ],
   "source": [
    "#cercle des corrélations\n",
    "fig, axes = plt.subplots(figsize=(8,8))\n",
    "axes.set_xlim(-1,1)\n",
    "axes.set_ylim(-1,1)\n",
    "#affichage des étiquettes (noms des variables)\n",
    "for j in range(p):\n",
    " plt.annotate(X.columns[j],(corvar[j,0],corvar[j,1]))\n",
    "\n",
    "#ajouter les axes\n",
    "plt.plot([-1,1],[0,0],color='silver',linestyle='-',linewidth=1)\n",
    "plt.plot([0,0],[-1,1],color='silver',linestyle='-',linewidth=1)\n",
    "\n"
   ]
  },
  {
   "cell_type": "code",
   "execution_count": 118,
   "metadata": {},
   "outputs": [
    {
     "data": {
      "image/png": "[encoded data removed]",
      "text/plain": [
       "<matplotlib.figure.Figure at 0x104868908>"
      ]
     },
     "metadata": {},
     "output_type": "display_data"
    }
   ],
   "source": [
    "#cercle des corrélations\n",
    "fig, axes = plt.subplots(figsize=(8,8))\n",
    "axes.set_xlim(-1,1)\n",
    "axes.set_ylim(-1,1)\n",
    "#affichage des étiquettes (noms des variables)\n",
    "for j in range(p):\n",
    " plt.annotate(X.columns[j],(corvar[j,0],corvar[j,1]))\n",
    "\n",
    "#ajouter les axes\n",
    "plt.plot([-1,1],[0,0],color='silver',linestyle='-',linewidth=1)\n",
    "plt.plot([0,0],[-1,1],color='silver',linestyle='-',linewidth=1)\n",
    "\n",
    "#ajouter un cercle\n",
    "cercle = plt.Circle((0,0),1,color='blue',fill=False)\n",
    "axes.add_artist(cercle)\n",
    "#affichage\n",
    "\n",
    "dest = \"popplin_ACP1parsR2b.pdf\"\n",
    "   \n",
    "plt.savefig(dest)"
   ]
  },
  {
   "cell_type": "code",
   "execution_count": 119,
   "metadata": {},
   "outputs": [
    {
     "name": "stdout",
     "output_type": "stream",
     "text": [
      "     COS2_1    COS2_2             id\n",
      "0  0.660130  0.293141  midi_centroid\n",
      "1  0.910575  0.035389       skewness\n",
      "2  0.907583  0.002686       kurtosis\n",
      "3  0.746782  0.104345    sp_flatness\n",
      "4  0.366704  0.563526       sp_crest\n",
      "5  0.215265  0.683452     mode_freq2\n",
      "6  0.190508  0.532881    nbandSupMed\n"
     ]
    }
   ],
   "source": [
    "#cosinus carré des variables\n",
    "cos2var = corvar**2\n",
    "print(pd.DataFrame({'id':X.columns,'COS2_1':cos2var[:,0],'COS2_2':cos2var[:,1]}))"
   ]
  },
  {
   "cell_type": "code",
   "execution_count": 120,
   "metadata": {},
   "outputs": [
    {
     "name": "stdout",
     "output_type": "stream",
     "text": [
      "      CTR_1     CTR_2             id\n",
      "0  0.165134  0.132318  midi_centroid\n",
      "1  0.227783  0.015974       skewness\n",
      "2  0.227035  0.001212       kurtosis\n",
      "3  0.186810  0.047099    sp_flatness\n",
      "4  0.091732  0.254365       sp_crest\n",
      "5  0.053849  0.308498     mode_freq2\n",
      "6  0.047656  0.240533    nbandSupMed\n"
     ]
    }
   ],
   "source": [
    "#contributions\n",
    "ctrvar = cos2var\n",
    "for k in range(p):\n",
    " ctrvar[:,k] = ctrvar[:,k]/eigval[k]\n",
    "#on n'affiche que pour les deux premiers axes\n",
    "print(pd.DataFrame({'id':X.columns,'CTR_1':ctrvar[:,0],'CTR_2':ctrvar[:,1]}))"
   ]
  },
  {
   "cell_type": "code",
   "execution_count": null,
   "metadata": {},
   "outputs": [],
   "source": []
  }
 ],
 "metadata": {
  "kernelspec": {
   "display_name": "Python 3",
   "language": "python",
   "name": "python3"
  },
  "language_info": {
   "codemirror_mode": {
    "name": "ipython",
    "version": 3
   },
   "file_extension": ".py",
   "mimetype": "text/x-python",
   "name": "python",
   "nbconvert_exporter": "python",
   "pygments_lexer": "ipython3",
   "version": "3.6.4"
  }
 },
 "nbformat": 4,
 "nbformat_minor": 2
}
