{
 "cells": [
  {
   "cell_type": "code",
   "execution_count": 1,
   "metadata": {},
   "outputs": [],
   "source": [
    "import os\n",
    "import math\n",
    "from math import *\n",
    "import statistics\n",
    "from statistics import *\n",
    "import glob\n",
    "import re\n",
    "import numpy as np\n",
    "import pandas as pd\n",
    "import matplotlib.pyplot as plt\n",
    "import sklearn\n",
    "from sklearn.linear_model import LinearRegression\n",
    "from sklearn.model_selection import train_test_split\n",
    "plt.rcParams[\"svg.fonttype\"]=\"none\""
   ]
  },
  {
   "cell_type": "markdown",
   "metadata": {},
   "source": [
    "## 1 Lecture de fichiers"
   ]
  },
  {
   "cell_type": "code",
   "execution_count": 2,
   "metadata": {},
   "outputs": [
    {
     "name": "stdout",
     "output_type": "stream",
     "text": [
      "nombre de fichiers lus :  36\n"
     ]
    }
   ],
   "source": [
    "#folder_path=\"/Users/laurentpottier/Documents/LP/Recherches/Projet_Fondation/GIT_DEV/2_descripteurs/KAWA_Analyses-1s\"\n",
    "folder_path=\"/Users/laurentpottier/Documents/LP/Recherches/Projet_Fondation/GIT_DEV2/2_descripteurs/KAWA_Analyses-2.5s\"\n",
    "\n",
    "filelist = []\n",
    "for path, dirs, files in os.walk(folder_path):\n",
    "    for filename in files:\n",
    "        if 'txt' in filename :\n",
    "                filelist.append(filename)\n",
    "filelist.sort()\n",
    "print(\"nombre de fichiers lus : \" , len(filelist))\n",
    "#print(filelist)\n",
    "\n",
    "#get classes in string\n",
    "class_path=os.chdir(\"/Users/laurentpottier/Documents/LP/Recherches/Projet_Fondation/GIT_DEV2/2_descripteurs/KAWA_Analyses-2.5s/\")\n"
   ]
  },
  {
   "cell_type": "code",
   "execution_count": 53,
   "metadata": {},
   "outputs": [
    {
     "name": "stdout",
     "output_type": "stream",
     "text": [
      "S0 est :  (0_noise_sr44100_deb00_00_00_t02_00.txt\n",
      "S1 est :  (0_pink_sr44100_deb00_00_00_t02_00.txt\n",
      "S2 est :  (0_sinus500_sr44100_deb00_00_00_t02_00.txt\n",
      "S3 est :  (la)[PinkNoise]Pk_05Hz_reg.wav_sr44100_deb00_01_00_t02_50_pas10_00.txt\n",
      "S4 est :  (trim-L-la)[clock_alarm]bbc_ Portable electric alarm clock_07070161.wav_sr44100_deb00_01_00_t02_50_pas10_00.txt\n"
     ]
    }
   ],
   "source": [
    "# read filetxt and generate array S\n",
    "def read(filetext):\n",
    "    with open(filetext) as f:\n",
    "        mylist = f.read().splitlines()\n",
    "        for x in range(8):\n",
    "            mylist.pop(0)\n",
    "        S=[]\n",
    "        for element in reversed(mylist):\n",
    "            element2=[float(i) for i in element.split()]\n",
    "            S.append(element2)\n",
    "        return S\n",
    "\n",
    "file0 = filelist[1]\n",
    "S0 = read(file0)\n",
    "file1 = filelist[2]\n",
    "S1 = read(file1)\n",
    "#print (\"S1 est : \" , S1)\n",
    "file2 = filelist[3]\n",
    "S2 = read(file2)\n",
    "file3 = filelist[5]\n",
    "S3 = read(file3)\n",
    "file4 = filelist[13]\n",
    "S4 = read(file4)\n",
    "file5 = filelist[18]\n",
    "S5 = read(file5)\n",
    "\n",
    "print (\"S0 est : \" , file0)\n",
    "print (\"S1 est : \" , file1)\n",
    "print (\"S2 est : \" , file2)\n",
    "print (\"S3 est : \" , file3)\n",
    "print (\"S4 est : \" , file4)"
   ]
  },
  {
   "cell_type": "code",
   "execution_count": 4,
   "metadata": {},
   "outputs": [],
   "source": [
    "# plus file name unite comme secondes \n",
    "def timetxt (filetext):\n",
    "    str_L = filetext.rsplit(sep='_')\n",
    "    test = 0\n",
    "    result = 0\n",
    "    for str in str_L:\n",
    "        if test == 3:\n",
    "            cent = int(str)\n",
    "            result+=(cent/100)\n",
    "            test = 0\n",
    "        if test == 2:\n",
    "            sec = int(str)\n",
    "            test = 3\n",
    "            result+=sec\n",
    "        if re.search('deb', str):\n",
    "            test = 1\n",
    "            min = int(str[4-5])\n",
    "            result+=(min*60)\n",
    "            test = 2\n",
    "    return result\n",
    "\n",
    "#print(timetxt(\"EntranceEICcreation_m.wav_sr44100_deb00_00_00_t02_50_pas10_00.txt\"))\n",
    "#timetxt(\"AlanStivell_PopPlinn_1971m.wav_sr44100_deb00_45_00_t02_50_pas02_50.txt\")\n"
   ]
  },
  {
   "cell_type": "markdown",
   "metadata": {},
   "source": [
    "## 2 Utilitaires"
   ]
  },
  {
   "cell_type": "code",
   "execution_count": 5,
   "metadata": {},
   "outputs": [],
   "source": [
    "def f_to_midi (f) :\n",
    "    return 69+12*log(f/440,2)\n",
    "\n",
    "#print (\"note de freq 261Hz :\" , f_to_midi (261))\n",
    "\n",
    "def midi_to_f (n) :\n",
    "    return 440*2**((n-69)/12)\n",
    "\n",
    "#print (\"frequence de note 60 :\" , midi_to_f (60), \"Hz\")\n",
    "\n",
    "def dx2x(intervalles):\n",
    "    res=[0]\n",
    "    for i in range (len (intervalles)):\n",
    "        res.append(res[i]+intervalles[i-1])\n",
    "    return res\n",
    "               \n",
    "def a2db (a):\n",
    "    if(a<=0.000001):res = -120\n",
    "    else:\n",
    "        res = 20*log(a,10)\n",
    "    return res\n",
    "\n",
    "# version limitée à un ambitus 0 (0.001) - 60dB (1)               \n",
    "def a2db60 (a):\n",
    "    if(a<=0.001):res = 0\n",
    "    else:res = 60+20*log(a,10)\n",
    "    return res\n",
    "\n",
    "#print (\"amp = 0.0 => amplitude en dB :\" , round(a2db(0.000001), 3), \"dB\")\n",
    "#print (\"amp = 0.0001 => amplitude en dB :\" , round(a2db(0.0001), 3), \"dB\")\n",
    "#print (\"amp = 0.5 => amplitude en dB :\" , round(a2db(0.5), 3), \"dB\")\n",
    "#print (\"amp = 1 => amplitude en dB :\" , a2db(1), \"dB\")\n",
    "#print (\"amp60 = 0 => amplitude60 en dB :\" , a2db60(0), \"dB\")\n",
    "#print (\"amp60 = 1 => amplitude60 en dB :\" , a2db60(1), \"dB\")\n"
   ]
  },
  {
   "cell_type": "code",
   "execution_count": 31,
   "metadata": {},
   "outputs": [],
   "source": [
    "# les intervalles des 27 bandes\n",
    "f_ls = [21.5,32.3,43.1,53.8,64.6,86.1,107.7,140.0,172.3,215.3,269.2,344.5,441.4,549.1,699.8,872.1,1109.0,1388.9,1755.0,2217.9,2788.5,3520.7,4435.8,5587.9,7041.4,8871.7,11175.7,14071.9]\n",
    "\n",
    "LtailleLigne = [] # liste des tailles des lignes\n",
    "for k in range(27):\n",
    "    LtailleLigne.append(4+2*k)\n",
    "\n",
    "f_c = [] # frequences centrales des bandes\n",
    "for i in range(len(f_ls)-1):\n",
    "    f_c.append(sqrt(f_ls[i+1]*f_ls[i]))\n",
    "    \n",
    "f_c_midi = []\n",
    "for i in range(len(f_c)):\n",
    "    f_c_midi.append(f_to_midi(f_c[i]))\n",
    "\n",
    "f_c_moy = 0 \n",
    "for i in range(len(f_c)):\n",
    "    f_c_moy += f_c[i]\n",
    "    f_c_moy /= 27\n",
    "    \n",
    "f_c_gmoy = 0\n",
    "for i in range(len(f_c)):\n",
    "    f_c_gmoy += log(f_c[i], 2)\n",
    "    f_c_gmoyR =  2**(f_c_gmoy/27)\n",
    "\n",
    "#print(\"len(f_ls) :\", len(f_ls), \"bornes\")\n",
    "\n",
    "W=[]\n",
    "\n",
    "for i in range(len(f_ls)-1):\n",
    "    W.append(round(f_ls[i+1]-f_ls[i], 2))\n",
    "    \n",
    "#print(\"w :\" , W)       \n",
    "#print (\"f_c :\", f_c)\n",
    "#print (\"f_c_moy :\", round(f_c_moy,1), \"Hz\") # (en Hz) moyenne des frequences des centres des bandes \n",
    "#print (\"f_c_gmoyR :\", round(f_c_gmoyR,1), \"Hz\") # (en Hz) moyenne des centres calculée par les notes MIDI\n",
    "#print (\"f_c_gmoyR :\", f_c_gmoyR2) # (en Hz) moyenne des centres calculée par les notes MIDI\n",
    "\n",
    "f_cA = np.asarray(f_c)\n",
    "f_cA = f_cA[:, np.newaxis]\n",
    "#print (round(3.149 , 2))"
   ]
  },
  {
   "cell_type": "markdown",
   "metadata": {},
   "source": [
    "## 3 Descripteurs spectraux"
   ]
  },
  {
   "cell_type": "code",
   "execution_count": 32,
   "metadata": {},
   "outputs": [],
   "source": [
    "# moyennes des amplitudes par ligne (des fréquences basses vers hautes)\n",
    "def moy_des_amps (S):\n",
    "    Sk_mean=[]\n",
    "    for k in range(27):\n",
    "        sum_s=0\n",
    "        for j in range(4+2*k):\n",
    "            sum_s+=S[k][j]\n",
    "        Sk_mean.append(sum_s/(4+2*k))\n",
    "    return Sk_mean\n",
    "\n",
    "#print(\"amps:\",moy_des_amps(S1))\n",
    "\n",
    "# moyennes geometriques des amplitudes par ligne (des fréquences basses vers hautes)\n",
    "def gmoy_des_amps (S):\n",
    "    Sk_gmean=[]\n",
    "    for k in range(27):\n",
    "        prod_s=1\n",
    "        for j in range(4+2*k):\n",
    "            prod_s*=S[k][j]\n",
    "        Sk_gmean.append(prod_s**(1/(4+2*k)))\n",
    "    return Sk_gmean\n",
    "\n",
    "#print(\"gamps:\",gmoy_des_amps(S1))\n",
    "\n",
    "def produit_des_amps (S):\n",
    "    Sk_prod=[]\n",
    "    K = 27\n",
    "    for k in range(27):\n",
    "        prod_s=1\n",
    "        for j in range(4+2*k):\n",
    "            prod_s*=S[k][j]\n",
    "        Sk_prod.append(prod_s**(1/(K*(K+3))))\n",
    "    return Sk_prod\n",
    "\n",
    "#print(\"produit amps S2:\",produit_des_amps(S2))"
   ]
  },
  {
   "cell_type": "code",
   "execution_count": 33,
   "metadata": {},
   "outputs": [
    {
     "data": {
      "text/plain": [
       "3327.650199495966"
      ]
     },
     "execution_count": 33,
     "metadata": {},
     "output_type": "execute_result"
    }
   ],
   "source": [
    "#centroid\n",
    "def centroid(S):\n",
    "    Sk_mean = moy_des_amps(S)\n",
    "    sum_sc=0\n",
    "    sum_sfk=0\n",
    "    for k in range(27):\n",
    "        sum_sfk += Sk_mean[k]*f_c[k]\n",
    "        sum_sc += Sk_mean[k]            \n",
    "    if sum_sc == 0 :\n",
    "        centroid=0\n",
    "    else:\n",
    "        centroid=sum_sfk/sum_sc\n",
    "    #print('centroid' , centroid)\n",
    "    return centroid\n",
    "\n",
    "#print(\"centroid S1 :\",round(centroid(S1)),\"Hz\")\n",
    "\n",
    "#variance et sd\n",
    "def variance(S):\n",
    "    Sk_mean=[]\n",
    "    variance = 0\n",
    "    for k in range(27):\n",
    "        sum_s=0\n",
    "        for j in range(4+2*k):\n",
    "            sum_s+=S[k][j]\n",
    "        Sk_mean.append(sum_s/(4+2*k))\n",
    "    sum_var=0\n",
    "    sum_skm=0\n",
    "    for k in range(27):\n",
    "        sum_var+=Sk_mean[k]*((f_c[k]-centroid(S))**2)\n",
    "        sum_skm+=Sk_mean[k]\n",
    "    if sum_skm>0:\n",
    "        variance=sum_var/sum_skm\n",
    "    return variance\n",
    "\n",
    "# sd: \n",
    "def sd(filetext):\n",
    "    sd=sqrt(variance(filetext))\n",
    "    return sd\n",
    "\n",
    "sd(S1)"
   ]
  },
  {
   "cell_type": "code",
   "execution_count": 34,
   "metadata": {},
   "outputs": [
    {
     "name": "stdout",
     "output_type": "stream",
     "text": [
      "centre-ecartlow S1: 443.1 Hz\n",
      "centroid S1: 2374.0 Hz\n",
      "centre+ecartHigh S1: 7581.2 Hz\n"
     ]
    }
   ],
   "source": [
    "# sd: biased standard deviation (N)\n",
    "def sdLow(S):\n",
    "    Sk_mean = moy_des_amps(S)\n",
    "    sdLow = 0\n",
    "    sum_sd=0\n",
    "    sum_skm=0\n",
    "    for k in range(27):\n",
    "        diff=f_c[k]-centroid(S)\n",
    "        if diff <0:\n",
    "            sum_sd+=Sk_mean[k]*(diff**2)\n",
    "            sum_skm+=Sk_mean[k]\n",
    "    if sum_skm > 0:\n",
    "        sdLow=sqrt(sum_sd/sum_skm)\n",
    "    return sdLow\n",
    "\n",
    "# sd: biased standard deviation (N)\n",
    "def sdHigh(S):\n",
    "    Sk_mean = moy_des_amps(S)\n",
    "    sdHigh = 0\n",
    "    sum_sd=0\n",
    "    sum_skm=0\n",
    "    for k in range(27):\n",
    "        diff=f_c[k]-centroid(S)\n",
    "        if diff >0:\n",
    "            sum_sd+=Sk_mean[k]*(diff**2)\n",
    "            sum_skm+=Sk_mean[k]\n",
    "    if sum_skm > 0:\n",
    "        sdHigh=sqrt(sum_sd/sum_skm)\n",
    "    return sdHigh\n",
    "\n",
    "    \n",
    "def c_min_sdlow(S): \n",
    "    return round(centroid(S) - sdLow(S),1)\n",
    "\n",
    "def c_plus_sdHi(S): \n",
    "    return round(centroid(S) + sdHigh(S),1)\n",
    "\n",
    "print(\"centre-ecartlow S1:\", c_min_sdlow(S1),\"Hz\")\n",
    "print(\"centroid S1:\", round(centroid(S1),1),\"Hz\")\n",
    "print(\"centre+ecartHigh S1:\", c_plus_sdHi(S1),\"Hz\")\n"
   ]
  },
  {
   "cell_type": "code",
   "execution_count": 35,
   "metadata": {},
   "outputs": [],
   "source": [
    "#MIDI centroid\n",
    "def midi_centroid(S):\n",
    "    Sk_mean = moy_des_amps(S)\n",
    "    sum_sc=0\n",
    "    midi_centroid=0\n",
    "    sum_sfk=0\n",
    "    for k in range(27):\n",
    "        sum_sfk+=Sk_mean[k]*f_to_midi(f_c[k])\n",
    "        sum_sc+=Sk_mean[k]            \n",
    "    if sum_sc > 0 :\n",
    "        midi_centroid=sum_sfk/sum_sc\n",
    "    #print('centroid' , centroid)\n",
    "    return midi_centroid\n"
   ]
  },
  {
   "cell_type": "code",
   "execution_count": 36,
   "metadata": {},
   "outputs": [
    {
     "name": "stdout",
     "output_type": "stream",
     "text": [
      "centr-ecartLow S1: 44.8 MIDI / 108.7 Hz\n",
      "midi_centroid S1: 76.8 MIDI / 690 Hz\n",
      "centr+ecartHigh S1: 107.0 MIDI / 3951.1 Hz\n"
     ]
    }
   ],
   "source": [
    "#ecartHigh\n",
    "def midi_ecartHigh(S): \n",
    "    Sk_mean = moy_des_amps(S) \n",
    "    sum_var=0 \n",
    "    sum_skm=0\n",
    "    varianceHigh = 0\n",
    "    for k in range(27): \n",
    "        df = f_to_midi(f_c[k])-midi_centroid(S) \n",
    "        if df>0:\n",
    "            sum_var+=Sk_mean[k]*(df**2)\n",
    "            sum_skm+=Sk_mean[k]\n",
    "    if sum_skm>0:\n",
    "        varianceHigh=sum_var/sum_skm\n",
    "    #print(\\\"variance\\\", variance)\n",
    "    return sqrt(varianceHigh)\n",
    "\n",
    "#ecartLow \n",
    "def midi_ecartLow(S): \n",
    "    Sk_mean = moy_des_amps(S) \n",
    "    sum_var=0 \n",
    "    sum_skm=0\n",
    "    varianceLow = 0\n",
    "    for k in range(27): \n",
    "        df = f_to_midi(f_c[k])-midi_centroid(S) \n",
    "        if df<0:\n",
    "            sum_var+=Sk_mean[k]*(df**2)\n",
    "            sum_skm+=Sk_mean[k]\n",
    "    if sum_skm>0:\n",
    "        varianceLow=sum_var/sum_skm\n",
    "    #print(\\\"variance\\\", variance)\n",
    "    return sqrt(varianceLow)\n",
    "\n",
    "def mc_min_eclow(S): \n",
    "    return round(midi_centroid(S) - midi_ecartLow(S),1)\n",
    "\n",
    "def mc_plus_ecHi(S): \n",
    "    return round(midi_centroid(S) + midi_ecartHigh(S),1)\n",
    "\n",
    "mcd = round(midi_centroid(S1),1)\n",
    "mcd_eL = round(mc_min_eclow(S1),1)\n",
    "mcd_eH = round(mc_plus_ecHi(S1),1)\n",
    "print(\"centr-ecartLow S1:\", mcd_eL,\"MIDI /\", round(midi_to_f(mcd_eL),1),\"Hz\") \n",
    "print(\"midi_centroid S1:\", mcd,\"MIDI /\", round(midi_to_f(mcd)),\"Hz\")\n",
    "print(\"centr+ecartHigh S1:\", mcd_eH,\"MIDI /\", round(midi_to_f(mcd_eH),1),\"Hz\")"
   ]
  },
  {
   "cell_type": "code",
   "execution_count": 37,
   "metadata": {},
   "outputs": [],
   "source": [
    "#midi spectral slope\n",
    "def midi_spectral_slope_reg(S):\n",
    "    f_csA_midi = np.asarray(f_c_midi)\n",
    "    f_csA_midi = f_csA_midi[:, np.newaxis]\n",
    "    Sk_meanA = np.asarray(moy_des_amps(S))\n",
    "    Sk_meanA = Sk_meanA[:, np.newaxis]\n",
    "    modeleReg = LinearRegression()\n",
    "    modeleReg.fit(f_csA_midi, Sk_meanA)\n",
    "    #plt.scatter(f_csA, Sk_meanA)\n",
    "    return modeleReg\n",
    "\n",
    "def midi_sp_slope (S):\n",
    "    return midi_spectral_slope_reg(S).coef_[0][0]\n",
    "\n",
    "def plot_slope(S):\n",
    "    modeleReg = midi_spectral_slope_reg(S)\n",
    "    f_csA_midi = np.asarray(f_c_midi)\n",
    "    f_csA_midi = f_csA_midi[:, np.newaxis]\n",
    "    Sk_meanA = np.asarray(moy_des_amps(S))\n",
    "    Sk_meanA = Sk_meanA[:, np.newaxis]\n",
    "    plt.scatter(f_csA_midi, Sk_meanA)\n",
    "\n",
    "    #print(\"Sk_meanA : \" , Sk_meanA)\n",
    "    \n",
    "    x_min = 10\n",
    "    x_max = 130\n",
    "\n",
    "    X_NEW = np.linspace(x_min, x_max, 100)\n",
    "    X_NEW = X_NEW[:,np.newaxis]\n",
    "\n",
    "    Y_NEW = modeleReg.predict(X_NEW)\n",
    "\n",
    "    plt.plot(X_NEW, Y_NEW, color='coral', linewidth=3)\n",
    "    plt.grid()\n",
    "    plt.xlim(x_min, x_max)\n",
    "    plt.ylim(0, 0.05)\n",
    "\n",
    "    plt.title(\"regression linéaire > midislope\", fontsize=10)\n",
    "    plt.xlabel('f_cs_midi')\n",
    "    plt.xlabel('a_ls_midi')\n",
    "\n",
    "    #plt.savefig(\"simple_linear_regression_test_midi.png\", bbox_inches='tight')\n",
    "    #plt.show()\n",
    "\n",
    "#plot_slope (S1)\n",
    "#print (\"slope S1: \" + str(midi_sp_slope(S1)))"
   ]
  },
  {
   "cell_type": "code",
   "execution_count": 38,
   "metadata": {},
   "outputs": [
    {
     "name": "stdout",
     "output_type": "stream",
     "text": [
      "spectral_flatness_Na S1: 99.0 %\n",
      "spectral_flatness_Na S2: 1.0 %\n",
      "spectral_flatness S1: 102.0 %\n",
      "spectral_flatness S2: 0.0 %\n"
     ]
    }
   ],
   "source": [
    "#spectral flatness \n",
    "def sp_flatness_Na(S):\n",
    "    Sk_mean = moy_des_amps(S)\n",
    "    sum_skm=0\n",
    "    mult_skm=1\n",
    "    K=26\n",
    "    for k in range(26):\n",
    "        sum_skm+=Sk_mean[k]\n",
    "        mult_skm*=max(Sk_mean[k], 0.00000001)\n",
    "        pow_skm=mult_skm**(1/K)\n",
    "    if sum_skm == 0 :\n",
    "        sf=0\n",
    "    else:\n",
    "        sf=pow_skm/((1/K)*sum_skm)\n",
    "    return sf\n",
    "\n",
    "#************ spectral flatness corrigée LP ************\n",
    "def sp_flatness(S):\n",
    "    Sk_mean = moy_des_amps(S)\n",
    "    Sk_prod = produit_des_amps(S)\n",
    "    sum_skm=0\n",
    "    mult_skm=1\n",
    "    K=27\n",
    "    for k in range(27):\n",
    "        sum_skm+=Sk_mean[k]\n",
    "        mult_skm*=max(Sk_prod[k], 0.000000000001)\n",
    "    if sum_skm == 0 :\n",
    "        sf=0\n",
    "    else:\n",
    "        sf=(K*mult_skm)/sum_skm\n",
    "    return sf\n",
    "\n",
    "print (\"spectral_flatness_Na S1:\", round(100*sp_flatness_Na(S1),0), \"%\")\n",
    "print (\"spectral_flatness_Na S2:\", round(100*sp_flatness_Na(S2),0), \"%\")\n",
    "print (\"spectral_flatness S1:\", round(100*sp_flatness(S1),0), \"%\")\n",
    "print (\"spectral_flatness S2:\", round(100*sp_flatness(S2),0), \"%\")\n"
   ]
  },
  {
   "cell_type": "code",
   "execution_count": 39,
   "metadata": {},
   "outputs": [
    {
     "name": "stdout",
     "output_type": "stream",
     "text": [
      "Sk_flat: [0.9965571049203423, 0.9715064835001541, 0.9360826847025666, 0.959946254920323, 0.9756400065945559, 0.9849387323832163, 0.9734909225173132, 0.9667432304036233, 0.9715025938003864, 0.967267982478978, 0.9808421109422022, 0.986513972287137, 0.9759466474341671, 0.9852631424035766, 0.9942842471849592, 0.9918987221236407, 0.9937915067526368, 0.9926528006423699, 0.995456090654181, 0.9964462387308172, 0.9961822637239202, 0.9974564326957549, 0.9976058559714873, 0.9976878779225901, 0.9984819588669799, 0.9988363153779788, 0.9987051941365892]\n"
     ]
    },
    {
     "data": {
      "image/png": "[encoded data removed]",
      "text/plain": [
       "<Figure size 432x288 with 1 Axes>"
      ]
     },
     "metadata": {
      "needs_background": "light"
     },
     "output_type": "display_data"
    },
    {
     "data": {
      "image/png": "[encoded data removed]",
      "text/plain": [
       "<Figure size 432x288 with 1 Axes>"
      ]
     },
     "metadata": {
      "needs_background": "light"
     },
     "output_type": "display_data"
    },
    {
     "name": "stdout",
     "output_type": "stream",
     "text": [
      "sp_flatness val max par bande S1: 99.9 % & freq de la bande: 9957.3 Hz\n",
      "sp_flatness val min par bande S1: 93.6 % & freq de la bande: 48.2 Hz\n"
     ]
    }
   ],
   "source": [
    "# moyennes des amplitudes par ligne (des fréquences basses vers hautes)\n",
    "def flatness_list (S):\n",
    "    Sk_flat=[]\n",
    "    Gmoy = gmoy_des_amps (S)\n",
    "    Sk_mean = moy_des_amps(S)\n",
    "    for k in range(27):\n",
    "        Sk_flat.append(Gmoy[k]/Sk_mean[k])\n",
    "    return Sk_flat\n",
    "\n",
    "print (\"Sk_flat:\" , flatness_list(S1))\n",
    "\n",
    "\n",
    "#********* graphic flatness S1 ***********\n",
    "def plot_flatness(S):\n",
    "    #plt.scatter(f_csA_midi, Sk_meanA)\n",
    "\n",
    "    X = np.arange(0, 27, 1)\n",
    "    Y = flatness_list(S)\n",
    "\n",
    "    plt.plot(X, Y, color='coral', linewidth=3)\n",
    "    #plt.grid()\n",
    "    #plt.xlim(x_min, x_max)\n",
    "    plt.ylim(0, 1.0)\n",
    "\n",
    "    plt.title(\"flatness par bande\", fontsize=10)\n",
    "    plt.ylabel('flatness')\n",
    "    plt.xlabel('bandes')\n",
    "\n",
    "    plt.show()\n",
    "\n",
    "plot_flatness (S1)\n",
    "plot_flatness (S2)\n",
    "\n",
    "#spectral flatness moyenne\n",
    "def sp_flatness_moy(S):\n",
    "    Sk_flat = flatness_list(S)\n",
    "    Sm=0\n",
    "    for k in range(27):\n",
    "         Sm+=Sk_flat[k]\n",
    "    return Sm/27\n",
    "\n",
    "#formule equivalente\n",
    "def sp_flatness_moy2(S):\n",
    "    Sk_flat = flatness_list(S)\n",
    "    Sk_flatA = np.asarray(Sk_flat)\n",
    "    return Sk_flatA.mean()\n",
    "\n",
    "def sp_flatness_max(S):\n",
    "    Sk_flat = flatness_list(S)\n",
    "    Sm=0\n",
    "    for k in range(27):\n",
    "        if Sm<Sk_flat[k]:\n",
    "            Sm=Sk_flat[k]\n",
    "            value = k\n",
    "    return [value, f_c[value], Sm]\n",
    "         \n",
    "def sp_flatness_min(S):\n",
    "    Sk_flat = flatness_list(S)\n",
    "    Sm=1\n",
    "    for k in range(27):\n",
    "        if Sm>Sk_flat[k]:\n",
    "            Sm=Sk_flat[k]\n",
    "            value = k\n",
    "    return [value, f_c[value], Sm]\n",
    "\n",
    "def sp_flatness_maxamp(S):\n",
    "    return sp_flatness_max(S)[2]\n",
    "def sp_flatness_maxfreq(S):\n",
    "    return sp_flatness_max(S)[1]\n",
    "def sp_flatness_minamp(S):\n",
    "    return sp_flatness_min(S)[2]\n",
    "def sp_flatness_minfreq(S):\n",
    "    return sp_flatness_min(S)[1]\n",
    "\n",
    "print(\"sp_flatness val max par bande S1:\", round(100*sp_flatness_maxamp(S1),1), \"% & freq de la bande:\", round(sp_flatness_maxfreq(S1),1), \"Hz\")\n",
    "print(\"sp_flatness val min par bande S1:\", round(100*sp_flatness_minamp(S1),1), \"% & freq de la bande:\", round(sp_flatness_minfreq(S1),1), \"Hz\")\n"
   ]
  },
  {
   "cell_type": "code",
   "execution_count": 40,
   "metadata": {},
   "outputs": [
    {
     "name": "stdout",
     "output_type": "stream",
     "text": [
      "sp_crest S1: 1.6403721103849755\n",
      "sp_crest S2: 26.54025888450326\n"
     ]
    }
   ],
   "source": [
    "#sp crest\n",
    "def sp_crest(S):\n",
    "    Sk_mean = moy_des_amps(S)\n",
    "    sum_skm=0\n",
    "    K=27\n",
    "    screst = 99 # si tout à zero\n",
    "    max_skm=[]\n",
    "    for k in range(27):\n",
    "        sum_skm+=Sk_mean[k]\n",
    "        for j in range(4+2*k):\n",
    "            max_skm.append(np.max(S[k][j]))\n",
    "    max_sk=max(max_skm)\n",
    "    if sum_skm > 0:\n",
    "        screst=max_sk/((1/K)*sum_skm)\n",
    "    return screst\n",
    "\n",
    "print(\"sp_crest S1:\" , sp_crest(S1))\n",
    "print(\"sp_crest S2:\" , sp_crest(S2))"
   ]
  },
  {
   "cell_type": "code",
   "execution_count": 73,
   "metadata": {},
   "outputs": [
    {
     "name": "stdout",
     "output_type": "stream",
     "text": [
      "rms S0: 0.45830295032151447\n",
      "rms S1: 0.15111840076635982\n",
      "rms S2: 0.70701646126626\n",
      "rms S3: 0.0578098138892505\n"
     ]
    }
   ],
   "source": [
    "# rms with original value of frequency bin k=27\n",
    "def rms(S):\n",
    "    #Sk_mean = moy_des_amps(S)\n",
    "    sum_skr = []\n",
    "    for k in range(27):\n",
    "        sum_sk = 0\n",
    "        for j in range(LtailleLigne[k]):\n",
    "            sum_sk += (S[k][j]**2)/LtailleLigne[k]\n",
    "        sum_skr.append(sum_sk)\n",
    "    #print(sum_skr)\n",
    "    sum_rms=0\n",
    "    for k in range(27):\n",
    "        sum_rms += sum_skr[k]\n",
    "    rms=sqrt(sum_rms)\n",
    "    return rms  \n",
    "\n",
    "def rms2(S):\n",
    "    #Sk_mean = moy_des_amps(S)\n",
    "    sum_skr=[]\n",
    "    for k in range(27):\n",
    "        sum_sk = fsum(np.multiply(S[k],S[k]))/LtailleLigne[k]\n",
    "        sum_skr.append(sum_sk)\n",
    "    #print(sum_skr)\n",
    "    sum_rms=0\n",
    "    for k in range(27):\n",
    "        sum_rms += sqrt(sum_skr[k])\n",
    "    rms = (sum_rms)\n",
    "    return rms  \n",
    "\n",
    "print(\"rms S0:\", rms(S0))\n",
    "print(\"rms S1:\", rms(S1))\n",
    "print(\"rms S2:\", rms(S2))\n",
    "print(\"rms S3:\", rms(S3))"
   ]
  },
  {
   "cell_type": "code",
   "execution_count": 59,
   "metadata": {},
   "outputs": [],
   "source": [
    "# maxfreq25 (amp max de la bande 25) approx     \n",
    "def maxfreq25(S):\n",
    "    maxfreq25=max(S[25])\n",
    "    return maxfreq25"
   ]
  },
  {
   "cell_type": "code",
   "execution_count": 60,
   "metadata": {},
   "outputs": [
    {
     "name": "stdout",
     "output_type": "stream",
     "text": [
      "skewness 1.7093226209089747\n"
     ]
    }
   ],
   "source": [
    "# skewness (asymétrie du spectre – importance des fréquences graves) skw = 0 => spectre symétrique\n",
    "def skewness0(S):\n",
    "    Sk_mean = moy_des_amps(S)\n",
    "    sum_sk=0\n",
    "    sum_skm=0\n",
    "    skewness = 0\n",
    "    for k in range(27):\n",
    "        sum_sk+=Sk_mean[k]*((f_c[k]-centroid(S))**3)\n",
    "        sum_skm+=Sk_mean[k]\n",
    "    if sum_skm > 0:\n",
    "        if sd(S) > 0:\n",
    "            skewness=(sum_sk/sum_skm)/(sd(S)**3)\n",
    "    return skewness\n",
    "\n",
    "def skewness(S):\n",
    "    Sk_mean = moy_des_amps(S)\n",
    "    sum_sk=0\n",
    "    sum_skm=0\n",
    "    for k in range(27):\n",
    "        sum_sk+=Sk_mean[k]*((f_c[k]-centroid(S))**3)\n",
    "        sum_skm+=Sk_mean[k]\n",
    "    skewness=(sum_sk/sum_skm)/(sd(S)**3)\n",
    "    return skewness\n",
    "\n",
    "\n",
    "print(\"skewness\", skewness(S1))\n"
   ]
  },
  {
   "cell_type": "code",
   "execution_count": 61,
   "metadata": {},
   "outputs": [
    {
     "name": "stdout",
     "output_type": "stream",
     "text": [
      "kurtosis 4.975074055912076\n"
     ]
    }
   ],
   "source": [
    "# kurtosis \n",
    "def kurtosis(S):\n",
    "    Sk_mean = moy_des_amps(S)\n",
    "    sum_kt=0\n",
    "    sum_skm=0\n",
    "    kurtosis = 0\n",
    "    for k in range(27):\n",
    "        sum_kt+=Sk_mean[k]*((f_c[k]-centroid(S))**4)\n",
    "        sum_skm+=Sk_mean[k]\n",
    "    if sum_skm > 0:\n",
    "        if sd(S) > 0:\n",
    "            kurtosis=(sum_kt/sum_skm)/(sd(S)**4)\n",
    "    return kurtosis\n",
    "\n",
    "print(\"kurtosis\", kurtosis(S1))"
   ]
  },
  {
   "cell_type": "code",
   "execution_count": 62,
   "metadata": {},
   "outputs": [],
   "source": [
    "# freq au dessus de laquelle on a moins de 15% de l'énergie\n",
    "def sp_rolloff(S):\n",
    "    Sk_mean = moy_des_amps(S)\n",
    "    sum_skm=0\n",
    "    sum_rf=0\n",
    "    for k in range(27):\n",
    "        sum_skm+=Sk_mean[k]\n",
    "    for k in range(27):\n",
    "        sum_rf+=Sk_mean[k]\n",
    "        if sum_rf>=0.85*sum_skm:\n",
    "            rf=f_c[k]\n",
    "            break\n",
    "    return rf"
   ]
  },
  {
   "cell_type": "markdown",
   "metadata": {},
   "source": [
    "## 4 Descripteurs temporels"
   ]
  },
  {
   "cell_type": "code",
   "execution_count": 63,
   "metadata": {},
   "outputs": [
    {
     "name": "stdout",
     "output_type": "stream",
     "text": [
      "variatemps 1 4.941940250431425\n",
      "variatemps 2 0.5972403404784095\n",
      "variatemps 3 5.2742613068426225\n",
      "variatemps 4 0.3052720012805067\n"
     ]
    },
    {
     "data": {
      "image/png": "[encoded data removed]",
      "text/plain": [
       "<Figure size 432x288 with 1 Axes>"
      ]
     },
     "metadata": {
      "needs_background": "light"
     },
     "output_type": "display_data"
    },
    {
     "data": {
      "image/png": "[encoded data removed]",
      "text/plain": [
       "<Figure size 432x288 with 1 Axes>"
      ]
     },
     "metadata": {
      "needs_background": "light"
     },
     "output_type": "display_data"
    }
   ],
   "source": [
    "# variabilité temporelle sur une bande\n",
    "def variatemps1 (bande):\n",
    "    var = 0\n",
    "    n = len(bande)\n",
    "    for j in range(n-1):\n",
    "        var += abs(bande[j]-bande[j+1])\n",
    "    return var/(n-1)\n",
    "\n",
    "#print (variatemp1([0,1, 2, -3]))\n",
    "\n",
    "def variatemps (S):\n",
    "    stS = 0\n",
    "    for k in range(27):\n",
    "        stS += variatemps1(S[k])\n",
    "        #print (\"S[k]:\", S[k])\n",
    "        #print (\"stS :\", stS)\n",
    "    return stS*1000/27   \n",
    "\n",
    "def Lvariatemps (S):\n",
    "    LstS = []\n",
    "    for k in range(27):\n",
    "        stS = variatemps1(S[k])\n",
    "        LstS.append(stS*1000)\n",
    "    return LstS   \n",
    " \n",
    "print(\"variatemps 1\", variatemps(S1))\n",
    "print(\"variatemps 2\", variatemps(S2))\n",
    "print(\"variatemps 3\", variatemps(S3))\n",
    "print(\"variatemps 4\", variatemps(S4))\n",
    "\n",
    "\n",
    "#********* graphic Lvariatemps Sx ***********\n",
    "def plot_variatemps(S):\n",
    "\n",
    "    X = np.arange(0, 27, 1)\n",
    "    Y = Lvariatemps(S)\n",
    "\n",
    "    plt.plot(X, Y, color='coral', linewidth=3)\n",
    "    #plt.grid()\n",
    "    #plt.xlim(x_min, x_max)\n",
    "    plt.ylim(0, 20.0)\n",
    "\n",
    "    plt.title(\"Lvariatemps par bande\", fontsize=10)\n",
    "    plt.ylabel('Lvariatemps')\n",
    "    plt.xlabel('bandes')\n",
    "\n",
    "    plt.show()\n",
    "\n",
    "plot_variatemps (S1)\n",
    "plot_variatemps (S3)"
   ]
  },
  {
   "cell_type": "code",
   "execution_count": 64,
   "metadata": {},
   "outputs": [
    {
     "name": "stdout",
     "output_type": "stream",
     "text": [
      "ecartTps_des_amps 1 : 4.214618694762926\n",
      "ecartTps_des_amps 2 : 2.2752163426204994\n",
      "ecartTps_des_amps 3 : 3.797274045311866\n",
      "ecartTps_des_amps 4 : 0.9907728407195441\n"
     ]
    }
   ],
   "source": [
    "# écart-type des variations temporelles dans une bande\n",
    "\n",
    "def ecartTpsAmps (S):\n",
    "    Sk_ecarts = []\n",
    "    for k in range(27):\n",
    "        moyk = fsum(S[k])/(4+2*k)\n",
    "        vark = 0\n",
    "        for j in range(4+2*k):\n",
    "            vark += pow(S[k][j] - moyk,2)\n",
    "        vark = vark/(4+2*k)\n",
    "        ecartk = sqrt(vark )\n",
    "        Sk_ecarts.append(ecartk)\n",
    "    return fsum(Sk_ecarts)*1000/27\n",
    "\n",
    "print(\"ecartTps_des_amps 1 :\",ecartTpsAmps(S1))\n",
    "print(\"ecartTps_des_amps 2 :\",ecartTpsAmps(S2))\n",
    "print(\"ecartTps_des_amps 3 :\",ecartTpsAmps(S3))\n",
    "print(\"ecartTps_des_amps 4 :\",ecartTpsAmps(S4))\n"
   ]
  },
  {
   "cell_type": "code",
   "execution_count": 65,
   "metadata": {},
   "outputs": [],
   "source": [
    "# nbre de fois qu'on traverse entre m+s et m-s\n",
    "# "
   ]
  },
  {
   "cell_type": "code",
   "execution_count": 66,
   "metadata": {},
   "outputs": [
    {
     "name": "stdout",
     "output_type": "stream",
     "text": [
      "0.227101\n",
      "0.07739185059645226\n"
     ]
    }
   ],
   "source": [
    "# similarité max & période dans une bande 0 = similaire\n",
    "# nbande entre 0 et 26\n",
    "  \n",
    "def dissimilar (S , k):\n",
    "    Lsimil = []\n",
    "    for i in range(2+k):\n",
    "        s = 0\n",
    "        for j in range(2+k):\n",
    "            s += fabs(S[k][j] - S[k][i+j+1])\n",
    "        Lsimil.append(s)\n",
    "    return Lsimil\n",
    "\n",
    "def dissimilar25(S):\n",
    "    return max(dissimilar(S, 25))\n",
    "    \n",
    "def dissimilar20(S):\n",
    "    return max(dissimilar(S, 20))\n",
    "\n",
    "def dissimilars(S):\n",
    "    LDiss = []\n",
    "    for i in range(k):\n",
    "        LDiss.append (mean(dissimilar(S, i)))\n",
    "    return mean(LDiss)\n",
    "\n",
    "print (dissimilar25(S3))\n",
    "print (dissimilars (S3))"
   ]
  },
  {
   "cell_type": "code",
   "execution_count": 67,
   "metadata": {},
   "outputs": [
    {
     "data": {
      "text/plain": [
       "0.2259787495431547"
      ]
     },
     "execution_count": 67,
     "metadata": {},
     "output_type": "execute_result"
    }
   ],
   "source": [
    "# proposition de période d'un \n",
    "def find1stMin(L):\n",
    "    \"donne la première valeur croissante après avoir passé le troisième quartile puis le premier\"\n",
    "    quant = quantiles(L, n=3)  \n",
    "    med1 = quant[0]\n",
    "    med3 = quant[1]\n",
    "    #print(\"meds :\", med1, \"- \", med3)\n",
    "    test = 0\n",
    "    val = 0\n",
    "    n = len(L)\n",
    "    result = 0\n",
    "    for i in range(n):\n",
    "        if (test == 0 and L[i]>med3):\n",
    "            test = 1\n",
    "        elif (test == 1 and L[i]<med1):\n",
    "            test = 2\n",
    "            val = L[i]\n",
    "        elif (test == 2 and val < L[i]):\n",
    "            result = val\n",
    "            test == 3\n",
    "            break\n",
    "        else :\n",
    "            val = L[i]            \n",
    "    return (result/(max (L)), (i-1)/n)\n",
    "\n",
    "def maxdist(L):\n",
    "    res = find1stMin(L)\n",
    "    return (res[0])\n",
    "\n",
    "def maxdist25(S):\n",
    "    return maxdist(dissimilar(S, 25))\n",
    "\n",
    "def maxdist20(S):\n",
    "    return maxdist(dissimilar(S, 20))\n",
    "    \n",
    "def period(Liste):\n",
    "    \"en %\"\n",
    "    res = find1stMin(Liste)\n",
    "    return (res[1])\n",
    "\n",
    "def period25 (S) :\n",
    "    return period(dissimilar(S, 25))\n",
    "    \n",
    "def period20 (S) :\n",
    "    return period(dissimilar(S, 20))\n",
    "    \n",
    "#find1stMin([1, 2, 3, 4, 3, 2.2, 1.1, 0, 1, 2.6, 3, 4, 5])   \n",
    "#find1stMin(similarity(S3, 25))\n",
    "#maxdist(similarity(S3, 25))\n",
    "#period20(S3)\n",
    "maxdist25(S3)"
   ]
  },
  {
   "cell_type": "code",
   "execution_count": 68,
   "metadata": {},
   "outputs": [
    {
     "data": {
      "image/png": "[encoded data removed]",
      "text/plain": [
       "<Figure size 432x288 with 1 Axes>"
      ]
     },
     "metadata": {
      "needs_background": "light"
     },
     "output_type": "display_data"
    }
   ],
   "source": [
    "#********* graphic Lvariatemps Sx ***********\n",
    "def plot_dissimilar(S , nbande):\n",
    "\n",
    "    X = np.arange(0, nbande+2, 1)\n",
    "    Y = dissimilar(S, nbande)\n",
    "\n",
    "    plt.plot(X, Y, color='coral', linewidth=3)\n",
    "    #plt.grid()\n",
    "    #plt.xlim(x_min, x_max)\n",
    "    plt.ylim(0, 1.0)\n",
    "\n",
    "    plt.title(\"Lvariatemps par bande\", fontsize=10)\n",
    "    plt.ylabel('Lvariatemps')\n",
    "    plt.xlabel('bandes')\n",
    "\n",
    "    plt.show()\n",
    "\n",
    "plot_dissimilar (S0, 25)"
   ]
  },
  {
   "cell_type": "code",
   "execution_count": 74,
   "metadata": {},
   "outputs": [
    {
     "name": "stdout",
     "output_type": "stream",
     "text": [
      "[[0.002026, 0.002477, 0.002865, 0.003214, 0.006091, 0.006671, 0.009469, 0.010426, 0.013828, 0.018287, 0.028387, 0.057809, 0.696218, 0.071105, 0.023932, 0.014335, 0.008833, 0.006143, 0.004276, 0.003004, 0.002185, 0.001577, 0.001156, 0.000859, 0.000647, 0.000502, 0.000404], [2e-06, 1e-06, 0.0, 1e-06, 1e-06, 1e-06, 1e-06, 1e-06, 2e-06, 2e-06, 1e-05, 4.55e-05, 0.706781, 0.0011884999999999999, 2e-06, 1e-06, 1e-06, 1e-06, 1e-06, 1e-06, 1.5e-06, 1.5e-06, 2e-06, 2.4999999999999998e-06, 2.4999999999999998e-06, 2.4999999999999998e-06, 3.5e-06]]\n",
      "rms sinus500 :  0.70701646126626 flux :  0.015427080464951707\n",
      "[[0.013217, 0.011013, 0.005256, 0.006498, 0.011236, 0.011588, 0.014844, 0.014765, 0.012807, 0.015249, 0.017064, 0.01672, 0.017676, 0.014975, 0.01735, 0.015201, 0.013433, 0.018089, 0.015785, 0.016018, 0.015355, 0.015866, 0.015314, 0.014329, 0.013415, 0.012559, 0.010191], [0.0133178, 0.011061, 0.0046878, 0.0051922, 0.011617800000000001, 0.0116202, 0.008544, 0.0139858, 0.0088874, 0.010186800000000001, 0.012529199999999999, 0.006753, 0.0119052, 0.004228199999999991, 0.008799600000000001, 0.0059635999999999925, 0.006529, 0.006401999999999996, 0.004165999999999989, 0.00841379999999999, 0.006151800000000006, 0.007739, 0.0063487999999999965, 0.003604999999999992, 0.00734059999999999, 0.004349199999999985, 0.00445], [0.0134752, 0.011226, 0.0048842, 0.0060376, 0.011042399999999999, 0.010875, 0.014775, 0.013608400000000003, 0.009737800000000005, 0.010281400000000001, 0.0120744, 0.012191, 0.014335200000000008, 0.010537600000000015, 0.012660800000000002, 0.012038800000000004, 0.009252, 0.014120600000000011, 0.009932200000000021, 0.010636600000000022, 0.011434399999999997, 0.011595, 0.010356200000000008, 0.009017800000000019, 0.008873800000000013, 0.008702200000000012, 0.007899], [0.013745799999999999, 0.011516, 0.0048246, 0.0052466, 0.010830999999999999, 0.0100492, 0.014624, 0.014898, 0.010808199999999999, 0.010240000000000003, 0.011646000000000004, 0.013218, 0.013675600000000007, 0.009199000000000018, 0.009013000000000021, 0.011685399999999997, 0.012901, 0.010567800000000009, 0.010093400000000023, 0.011346600000000021, 0.011564199999999997, 0.012412, 0.01040500000000001, 0.008577000000000019, 0.009443400000000013, 0.008824800000000008, 0.008], [0.0138212, 0.011593, 0.0046342, 0.0055882, 0.011064000000000001, 0.011663399999999999, 0.010433, 0.014734400000000002, 0.006671800000000008, 0.012305799999999999, 0.012022200000000016, 0.007047, 0.012698600000000008, 0.006099600000000031, 0.012011200000000003, 0.0060424000000000285, 0.003948, 0.0075490000000000175, 0.004097000000000042, 0.007416400000000036, 0.005636199999999981, 0.0056, 0.006533600000000015, 0.0037064000000000376, 0.006765600000000035, 0.004618200000000064, 0.003999]]\n",
      "rms PinkNoisePk_05Hz:  0.0578098138892505 flux :  0.038893671404434164 \n",
      "\n"
     ]
    }
   ],
   "source": [
    "# spectral flux\n",
    "\n",
    "def interpolA (bande, x):\n",
    "    \"x entre 0 et 1 - donne la valeur interpolée dans la liste de float de bande\"\n",
    "    n = len(bande)-1\n",
    "    if (x == 1):\n",
    "        result = bande[n]\n",
    "    else :\n",
    "        ninf = int(x * n)\n",
    "        nsup = ninf + 1\n",
    "        ainf = bande[ninf]\n",
    "        asup = bande[nsup]\n",
    "        dx = (x * n) - ninf\n",
    "        result = ainf + dx * (asup - ainf)\n",
    "        #print (\"ninf \", ninf, \"nsup \", nsup, \"ainf \", ainf, \"dx \", dx)\n",
    "    return result\n",
    "\n",
    "#print (interpolA ([0.19, 0.19, 0.69, 0.61, 0.13, 0.60], 0.1))\n",
    "\n",
    "def spectFlux (S, nvals):\n",
    "    table = []\n",
    "    for i in range (nvals) :\n",
    "        #print (i)\n",
    "        tablei = []\n",
    "        for k in range (27):\n",
    "            tablei.append(interpolA(S[k], i/nvals))\n",
    "        table.append(tablei)\n",
    "    print (table)\n",
    "    flux = 0\n",
    "    for i in range (nvals - 1):\n",
    "        for k in range (27):\n",
    "            flux += pow(table[i][k] - table[i+1][k],2) \n",
    "    return flux\n",
    "        \n",
    "        \n",
    "print (\"rms sinus500 : \", rms(S2), \"flux : \", spectFlux(S2, 2)/rms(S2))\n",
    "print (\"rms PinkNoisePk_05Hz: \", rms(S3), \"flux : \", spectFlux(S3, 5)/rms(S3), \"\\n\")\n",
    "\n",
    "def specFluxPente (S):\n",
    "    ()\n",
    "    "
   ]
  },
  {
   "cell_type": "code",
   "execution_count": 72,
   "metadata": {},
   "outputs": [
    {
     "data": {
      "text/plain": [
       "0"
      ]
     },
     "execution_count": 72,
     "metadata": {},
     "output_type": "execute_result"
    }
   ],
   "source": [
    "int(0.999)\n"
   ]
  },
  {
   "cell_type": "code",
   "execution_count": 306,
   "metadata": {},
   "outputs": [],
   "source": [
    "#********************** Analyses *********************\n",
    "#********************** Pour Excel *******************\n",
    "#*****************************************************\n",
    "\n",
    "class Analyse:\n",
    "    def __init__(self, filename, mc_min_eclow, midi_centroid, mc_plus_ecHi, midi_sp_slope, skewness, kurtosis, \n",
    "                 sp_rolloff, sp_flatness_Na, sp_flatness, sp_crest, rms, maxfreq25, variatemps, \n",
    "                 ecartTpsAmps, dissimilars, dissimilar25, dissimilar20, maxdist25, maxdist20, period25, period20):\n",
    "        self.filename = filename\n",
    "        self.mc_min_eclow=mc_min_eclow\n",
    "        self.midi_centroid=midi_centroid\n",
    "        self.mc_plus_ecHi=mc_plus_ecHi\n",
    "        self.midi_sp_slope=midi_sp_slope\n",
    "        self.skewness=skewness\n",
    "        self.kurtosis=kurtosis\n",
    "        self.sp_rolloff=sp_rolloff\n",
    "        self.sp_flatness_Na=sp_flatness_Na\n",
    "        self.sp_flatness=sp_flatness\n",
    "        self.sp_crest=sp_crest\n",
    "        self.rms=rms\n",
    "        self.maxfreq25=maxfreq25\n",
    "        self.variatemps=variatemps\n",
    "        self.ecartTpsAmps=ecartTpsAmps\n",
    "        self.dissimilars=dissimilars\n",
    "        self.dissimilar25=dissimilar25\n",
    "        self.dissimilar20=dissimilar20\n",
    "        self.maxdist25=maxdist25\n",
    "        self.maxdist20=maxdist20\n",
    "        self.period25=period25\n",
    "        self.period20=period20\n",
    "\n",
    "\n",
    "with open('../Xparams_Kawa.txt', 'w') as f:\n",
    "    for fichier in filelist:\n",
    "        #print (fichier, file=f)\n",
    "        #print (centroid(fichier))\n",
    "        print(fichier + \"\\t\" \n",
    "              #+str(timetxt(fichier))+\"\\t\"\n",
    "              +str(mc_min_eclow(read(fichier)))+\"\\t\"\n",
    "              +str(midi_centroid(read(fichier)))+\"\\t\"\n",
    "              +str(mc_plus_ecHi(read(fichier)))+\"\\t\"\n",
    "              +str(midi_sp_slope(read(fichier)))+\"\\t\"\n",
    "              +str(skewness(read(fichier)))+\"\\t\"\n",
    "              +str(kurtosis(read(fichier)))+\"\\t\"\n",
    "              +str(sp_rolloff(read(fichier)))+\"\\t\"\n",
    "              +str(sp_flatness_Na(read(fichier)))+\"\\t\"\n",
    "              +str(sp_flatness(read(fichier)))+\"\\t\"\n",
    "              +str(sp_crest(read(fichier)))+\"\\t\"\n",
    "              +str(rms(read(fichier)))+\"\\t\"\n",
    "              +str(maxfreq25(read(fichier)))+\"\\t\"\n",
    "              +str(variatemps(read(fichier)))+\"\\t\"\n",
    "              +str(ecartTpsAmps(read(fichier)))+\"\\t\"\n",
    "              +str(dissimilars(read(fichier)))+\"\\t\"\n",
    "              +str(dissimilar25(read(fichier)))+\"\\t\"\n",
    "              +str(dissimilar20(read(fichier)))+\"\\t\"\n",
    "              +str(maxdist25(read(fichier)))+\"\\t\"\n",
    "              +str(maxdist20(read(fichier)))+\"\\t\"\n",
    "              +str(period25(read(fichier)))+\"\\t\"\n",
    "              +str(period20(read(fichier)))\n",
    "              , file=f)\n",
    "\n"
   ]
  },
  {
   "cell_type": "code",
   "execution_count": null,
   "metadata": {},
   "outputs": [],
   "source": []
  }
 ],
 "metadata": {
  "kernelspec": {
   "display_name": "Python 3",
   "language": "python",
   "name": "python3"
  },
  "language_info": {
   "codemirror_mode": {
    "name": "ipython",
    "version": 3
   },
   "file_extension": ".py",
   "mimetype": "text/x-python",
   "name": "python",
   "nbconvert_exporter": "python",
   "pygments_lexer": "ipython3",
   "version": "3.8.5"
  }
 },
 "nbformat": 4,
 "nbformat_minor": 4
}
